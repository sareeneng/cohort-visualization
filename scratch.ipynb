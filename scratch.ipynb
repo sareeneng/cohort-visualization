{
 "cells": [
  {
   "cell_type": "code",
   "execution_count": 2,
   "metadata": {
    "ExecuteTime": {
     "end_time": "2019-12-19T15:25:02.347489Z",
     "start_time": "2019-12-19T15:24:42.158489Z"
    }
   },
   "outputs": [
    {
     "name": "stderr",
     "output_type": "stream",
     "text": [
      " 2019-12-19 10:25:02,321 - DEBUG - backend module://ipykernel.pylab.backend_inline version unknown\n"
     ]
    }
   ],
   "source": [
    "import pandas as pd\n",
    "import csv\n",
    "import os\n",
    "import time\n",
    "from collections import defaultdict\n",
    "import numpy as np\n",
    "import itertools\n",
    "import db_structure\n",
    "import db_structure_v2\n",
    "import networkx as nx\n",
    "from imp import reload\n",
    "import matplotlib.pyplot as plt\n",
    "import utilities as u\n",
    "from flask import jsonify\n",
    "import logging\n",
    "# import exceptions\n",
    "from pandas.api.types import is_string_dtype\n",
    "from pandas.api.types import is_numeric_dtype\n",
    "\n",
    "logging.basicConfig(format=' %(asctime)s - %(levelname)s - %(message)s')\n",
    "logger = logging.getLogger()\n",
    "logger.setLevel(logging.DEBUG)\n",
    "%load_ext autoreload\n",
    "%aimport -web\n",
    "%autoreload 2"
   ]
  },
  {
   "cell_type": "code",
   "execution_count": null,
   "metadata": {},
   "outputs": [],
   "source": [
    "draw_db = db\n",
    "\n",
    "G = nx.DiGraph()\n",
    "G.add_nodes_from(draw_db.table_names)\n",
    "for table_name in draw_db.table_names:\n",
    "    for sibling in draw_db.find_table_siblings(table_name):\n",
    "        G.add_edge(table_name, sibling)\n",
    "        G.add_edge(sibling, table_name)\n",
    "    for child in draw_db.find_table_children(table_name):\n",
    "        G.add_edge(table_name, child)\n",
    "plt.figure(figsize=(10,10))\n",
    "\n",
    "#draw with networkx built-ins\n",
    "nx.draw_networkx(G, node_shape=\"None\", width=0.2)\n",
    "\n",
    "#OR\n",
    "\n",
    "#draw using pygraphviz\n",
    "#A = nx.nx_agraph.to_agraph(G)\n",
    "#H = nx.nx_agraph.from_agraph(A)\n",
    "#nx.draw_spring(H, node_shape=\"None\", with_labels=True, width=0.2)"
   ]
  },
  {
   "cell_type": "code",
   "execution_count": 150,
   "metadata": {
    "ExecuteTime": {
     "end_time": "2019-12-17T18:51:41.206229Z",
     "start_time": "2019-12-17T18:51:39.303229Z"
    }
   },
   "outputs": [],
   "source": [
    "x = db_structure_v2.DBMaker(directory_path='datasets\\\\TOPICC')"
   ]
  },
  {
   "cell_type": "code",
   "execution_count": 151,
   "metadata": {
    "ExecuteTime": {
     "end_time": "2019-12-17T18:52:00.861229Z",
     "start_time": "2019-12-17T18:51:41.211229Z"
    }
   },
   "outputs": [
    {
     "name": "stderr",
     "output_type": "stream",
     "text": [
      " 2019-12-17 13:51:43,159 - INFO - Writing CARDIACPROCEDURES to db\n",
      " 2019-12-17 13:51:44,634 - INFO - Writing CARDIACSURGERY to db\n",
      " 2019-12-17 13:51:45,263 - INFO - Writing CAREPROCESSES to db\n",
      " 2019-12-17 13:51:46,342 - INFO - Writing CATASTROPHICEVENTS to db\n",
      " 2019-12-17 13:51:46,656 - INFO - Writing CPR to db\n",
      " 2019-12-17 13:51:47,021 - INFO - Writing DEATH to db\n",
      " 2019-12-17 13:51:47,562 - INFO - Writing HOSPITALADMIT to db\n",
      " 2019-12-17 13:51:49,261 - INFO - Writing HOSPITALADMIT_CE to db\n",
      " 2019-12-17 13:51:49,696 - INFO - Writing HOSPITALDISCHARGE to db\n",
      " 2019-12-17 13:51:51,045 - INFO - Writing LIMITOFCARE to db\n",
      " 2019-12-17 13:51:51,511 - INFO - Writing PHYSIOSTATUS to db\n",
      " 2019-12-17 13:51:53,854 - INFO - Writing PICUADMIT to db\n",
      " 2019-12-17 13:51:55,175 - INFO - Writing PICUADMIT_ADMITSECONDDX to db\n",
      " 2019-12-17 13:51:55,802 - INFO - Writing PICUADMIT_AHD to db\n",
      " 2019-12-17 13:51:56,174 - INFO - Writing PICUADMIT_CHD to db\n",
      " 2019-12-17 13:51:56,622 - INFO - Writing PICUADMIT_CHRONICDX to db\n",
      " 2019-12-17 13:51:57,476 - INFO - Writing PICUDISCHARGE to db\n",
      " 2019-12-17 13:51:58,997 - INFO - Writing PICUDISCHARGE_DISCHRONICDX to db\n",
      " 2019-12-17 13:51:59,440 - INFO - Writing PICUDISCHARGE_DISSECONDDX to db\n",
      " 2019-12-17 13:51:59,977 - INFO - Writing SURGERY to db\n",
      " 2019-12-17 13:52:00,840 - INFO - Finished writing TOPICC.db\n",
      " 2019-12-17 13:52:00,842 - INFO - Dumping metadata to TOPICC.metadata\n"
     ]
    }
   ],
   "source": [
    "x.create_db(overwrite=True)"
   ]
  },
  {
   "cell_type": "code",
   "execution_count": 32,
   "metadata": {
    "ExecuteTime": {
     "end_time": "2019-12-19T15:50:26.674489Z",
     "start_time": "2019-12-19T15:50:24.788489Z"
    },
    "scrolled": true
   },
   "outputs": [],
   "source": [
    "y = db_structure_v2.DBLinker(directory_path='datasets\\\\TOPICC')"
   ]
  },
  {
   "cell_type": "code",
   "execution_count": 33,
   "metadata": {
    "ExecuteTime": {
     "end_time": "2019-12-19T15:50:28.564489Z",
     "start_time": "2019-12-19T15:50:26.823489Z"
    }
   },
   "outputs": [
    {
     "name": "stderr",
     "output_type": "stream",
     "text": [
      " 2019-12-19 10:50:28,554 - DEBUG - ['CARDIACPROCEDURES', 'CARDIACSURGERY', 'CAREPROCESSES', 'CATASTROPHICEVENTS', 'CPR', 'DEATH', 'HOSPITALADMIT', 'HOSPITALADMIT_CE', 'HOSPITALDISCHARGE', 'LIMITOFCARE', 'PHYSIOSTATUS', 'PICUADMIT', 'PICUADMIT_ADMITSECONDDX', 'PICUADMIT_AHD', 'PICUADMIT_CHD', 'PICUADMIT_CHRONICDX', 'PICUDISCHARGE', 'PICUDISCHARGE_DISCHRONICDX', 'PICUDISCHARGE_DISSECONDDX', 'SURGERY']\n"
     ]
    }
   ],
   "source": [
    "y.add_global_fk('PudID')"
   ]
  },
  {
   "cell_type": "code",
   "execution_count": 34,
   "metadata": {
    "ExecuteTime": {
     "end_time": "2019-12-19T15:50:30.690489Z",
     "start_time": "2019-12-19T15:50:28.568489Z"
    }
   },
   "outputs": [],
   "source": [
    "y.finalize()"
   ]
  },
  {
   "cell_type": "code",
   "execution_count": 38,
   "metadata": {
    "ExecuteTime": {
     "end_time": "2019-12-19T15:51:07.819489Z",
     "start_time": "2019-12-19T15:51:06.145489Z"
    }
   },
   "outputs": [],
   "source": [
    "z = db_structure_v2.DBExtractor(directory_path='datasets\\\\TOPICC')"
   ]
  },
  {
   "cell_type": "code",
   "execution_count": 166,
   "metadata": {
    "ExecuteTime": {
     "end_time": "2019-12-17T19:22:06.133229Z",
     "start_time": "2019-12-17T19:22:04.219229Z"
    }
   },
   "outputs": [
    {
     "data": {
      "text/plain": [
       "[]"
      ]
     },
     "execution_count": 166,
     "metadata": {},
     "output_type": "execute_result"
    }
   ],
   "source": [
    "z.find_paths_between_tables('CPR', 'CARDIACPROCEDURES')"
   ]
  },
  {
   "cell_type": "code",
   "execution_count": 171,
   "metadata": {
    "ExecuteTime": {
     "end_time": "2019-12-17T19:33:29.770229Z",
     "start_time": "2019-12-17T19:33:27.753229Z"
    }
   },
   "outputs": [
    {
     "data": {
      "text/plain": [
       "[['CPR', 'HOSPITALADMIT', 'DEATH'], ['CPR', 'DEATH', 'HOSPITALADMIT']]"
      ]
     },
     "execution_count": 171,
     "metadata": {},
     "output_type": "execute_result"
    }
   ],
   "source": [
    "z.find_paths_multi_tables(['HOSPITALADMIT', 'DEATH', 'CPR'])"
   ]
  },
  {
   "cell_type": "code",
   "execution_count": 47,
   "metadata": {
    "ExecuteTime": {
     "end_time": "2019-12-19T15:55:54.236489Z",
     "start_time": "2019-12-19T15:55:52.624489Z"
    }
   },
   "outputs": [
    {
     "name": "stderr",
     "output_type": "stream",
     "text": [
      " 2019-12-19 10:55:54,171 - INFO - SELECT HOSPITALADMIT.PudID AS PatientID, HOSPITALADMIT.Sex AS Sex, CAREPROCESSES.MechVent AS MechVent, DEATH.DeathMode AS DeathMode FROM HOSPITALADMIT JOIN CAREPROCESSES ON HOSPITALADMIT.PudID = CAREPROCESSES.PudID JOIN DEATH ON CAREPROCESSES.PudID = DEATH.PudID \n"
     ]
    },
    {
     "name": "stdout",
     "output_type": "stream",
     "text": [
      "0.04999995231628418\n"
     ]
    }
   ],
   "source": [
    "path = ['HOSPITALADMIT', 'CAREPROCESSES', 'DEATH']\n",
    "start = time.time()\n",
    "df = z.get_df_from_path(path, table_columns_of_interest=[('HOSPITALADMIT', 'PudID'), ('HOSPITALADMIT', 'Sex'), ('CAREPROCESSES', 'MechVent'), ('DEATH', 'DeathMode')])\n",
    "end = time.time()\n",
    "print(end-start)"
   ]
  },
  {
   "cell_type": "code",
   "execution_count": 48,
   "metadata": {
    "ExecuteTime": {
     "end_time": "2019-12-19T15:55:56.017489Z",
     "start_time": "2019-12-19T15:55:54.243489Z"
    }
   },
   "outputs": [
    {
     "data": {
      "text/html": [
       "<div>\n",
       "<style scoped>\n",
       "    .dataframe tbody tr th:only-of-type {\n",
       "        vertical-align: middle;\n",
       "    }\n",
       "\n",
       "    .dataframe tbody tr th {\n",
       "        vertical-align: top;\n",
       "    }\n",
       "\n",
       "    .dataframe thead th {\n",
       "        text-align: right;\n",
       "    }\n",
       "</style>\n",
       "<table border=\"1\" class=\"dataframe\">\n",
       "  <thead>\n",
       "    <tr style=\"text-align: right;\">\n",
       "      <th></th>\n",
       "      <th>PatientID</th>\n",
       "      <th>Sex</th>\n",
       "      <th>MechVent</th>\n",
       "      <th>DeathMode</th>\n",
       "    </tr>\n",
       "  </thead>\n",
       "  <tbody>\n",
       "    <tr>\n",
       "      <td>0</td>\n",
       "      <td>27</td>\n",
       "      <td>Female</td>\n",
       "      <td>Yes</td>\n",
       "      <td>Withdrawal of care</td>\n",
       "    </tr>\n",
       "    <tr>\n",
       "      <td>1</td>\n",
       "      <td>78</td>\n",
       "      <td>Male</td>\n",
       "      <td>Yes</td>\n",
       "      <td>Withdrawal of care</td>\n",
       "    </tr>\n",
       "    <tr>\n",
       "      <td>2</td>\n",
       "      <td>125</td>\n",
       "      <td>Female</td>\n",
       "      <td>Yes</td>\n",
       "      <td>Failed resuscitation</td>\n",
       "    </tr>\n",
       "    <tr>\n",
       "      <td>3</td>\n",
       "      <td>154</td>\n",
       "      <td>Female</td>\n",
       "      <td>Yes</td>\n",
       "      <td>Failed resuscitation</td>\n",
       "    </tr>\n",
       "    <tr>\n",
       "      <td>4</td>\n",
       "      <td>155</td>\n",
       "      <td>Male</td>\n",
       "      <td>Yes</td>\n",
       "      <td>Withdrawal of care</td>\n",
       "    </tr>\n",
       "    <tr>\n",
       "      <td>...</td>\n",
       "      <td>...</td>\n",
       "      <td>...</td>\n",
       "      <td>...</td>\n",
       "      <td>...</td>\n",
       "    </tr>\n",
       "    <tr>\n",
       "      <td>270</td>\n",
       "      <td>9925</td>\n",
       "      <td>Female</td>\n",
       "      <td>Yes</td>\n",
       "      <td>Brain death</td>\n",
       "    </tr>\n",
       "    <tr>\n",
       "      <td>271</td>\n",
       "      <td>9932</td>\n",
       "      <td>Male</td>\n",
       "      <td>No</td>\n",
       "      <td>Withdrawal of care</td>\n",
       "    </tr>\n",
       "    <tr>\n",
       "      <td>272</td>\n",
       "      <td>9964</td>\n",
       "      <td>Male</td>\n",
       "      <td>Yes</td>\n",
       "      <td>Brain death</td>\n",
       "    </tr>\n",
       "    <tr>\n",
       "      <td>273</td>\n",
       "      <td>9990</td>\n",
       "      <td>Male</td>\n",
       "      <td>No</td>\n",
       "      <td>Withdrawal of care</td>\n",
       "    </tr>\n",
       "    <tr>\n",
       "      <td>274</td>\n",
       "      <td>10039</td>\n",
       "      <td>Male</td>\n",
       "      <td>Yes</td>\n",
       "      <td>Withdrawal of care</td>\n",
       "    </tr>\n",
       "  </tbody>\n",
       "</table>\n",
       "<p>275 rows × 4 columns</p>\n",
       "</div>"
      ],
      "text/plain": [
       "     PatientID     Sex MechVent             DeathMode\n",
       "0           27  Female      Yes    Withdrawal of care\n",
       "1           78    Male      Yes    Withdrawal of care\n",
       "2          125  Female      Yes  Failed resuscitation\n",
       "3          154  Female      Yes  Failed resuscitation\n",
       "4          155    Male      Yes    Withdrawal of care\n",
       "..         ...     ...      ...                   ...\n",
       "270       9925  Female      Yes           Brain death\n",
       "271       9932    Male       No    Withdrawal of care\n",
       "272       9964    Male      Yes           Brain death\n",
       "273       9990    Male       No    Withdrawal of care\n",
       "274      10039    Male      Yes    Withdrawal of care\n",
       "\n",
       "[275 rows x 4 columns]"
      ]
     },
     "execution_count": 48,
     "metadata": {},
     "output_type": "execute_result"
    }
   ],
   "source": [
    "df"
   ]
  },
  {
   "cell_type": "code",
   "execution_count": 41,
   "metadata": {
    "ExecuteTime": {
     "end_time": "2019-12-19T15:52:17.856489Z",
     "start_time": "2019-12-19T15:52:15.943489Z"
    }
   },
   "outputs": [
    {
     "data": {
      "text/plain": [
       "Withdrawal of care      141\n",
       "Failed resuscitation     53\n",
       "Limitation of care       46\n",
       "Brain death              35\n",
       "Name: DeathMode, dtype: int64"
      ]
     },
     "execution_count": 41,
     "metadata": {},
     "output_type": "execute_result"
    }
   ],
   "source": [
    "df['DeathMode'].value_counts()"
   ]
  },
  {
   "cell_type": "code",
   "execution_count": 260,
   "metadata": {
    "ExecuteTime": {
     "end_time": "2019-12-18T15:21:04.318229Z",
     "start_time": "2019-12-18T15:21:02.523229Z"
    }
   },
   "outputs": [
    {
     "name": "stderr",
     "output_type": "stream",
     "text": [
      " 2019-12-18 10:21:04,282 - DEBUG - Aggregate by ['AdmitThroughED', 'Sex']\n"
     ]
    }
   ],
   "source": [
    "filters = {\n",
    "    'AdmitThroughED': {'type': 'list', 'filter': ['Yes', 'No']},\n",
    "    'Sex': {'type': 'list', 'filter': ['Male', 'Female']}\n",
    "}\n",
    "new_df = z.aggregate_df(df, groupby_columns=['AdmitThroughED', 'Sex'], filters=filters)"
   ]
  },
  {
   "cell_type": "code",
   "execution_count": 278,
   "metadata": {
    "ExecuteTime": {
     "end_time": "2019-12-18T15:37:50.397229Z",
     "start_time": "2019-12-18T15:37:48.401229Z"
    }
   },
   "outputs": [
    {
     "data": {
      "text/plain": [
       "['No_Female', 'No_Male', 'Yes_Female', 'Yes_Male']"
      ]
     },
     "execution_count": 278,
     "metadata": {},
     "output_type": "execute_result"
    }
   ],
   "source": [
    "sorted(new_df.loc[:,'groupby_labels'].unique(), key=lambda x: x.upper())"
   ]
  },
  {
   "cell_type": "code",
   "execution_count": 281,
   "metadata": {
    "ExecuteTime": {
     "end_time": "2019-12-18T16:34:01.606229Z",
     "start_time": "2019-12-18T16:34:00.202229Z"
    }
   },
   "outputs": [
    {
     "ename": "ValueError",
     "evalue": "too many values to unpack (expected 2)",
     "output_type": "error",
     "traceback": [
      "\u001b[1;31m---------------------------------------------------------------------------\u001b[0m",
      "\u001b[1;31mValueError\u001b[0m                                Traceback (most recent call last)",
      "\u001b[1;32m<ipython-input-281-c1a9d86bccf2>\u001b[0m in \u001b[0;36m<module>\u001b[1;34m()\u001b[0m\n\u001b[1;32m----> 1\u001b[1;33m \u001b[0mx\u001b[0m\u001b[1;33m,\u001b[0m \u001b[0my\u001b[0m \u001b[1;33m=\u001b[0m \u001b[0mpd\u001b[0m\u001b[1;33m.\u001b[0m\u001b[0mcut\u001b[0m\u001b[1;33m(\u001b[0m\u001b[0mnew_df\u001b[0m\u001b[1;33m[\u001b[0m\u001b[1;34m'Count'\u001b[0m\u001b[1;33m]\u001b[0m\u001b[1;33m,\u001b[0m \u001b[0mbins\u001b[0m\u001b[1;33m=\u001b[0m\u001b[1;36m2\u001b[0m\u001b[1;33m)\u001b[0m\u001b[1;33m\u001b[0m\u001b[0m\n\u001b[0m",
      "\u001b[1;31mValueError\u001b[0m: too many values to unpack (expected 2)"
     ]
    }
   ],
   "source": [
    "x, y = pd.cut(new_df['Count'], bins=2)"
   ]
  },
  {
   "cell_type": "code",
   "execution_count": 283,
   "metadata": {
    "ExecuteTime": {
     "end_time": "2019-12-18T16:37:32.283229Z",
     "start_time": "2019-12-18T16:37:30.541229Z"
    }
   },
   "outputs": [
    {
     "name": "stdout",
     "output_type": "stream",
     "text": [
      "(1, 2)\n"
     ]
    }
   ],
   "source": [
    "for i in u.pairwise([1,2]):\n",
    "    print(i)"
   ]
  },
  {
   "cell_type": "code",
   "execution_count": 284,
   "metadata": {
    "ExecuteTime": {
     "end_time": "2019-12-18T16:44:27.148229Z",
     "start_time": "2019-12-18T16:44:23.982229Z"
    }
   },
   "outputs": [
    {
     "data": {
      "text/plain": [
       "['3']"
      ]
     },
     "execution_count": 284,
     "metadata": {},
     "output_type": "execute_result"
    }
   ],
   "source": [
    "'3'.split('.')"
   ]
  },
  {
   "cell_type": "code",
   "execution_count": 285,
   "metadata": {
    "ExecuteTime": {
     "end_time": "2019-12-18T18:20:32.054229Z",
     "start_time": "2019-12-18T18:20:30.007229Z"
    }
   },
   "outputs": [
    {
     "data": {
      "text/plain": [
       "'(5, 3)'"
      ]
     },
     "execution_count": 285,
     "metadata": {},
     "output_type": "execute_result"
    }
   ],
   "source": [
    "str((5, 3))"
   ]
  },
  {
   "cell_type": "code",
   "execution_count": 286,
   "metadata": {
    "ExecuteTime": {
     "end_time": "2019-12-18T18:21:57.000229Z",
     "start_time": "2019-12-18T18:21:54.528229Z"
    }
   },
   "outputs": [
    {
     "name": "stderr",
     "output_type": "stream",
     "text": [
      " 2019-12-18 13:21:56,268 - INFO - SELECT HOSPITALADMIT.Sex, CAREPROCESSES.MechVent, PHYSIOSTATUS.LowpH FROM HOSPITALADMIT JOIN CAREPROCESSES ON HOSPITALADMIT.PudID = CAREPROCESSES.PudID JOIN PHYSIOSTATUS ON CAREPROCESSES.PudID = PHYSIOSTATUS.PudID \n"
     ]
    }
   ],
   "source": [
    "path = ['HOSPITALADMIT', 'CAREPROCESSES', 'PHYSIOSTATUS']\n",
    "df = z.get_df_from_path(path, table_columns_of_interest=['HOSPITALADMIT.Sex', 'CAREPROCESSES.MechVent', 'PHYSIOSTATUS.LowpH'])"
   ]
  },
  {
   "cell_type": "code",
   "execution_count": 305,
   "metadata": {
    "ExecuteTime": {
     "end_time": "2019-12-18T18:50:48.862229Z",
     "start_time": "2019-12-18T18:50:47.167229Z"
    }
   },
   "outputs": [
    {
     "name": "stderr",
     "output_type": "stream",
     "text": [
      " 2019-12-18 13:50:48,644 - DEBUG - Aggregate by ['MechVent', 'LowpH']\n",
      " 2019-12-18 13:50:48,646 - DEBUG - Aggregate for Sex\n"
     ]
    },
    {
     "data": {
      "text/html": [
       "<div>\n",
       "<style scoped>\n",
       "    .dataframe tbody tr th:only-of-type {\n",
       "        vertical-align: middle;\n",
       "    }\n",
       "\n",
       "    .dataframe tbody tr th {\n",
       "        vertical-align: top;\n",
       "    }\n",
       "\n",
       "    .dataframe thead th {\n",
       "        text-align: right;\n",
       "    }\n",
       "</style>\n",
       "<table border=\"1\" class=\"dataframe\">\n",
       "  <thead>\n",
       "    <tr style=\"text-align: right;\">\n",
       "      <th>Sex</th>\n",
       "      <th>Female</th>\n",
       "      <th>Male</th>\n",
       "      <th>groupby_labels</th>\n",
       "    </tr>\n",
       "  </thead>\n",
       "  <tbody>\n",
       "    <tr>\n",
       "      <td>0</td>\n",
       "      <td>4</td>\n",
       "      <td>3</td>\n",
       "      <td>Yes_(6.79, 6.81]</td>\n",
       "    </tr>\n",
       "    <tr>\n",
       "      <td>1</td>\n",
       "      <td>0</td>\n",
       "      <td>2</td>\n",
       "      <td>Yes_(6.81, 6.83]</td>\n",
       "    </tr>\n",
       "    <tr>\n",
       "      <td>2</td>\n",
       "      <td>5</td>\n",
       "      <td>1</td>\n",
       "      <td>Yes_(6.83, 6.85]</td>\n",
       "    </tr>\n",
       "    <tr>\n",
       "      <td>3</td>\n",
       "      <td>5</td>\n",
       "      <td>8</td>\n",
       "      <td>Yes_(6.85, 6.9]</td>\n",
       "    </tr>\n",
       "  </tbody>\n",
       "</table>\n",
       "</div>"
      ],
      "text/plain": [
       "Sex  Female  Male    groupby_labels\n",
       "0         4     3  Yes_(6.79, 6.81]\n",
       "1         0     2  Yes_(6.81, 6.83]\n",
       "2         5     1  Yes_(6.83, 6.85]\n",
       "3         5     8   Yes_(6.85, 6.9]"
      ]
     },
     "execution_count": 305,
     "metadata": {},
     "output_type": "execute_result"
    }
   ],
   "source": [
    "filters = {\n",
    "    'MechVent': {'type': 'list', 'filter': ['Yes']},\n",
    "    'LowpH': {'type': 'range', 'filter': {'min': 6.8, 'max': 6.9, 'bins': 4}},\n",
    "    'Sex': None\n",
    "}\n",
    "\n",
    "z.aggregate_df(df, groupby_columns=['MechVent', 'LowpH'], filters=filters, aggregate_column='Sex')"
   ]
  },
  {
   "cell_type": "code",
   "execution_count": 297,
   "metadata": {
    "ExecuteTime": {
     "end_time": "2019-12-18T18:24:14.434229Z",
     "start_time": "2019-12-18T18:24:12.859229Z"
    }
   },
   "outputs": [
    {
     "data": {
      "text/plain": [
       "20"
      ]
     },
     "execution_count": 297,
     "metadata": {},
     "output_type": "execute_result"
    }
   ],
   "source": [
    "len(f)"
   ]
  },
  {
   "cell_type": "code",
   "execution_count": 298,
   "metadata": {
    "ExecuteTime": {
     "end_time": "2019-12-18T18:24:16.114229Z",
     "start_time": "2019-12-18T18:24:14.485229Z"
    }
   },
   "outputs": [
    {
     "data": {
      "text/html": [
       "<div>\n",
       "<style scoped>\n",
       "    .dataframe tbody tr th:only-of-type {\n",
       "        vertical-align: middle;\n",
       "    }\n",
       "\n",
       "    .dataframe tbody tr th {\n",
       "        vertical-align: top;\n",
       "    }\n",
       "\n",
       "    .dataframe thead th {\n",
       "        text-align: right;\n",
       "    }\n",
       "</style>\n",
       "<table border=\"1\" class=\"dataframe\">\n",
       "  <thead>\n",
       "    <tr style=\"text-align: right;\">\n",
       "      <th></th>\n",
       "      <th>Sex</th>\n",
       "      <th>MechVent</th>\n",
       "      <th>LowpH</th>\n",
       "    </tr>\n",
       "  </thead>\n",
       "  <tbody>\n",
       "    <tr>\n",
       "      <td>320</td>\n",
       "      <td>Male</td>\n",
       "      <td>Yes</td>\n",
       "      <td>6.80</td>\n",
       "    </tr>\n",
       "    <tr>\n",
       "      <td>9104</td>\n",
       "      <td>Male</td>\n",
       "      <td>Yes</td>\n",
       "      <td>6.80</td>\n",
       "    </tr>\n",
       "    <tr>\n",
       "      <td>5035</td>\n",
       "      <td>Male</td>\n",
       "      <td>Yes</td>\n",
       "      <td>6.80</td>\n",
       "    </tr>\n",
       "    <tr>\n",
       "      <td>6915</td>\n",
       "      <td>Male</td>\n",
       "      <td>Yes</td>\n",
       "      <td>6.82</td>\n",
       "    </tr>\n",
       "    <tr>\n",
       "      <td>6707</td>\n",
       "      <td>Male</td>\n",
       "      <td>Yes</td>\n",
       "      <td>6.83</td>\n",
       "    </tr>\n",
       "    <tr>\n",
       "      <td>7723</td>\n",
       "      <td>Male</td>\n",
       "      <td>Yes</td>\n",
       "      <td>6.85</td>\n",
       "    </tr>\n",
       "    <tr>\n",
       "      <td>2975</td>\n",
       "      <td>Male</td>\n",
       "      <td>Yes</td>\n",
       "      <td>6.86</td>\n",
       "    </tr>\n",
       "    <tr>\n",
       "      <td>517</td>\n",
       "      <td>Male</td>\n",
       "      <td>Yes</td>\n",
       "      <td>6.87</td>\n",
       "    </tr>\n",
       "    <tr>\n",
       "      <td>986</td>\n",
       "      <td>Male</td>\n",
       "      <td>Yes</td>\n",
       "      <td>6.87</td>\n",
       "    </tr>\n",
       "    <tr>\n",
       "      <td>9827</td>\n",
       "      <td>Male</td>\n",
       "      <td>Yes</td>\n",
       "      <td>6.89</td>\n",
       "    </tr>\n",
       "    <tr>\n",
       "      <td>546</td>\n",
       "      <td>Male</td>\n",
       "      <td>Yes</td>\n",
       "      <td>6.89</td>\n",
       "    </tr>\n",
       "    <tr>\n",
       "      <td>4373</td>\n",
       "      <td>Male</td>\n",
       "      <td>Yes</td>\n",
       "      <td>6.90</td>\n",
       "    </tr>\n",
       "    <tr>\n",
       "      <td>5369</td>\n",
       "      <td>Male</td>\n",
       "      <td>Yes</td>\n",
       "      <td>6.90</td>\n",
       "    </tr>\n",
       "    <tr>\n",
       "      <td>6725</td>\n",
       "      <td>Male</td>\n",
       "      <td>Yes</td>\n",
       "      <td>6.90</td>\n",
       "    </tr>\n",
       "    <tr>\n",
       "      <td>2492</td>\n",
       "      <td>Male</td>\n",
       "      <td>Yes</td>\n",
       "      <td>6.91</td>\n",
       "    </tr>\n",
       "    <tr>\n",
       "      <td>1050</td>\n",
       "      <td>Male</td>\n",
       "      <td>Yes</td>\n",
       "      <td>6.91</td>\n",
       "    </tr>\n",
       "    <tr>\n",
       "      <td>981</td>\n",
       "      <td>Male</td>\n",
       "      <td>Yes</td>\n",
       "      <td>6.91</td>\n",
       "    </tr>\n",
       "    <tr>\n",
       "      <td>635</td>\n",
       "      <td>Male</td>\n",
       "      <td>Yes</td>\n",
       "      <td>6.91</td>\n",
       "    </tr>\n",
       "    <tr>\n",
       "      <td>9207</td>\n",
       "      <td>Male</td>\n",
       "      <td>Yes</td>\n",
       "      <td>6.91</td>\n",
       "    </tr>\n",
       "    <tr>\n",
       "      <td>174</td>\n",
       "      <td>Male</td>\n",
       "      <td>Yes</td>\n",
       "      <td>6.91</td>\n",
       "    </tr>\n",
       "  </tbody>\n",
       "</table>\n",
       "</div>"
      ],
      "text/plain": [
       "       Sex MechVent  LowpH\n",
       "320   Male      Yes   6.80\n",
       "9104  Male      Yes   6.80\n",
       "5035  Male      Yes   6.80\n",
       "6915  Male      Yes   6.82\n",
       "6707  Male      Yes   6.83\n",
       "7723  Male      Yes   6.85\n",
       "2975  Male      Yes   6.86\n",
       "517   Male      Yes   6.87\n",
       "986   Male      Yes   6.87\n",
       "9827  Male      Yes   6.89\n",
       "546   Male      Yes   6.89\n",
       "4373  Male      Yes   6.90\n",
       "5369  Male      Yes   6.90\n",
       "6725  Male      Yes   6.90\n",
       "2492  Male      Yes   6.91\n",
       "1050  Male      Yes   6.91\n",
       "981   Male      Yes   6.91\n",
       "635   Male      Yes   6.91\n",
       "9207  Male      Yes   6.91\n",
       "174   Male      Yes   6.91"
      ]
     },
     "execution_count": 298,
     "metadata": {},
     "output_type": "execute_result"
    }
   ],
   "source": [
    "f.sort_values(by='LowpH')"
   ]
  },
  {
   "cell_type": "code",
   "execution_count": 35,
   "metadata": {
    "ExecuteTime": {
     "end_time": "2019-12-19T15:50:41.063489Z",
     "start_time": "2019-12-19T15:50:39.096489Z"
    }
   },
   "outputs": [],
   "source": [
    "w = db_structure_v2.DBCustomizer(directory_path='datasets\\\\TOPICC')"
   ]
  },
  {
   "cell_type": "code",
   "execution_count": 36,
   "metadata": {
    "ExecuteTime": {
     "end_time": "2019-12-19T15:50:43.711489Z",
     "start_time": "2019-12-19T15:50:41.073489Z"
    }
   },
   "outputs": [],
   "source": [
    "w.rename_column('CARDIACPROCEDURES', 'PudID', 'PatientID')"
   ]
  },
  {
   "cell_type": "code",
   "execution_count": 37,
   "metadata": {
    "ExecuteTime": {
     "end_time": "2019-12-19T15:50:46.330489Z",
     "start_time": "2019-12-19T15:50:43.716489Z"
    }
   },
   "outputs": [],
   "source": [
    "w.dump_customization()"
   ]
  },
  {
   "cell_type": "code",
   "execution_count": 25,
   "metadata": {
    "ExecuteTime": {
     "end_time": "2019-12-19T15:42:57.101489Z",
     "start_time": "2019-12-19T15:42:55.837489Z"
    }
   },
   "outputs": [
    {
     "name": "stdout",
     "output_type": "stream",
     "text": [
      "1\n",
      "2\n",
      "3\n",
      "4\n"
     ]
    }
   ],
   "source": [
    "x = [(1, 2), (3, 4)]\n",
    "for i, j in x:\n",
    "    print(i)\n",
    "    print(j)"
   ]
  },
  {
   "cell_type": "code",
   "execution_count": null,
   "metadata": {},
   "outputs": [],
   "source": []
  }
 ],
 "metadata": {
  "kernelspec": {
   "display_name": "Python 3",
   "language": "python",
   "name": "python3"
  },
  "toc": {
   "base_numbering": 1,
   "nav_menu": {},
   "number_sections": true,
   "sideBar": true,
   "skip_h1_title": false,
   "title_cell": "Table of Contents",
   "title_sidebar": "Contents",
   "toc_cell": false,
   "toc_position": {},
   "toc_section_display": true,
   "toc_window_display": false
  }
 },
 "nbformat": 4,
 "nbformat_minor": 2
}
