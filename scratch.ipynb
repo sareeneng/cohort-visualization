{
 "cells": [
  {
   "cell_type": "code",
   "execution_count": 1,
   "metadata": {},
   "outputs": [],
   "source": [
    "import pandas as pd\n",
    "import csv\n",
    "import os\n",
    "import time\n",
    "from collections import defaultdict\n",
    "import numpy as np\n",
    "import itertools\n",
    "import db_structure\n",
    "import networkx as nx\n",
    "from imp import reload\n",
    "import matplotlib.pyplot as plt\n",
    "import utilities as u\n",
    "from flask import jsonify\n",
    "import logging\n",
    "logging.basicConfig(format=' %(asctime)s - %(levelname)s - %(message)s')\n",
    "logger = logging.getLogger()\n",
    "logger.setLevel(logging.DEBUG)\n",
    "%load_ext autoreload\n",
    "%aimport -web\n",
    "%autoreload 2"
   ]
  },
  {
   "cell_type": "code",
   "execution_count": 60,
   "metadata": {},
   "outputs": [
    {
     "name": "stderr",
     "output_type": "stream",
     "text": [
      " 2019-08-10 22:33:59,084 - INFO - Loading arch file: datasets/sample1/sample1.arch\n",
      " 2019-08-10 22:33:59,109 - ERROR - Cannot make configuration changes because it has been finalized either by being loaded from a .arch file or from the finalize() fxn being run. Please run unfinalize(), make your configuration changes, and then run finalize() when you are finished in order to generate a new .arch file\n",
      " 2019-08-10 22:33:59,110 - ERROR - Cannot make configuration changes because it has been finalized either by being loaded from a .arch file or from the finalize() fxn being run. Please run unfinalize(), make your configuration changes, and then run finalize() when you are finished in order to generate a new .arch file\n",
      " 2019-08-10 22:33:59,111 - ERROR - Cannot make configuration changes because it has been finalized either by being loaded from a .arch file or from the finalize() fxn being run. Please run unfinalize(), make your configuration changes, and then run finalize() when you are finished in order to generate a new .arch file\n",
      " 2019-08-10 22:33:59,111 - ERROR - Cannot make configuration changes because it has been finalized either by being loaded from a .arch file or from the finalize() fxn being run. Please run unfinalize(), make your configuration changes, and then run finalize() when you are finished in order to generate a new .arch file\n",
      " 2019-08-10 22:33:59,112 - ERROR - Cannot make configuration changes because it has been finalized either by being loaded from a .arch file or from the finalize() fxn being run. Please run unfinalize(), make your configuration changes, and then run finalize() when you are finished in order to generate a new .arch file\n",
      " 2019-08-10 22:33:59,113 - ERROR - Cannot make configuration changes because it has been finalized either by being loaded from a .arch file or from the finalize() fxn being run. Please run unfinalize(), make your configuration changes, and then run finalize() when you are finished in order to generate a new .arch file\n",
      " 2019-08-10 22:33:59,117 - ERROR - Cannot make configuration changes because it has been finalized either by being loaded from a .arch file or from the finalize() fxn being run. Please run unfinalize(), make your configuration changes, and then run finalize() when you are finished in order to generate a new .arch file\n",
      " 2019-08-10 22:33:59,119 - ERROR - DB has already been marked as finalized\n"
     ]
    }
   ],
   "source": [
    "db = db_structure.DB(os.path.join('datasets', 'sample1'))\n",
    "db.add_global_fks([\"customerNumber\",\"officeCode\",\"productCode\",\"orderNumber\"])\n",
    "db.add_custom_fk('employees', 'customers', 'employeeNumber', 'salesRepEmployeeNum')\n",
    "db.add_custom_fk('orders', 'customers', 'customerNum', 'customerNumber')\n",
    "db.add_custom_fk('products', 'productlines', 'productLine', 'ProductLine')\n",
    "db.add_custom_column_name('customers', 'customerNumber', 'Customer Number')\n",
    "db.add_custom_column_name('customers', 'LastName', 'Last Name')\n",
    "db.add_custom_column_name('orders', 'customerNum', 'Customer Num')\n",
    "#db.unfinalize()\n",
    "#db.add_custom_column_name('offices', 'State', 'state')\n",
    "db.finalize()"
   ]
  },
  {
   "cell_type": "code",
   "execution_count": 77,
   "metadata": {},
   "outputs": [
    {
     "name": "stderr",
     "output_type": "stream",
     "text": [
      " 2019-08-11 10:47:18,529 - INFO - Loading datasets/TOPICC\n",
      " 2019-08-11 10:47:18,534 - INFO - Loading arch file: datasets/TOPICC/TOPICC.arch\n",
      " 2019-08-11 10:47:18,540 - DEBUG - Loading file datasets/TOPICC/PHYSIOSTATUS.csv\n",
      " 2019-08-11 10:47:18,650 - DEBUG - Loading file datasets/TOPICC/PICUDISCHARGE_DISSECONDDX.csv\n",
      " 2019-08-11 10:47:18,662 - DEBUG - Loading file datasets/TOPICC/PICUADMIT_CHRONICDX.csv\n",
      " 2019-08-11 10:47:18,691 - DEBUG - Loading file datasets/TOPICC/SURGERY.csv\n",
      " 2019-08-11 10:47:18,718 - DEBUG - Loading file datasets/TOPICC/PICUDISCHARGE_DISCHRONICDX.csv\n",
      " 2019-08-11 10:47:18,724 - DEBUG - Loading file datasets/TOPICC/PICUADMIT_AHD.csv\n",
      " 2019-08-11 10:47:18,730 - DEBUG - Loading file datasets/TOPICC/LIMITOFCARE.csv\n",
      " 2019-08-11 10:47:18,737 - DEBUG - Loading file datasets/TOPICC/HOSPITALDISCHARGE.csv\n",
      " 2019-08-11 10:47:18,835 - DEBUG - Loading file datasets/TOPICC/CPR.csv\n",
      " 2019-08-11 10:47:18,840 - DEBUG - Loading file datasets/TOPICC/CATASTROPHICEVENTS.csv\n",
      " 2019-08-11 10:47:18,844 - DEBUG - Loading file datasets/TOPICC/CARDIACPROCEDURES.csv\n",
      " 2019-08-11 10:47:18,935 - DEBUG - Loading file datasets/TOPICC/CARDIACSURGERY.csv\n",
      " 2019-08-11 10:47:18,950 - DEBUG - Loading file datasets/TOPICC/DEATH.csv\n",
      " 2019-08-11 10:47:18,959 - DEBUG - Loading file datasets/TOPICC/PICUADMIT_CHD.csv\n",
      " 2019-08-11 10:47:18,973 - DEBUG - Loading file datasets/TOPICC/HOSPITALADMIT.csv\n",
      " 2019-08-11 10:47:19,061 - DEBUG - Loading file datasets/TOPICC/PICUADMIT.csv\n",
      " 2019-08-11 10:47:19,119 - DEBUG - Loading file datasets/TOPICC/HOSPITALADMIT_CE.csv\n",
      " 2019-08-11 10:47:19,123 - DEBUG - Loading file datasets/TOPICC/CAREPROCESSES.csv\n",
      " 2019-08-11 10:47:19,158 - DEBUG - Loading file datasets/TOPICC/PICUADMIT_ADMITSECONDDX.csv\n",
      " 2019-08-11 10:47:19,169 - DEBUG - Loading file datasets/TOPICC/PICUDISCHARGE.csv\n"
     ]
    },
    {
     "name": "stdout",
     "output_type": "stream",
     "text": [
      "0.7341170310974121\n"
     ]
    }
   ],
   "source": [
    "start = time.time()\n",
    "db3 = db_structure.DB(os.path.join('datasets', 'TOPICC'))\n",
    "dm = db_structure.DataManager(db3, load_all_data=True)\n",
    "end = time.time()\n",
    "print(end-start)"
   ]
  },
  {
   "cell_type": "code",
   "execution_count": 63,
   "metadata": {},
   "outputs": [
    {
     "name": "stderr",
     "output_type": "stream",
     "text": [
      " 2019-08-10 22:34:21,619 - INFO - No .arch file found in datasets/sample2\n",
      " 2019-08-10 22:34:21,619 - INFO - Calculating metadata for files in directory datasets/sample2\n",
      " 2019-08-10 22:34:21,649 - DEBUG - Linking ['col2', 'col6', 'col1', 'col5', 'col4', 'col7', 'col3'] global_fks\n",
      " 2019-08-10 22:34:21,650 - INFO - Dumping arch file to: datasets/sample2/sample2.arch\n"
     ]
    }
   ],
   "source": [
    "db2 = db_structure.DB(os.path.join('datasets', 'sample2'))\n",
    "db2.add_global_fks([\"col2\",\"col6\",\"col1\",\"col5\",\"col4\",\"col7\",\"col3\"])\n",
    "db2.finalize()"
   ]
  },
  {
   "cell_type": "code",
   "execution_count": 66,
   "metadata": {},
   "outputs": [
    {
     "name": "stderr",
     "output_type": "stream",
     "text": [
      " 2019-08-10 23:12:47,711 - INFO - No .arch file found in datasets/TOPICC\n",
      " 2019-08-10 23:12:47,713 - INFO - Calculating metadata for files in directory datasets/TOPICC\n",
      " 2019-08-10 23:12:48,723 - DEBUG - Linking ['PudID'] global_fks\n",
      " 2019-08-10 23:12:48,765 - DEBUG - Cannot make relationship between PICUDISCHARGE_DISSECONDDX->PudID and PICUADMIT_CHRONICDX->PudID because they have a many-to-many relationship\n",
      " 2019-08-10 23:12:48,766 - DEBUG - Cannot make relationship between PICUDISCHARGE_DISSECONDDX->PudID and SURGERY->PudID because they have a many-to-many relationship\n",
      " 2019-08-10 23:12:48,768 - DEBUG - Cannot make relationship between PICUDISCHARGE_DISSECONDDX->PudID and PICUDISCHARGE_DISCHRONICDX->PudID because they have a many-to-many relationship\n",
      " 2019-08-10 23:12:48,769 - DEBUG - Cannot make relationship between PICUDISCHARGE_DISSECONDDX->PudID and PICUADMIT_AHD->PudID because they have a many-to-many relationship\n",
      " 2019-08-10 23:12:48,770 - DEBUG - Cannot make relationship between PICUDISCHARGE_DISSECONDDX->PudID and CPR->PudID because they have a many-to-many relationship\n",
      " 2019-08-10 23:12:48,771 - DEBUG - Cannot make relationship between PICUDISCHARGE_DISSECONDDX->PudID and CATASTROPHICEVENTS->PudID because they have a many-to-many relationship\n",
      " 2019-08-10 23:12:48,771 - DEBUG - Cannot make relationship between PICUDISCHARGE_DISSECONDDX->PudID and CARDIACPROCEDURES->PudID because they have a many-to-many relationship\n",
      " 2019-08-10 23:12:48,773 - DEBUG - Cannot make relationship between PICUDISCHARGE_DISSECONDDX->PudID and CARDIACSURGERY->PudID because they have a many-to-many relationship\n",
      " 2019-08-10 23:12:48,775 - DEBUG - Cannot make relationship between PICUDISCHARGE_DISSECONDDX->PudID and PICUADMIT_CHD->PudID because they have a many-to-many relationship\n",
      " 2019-08-10 23:12:48,776 - DEBUG - Cannot make relationship between PICUDISCHARGE_DISSECONDDX->PudID and HOSPITALADMIT_CE->PudID because they have a many-to-many relationship\n",
      " 2019-08-10 23:12:48,777 - DEBUG - Cannot make relationship between PICUDISCHARGE_DISSECONDDX->PudID and PICUADMIT_ADMITSECONDDX->PudID because they have a many-to-many relationship\n",
      " 2019-08-10 23:12:48,778 - DEBUG - Cannot make relationship between PICUADMIT_CHRONICDX->PudID and SURGERY->PudID because they have a many-to-many relationship\n",
      " 2019-08-10 23:12:48,779 - DEBUG - Cannot make relationship between PICUADMIT_CHRONICDX->PudID and PICUDISCHARGE_DISCHRONICDX->PudID because they have a many-to-many relationship\n",
      " 2019-08-10 23:12:48,780 - DEBUG - Cannot make relationship between PICUADMIT_CHRONICDX->PudID and PICUADMIT_AHD->PudID because they have a many-to-many relationship\n",
      " 2019-08-10 23:12:48,782 - DEBUG - Cannot make relationship between PICUADMIT_CHRONICDX->PudID and CPR->PudID because they have a many-to-many relationship\n",
      " 2019-08-10 23:12:48,783 - DEBUG - Cannot make relationship between PICUADMIT_CHRONICDX->PudID and CATASTROPHICEVENTS->PudID because they have a many-to-many relationship\n",
      " 2019-08-10 23:12:48,787 - DEBUG - Cannot make relationship between PICUADMIT_CHRONICDX->PudID and CARDIACPROCEDURES->PudID because they have a many-to-many relationship\n",
      " 2019-08-10 23:12:48,787 - DEBUG - Cannot make relationship between PICUADMIT_CHRONICDX->PudID and CARDIACSURGERY->PudID because they have a many-to-many relationship\n",
      " 2019-08-10 23:12:48,788 - DEBUG - Cannot make relationship between PICUADMIT_CHRONICDX->PudID and PICUADMIT_CHD->PudID because they have a many-to-many relationship\n",
      " 2019-08-10 23:12:48,789 - DEBUG - Cannot make relationship between PICUADMIT_CHRONICDX->PudID and HOSPITALADMIT_CE->PudID because they have a many-to-many relationship\n",
      " 2019-08-10 23:12:48,791 - DEBUG - Cannot make relationship between PICUADMIT_CHRONICDX->PudID and PICUADMIT_ADMITSECONDDX->PudID because they have a many-to-many relationship\n",
      " 2019-08-10 23:12:48,799 - DEBUG - Cannot make relationship between SURGERY->PudID and PICUDISCHARGE_DISCHRONICDX->PudID because they have a many-to-many relationship\n",
      " 2019-08-10 23:12:48,802 - DEBUG - Cannot make relationship between SURGERY->PudID and PICUADMIT_AHD->PudID because they have a many-to-many relationship\n",
      " 2019-08-10 23:12:48,804 - DEBUG - Cannot make relationship between SURGERY->PudID and CPR->PudID because they have a many-to-many relationship\n",
      " 2019-08-10 23:12:48,806 - DEBUG - Cannot make relationship between SURGERY->PudID and CATASTROPHICEVENTS->PudID because they have a many-to-many relationship\n",
      " 2019-08-10 23:12:48,807 - DEBUG - Cannot make relationship between SURGERY->PudID and CARDIACPROCEDURES->PudID because they have a many-to-many relationship\n",
      " 2019-08-10 23:12:48,809 - DEBUG - Cannot make relationship between SURGERY->PudID and CARDIACSURGERY->PudID because they have a many-to-many relationship\n",
      " 2019-08-10 23:12:48,810 - DEBUG - Cannot make relationship between SURGERY->PudID and PICUADMIT_CHD->PudID because they have a many-to-many relationship\n",
      " 2019-08-10 23:12:48,811 - DEBUG - Cannot make relationship between SURGERY->PudID and HOSPITALADMIT_CE->PudID because they have a many-to-many relationship\n",
      " 2019-08-10 23:12:48,822 - DEBUG - Cannot make relationship between SURGERY->PudID and PICUADMIT_ADMITSECONDDX->PudID because they have a many-to-many relationship\n",
      " 2019-08-10 23:12:48,834 - DEBUG - Cannot make relationship between PICUDISCHARGE_DISCHRONICDX->PudID and PICUADMIT_AHD->PudID because they have a many-to-many relationship\n",
      " 2019-08-10 23:12:48,838 - DEBUG - Cannot make relationship between PICUDISCHARGE_DISCHRONICDX->PudID and CPR->PudID because they have a many-to-many relationship\n",
      " 2019-08-10 23:12:48,840 - DEBUG - Cannot make relationship between PICUDISCHARGE_DISCHRONICDX->PudID and CATASTROPHICEVENTS->PudID because they have a many-to-many relationship\n",
      " 2019-08-10 23:12:48,842 - DEBUG - Cannot make relationship between PICUDISCHARGE_DISCHRONICDX->PudID and CARDIACPROCEDURES->PudID because they have a many-to-many relationship\n",
      " 2019-08-10 23:12:48,843 - DEBUG - Cannot make relationship between PICUDISCHARGE_DISCHRONICDX->PudID and CARDIACSURGERY->PudID because they have a many-to-many relationship\n",
      " 2019-08-10 23:12:48,844 - DEBUG - Cannot make relationship between PICUDISCHARGE_DISCHRONICDX->PudID and PICUADMIT_CHD->PudID because they have a many-to-many relationship\n",
      " 2019-08-10 23:12:48,846 - DEBUG - Cannot make relationship between PICUDISCHARGE_DISCHRONICDX->PudID and HOSPITALADMIT_CE->PudID because they have a many-to-many relationship\n",
      " 2019-08-10 23:12:48,848 - DEBUG - Cannot make relationship between PICUDISCHARGE_DISCHRONICDX->PudID and PICUADMIT_ADMITSECONDDX->PudID because they have a many-to-many relationship\n",
      " 2019-08-10 23:12:48,850 - DEBUG - Cannot make relationship between PICUADMIT_AHD->PudID and CPR->PudID because they have a many-to-many relationship\n",
      " 2019-08-10 23:12:48,852 - DEBUG - Cannot make relationship between PICUADMIT_AHD->PudID and CATASTROPHICEVENTS->PudID because they have a many-to-many relationship\n",
      " 2019-08-10 23:12:48,854 - DEBUG - Cannot make relationship between PICUADMIT_AHD->PudID and CARDIACPROCEDURES->PudID because they have a many-to-many relationship\n",
      " 2019-08-10 23:12:48,855 - DEBUG - Cannot make relationship between PICUADMIT_AHD->PudID and CARDIACSURGERY->PudID because they have a many-to-many relationship\n",
      " 2019-08-10 23:12:48,857 - DEBUG - Cannot make relationship between PICUADMIT_AHD->PudID and PICUADMIT_CHD->PudID because they have a many-to-many relationship\n",
      " 2019-08-10 23:12:48,858 - DEBUG - Cannot make relationship between PICUADMIT_AHD->PudID and HOSPITALADMIT_CE->PudID because they have a many-to-many relationship\n",
      " 2019-08-10 23:12:48,861 - DEBUG - Cannot make relationship between PICUADMIT_AHD->PudID and PICUADMIT_ADMITSECONDDX->PudID because they have a many-to-many relationship\n",
      " 2019-08-10 23:12:48,862 - DEBUG - Cannot make relationship between CPR->PudID and CATASTROPHICEVENTS->PudID because they have a many-to-many relationship\n",
      " 2019-08-10 23:12:48,864 - DEBUG - Cannot make relationship between CPR->PudID and CARDIACPROCEDURES->PudID because they have a many-to-many relationship\n",
      " 2019-08-10 23:12:48,865 - DEBUG - Cannot make relationship between CPR->PudID and CARDIACSURGERY->PudID because they have a many-to-many relationship\n"
     ]
    },
    {
     "name": "stderr",
     "output_type": "stream",
     "text": [
      " 2019-08-10 23:12:48,866 - DEBUG - Cannot make relationship between CPR->PudID and PICUADMIT_CHD->PudID because they have a many-to-many relationship\n",
      " 2019-08-10 23:12:48,868 - DEBUG - Cannot make relationship between CPR->PudID and HOSPITALADMIT_CE->PudID because they have a many-to-many relationship\n",
      " 2019-08-10 23:12:48,871 - DEBUG - Cannot make relationship between CPR->PudID and PICUADMIT_ADMITSECONDDX->PudID because they have a many-to-many relationship\n",
      " 2019-08-10 23:12:48,872 - DEBUG - Cannot make relationship between CATASTROPHICEVENTS->PudID and CARDIACPROCEDURES->PudID because they have a many-to-many relationship\n",
      " 2019-08-10 23:12:48,873 - DEBUG - Cannot make relationship between CATASTROPHICEVENTS->PudID and CARDIACSURGERY->PudID because they have a many-to-many relationship\n",
      " 2019-08-10 23:12:48,874 - DEBUG - Cannot make relationship between CATASTROPHICEVENTS->PudID and PICUADMIT_CHD->PudID because they have a many-to-many relationship\n",
      " 2019-08-10 23:12:48,875 - DEBUG - Cannot make relationship between CATASTROPHICEVENTS->PudID and HOSPITALADMIT_CE->PudID because they have a many-to-many relationship\n",
      " 2019-08-10 23:12:48,876 - DEBUG - Cannot make relationship between CATASTROPHICEVENTS->PudID and PICUADMIT_ADMITSECONDDX->PudID because they have a many-to-many relationship\n",
      " 2019-08-10 23:12:48,877 - DEBUG - Cannot make relationship between CARDIACPROCEDURES->PudID and CARDIACSURGERY->PudID because they have a many-to-many relationship\n",
      " 2019-08-10 23:12:48,878 - DEBUG - Cannot make relationship between CARDIACPROCEDURES->PudID and PICUADMIT_CHD->PudID because they have a many-to-many relationship\n",
      " 2019-08-10 23:12:48,879 - DEBUG - Cannot make relationship between CARDIACPROCEDURES->PudID and HOSPITALADMIT_CE->PudID because they have a many-to-many relationship\n",
      " 2019-08-10 23:12:48,880 - DEBUG - Cannot make relationship between CARDIACPROCEDURES->PudID and PICUADMIT_ADMITSECONDDX->PudID because they have a many-to-many relationship\n",
      " 2019-08-10 23:12:48,882 - DEBUG - Cannot make relationship between CARDIACSURGERY->PudID and PICUADMIT_CHD->PudID because they have a many-to-many relationship\n",
      " 2019-08-10 23:12:48,885 - DEBUG - Cannot make relationship between CARDIACSURGERY->PudID and HOSPITALADMIT_CE->PudID because they have a many-to-many relationship\n",
      " 2019-08-10 23:12:48,887 - DEBUG - Cannot make relationship between CARDIACSURGERY->PudID and PICUADMIT_ADMITSECONDDX->PudID because they have a many-to-many relationship\n",
      " 2019-08-10 23:12:48,889 - DEBUG - Cannot make relationship between PICUADMIT_CHD->PudID and HOSPITALADMIT_CE->PudID because they have a many-to-many relationship\n",
      " 2019-08-10 23:12:48,891 - DEBUG - Cannot make relationship between PICUADMIT_CHD->PudID and PICUADMIT_ADMITSECONDDX->PudID because they have a many-to-many relationship\n",
      " 2019-08-10 23:12:48,893 - DEBUG - Cannot make relationship between HOSPITALADMIT_CE->PudID and PICUADMIT_ADMITSECONDDX->PudID because they have a many-to-many relationship\n",
      " 2019-08-10 23:12:48,897 - INFO - Dumping arch file to: datasets/TOPICC/TOPICC.arch\n"
     ]
    }
   ],
   "source": [
    "db3 = db_structure.DB(os.path.join('datasets', 'TOPICC'))\n",
    "db3.add_global_fks(['PudID'])\n",
    "db3.finalize()"
   ]
  },
  {
   "cell_type": "code",
   "execution_count": 72,
   "metadata": {},
   "outputs": [
    {
     "data": {
      "image/png": "[encoded data removed]",
      "text/plain": [
       "<matplotlib.figure.Figure at 0x7f0f7a95e7b8>"
      ]
     },
     "metadata": {},
     "output_type": "display_data"
    }
   ],
   "source": [
    "draw_db = db\n",
    "\n",
    "G = nx.DiGraph()\n",
    "G.add_nodes_from(draw_db.table_names)\n",
    "for table_name in draw_db.table_names:\n",
    "    for sibling in draw_db.find_table_siblings(table_name):\n",
    "        G.add_edge(table_name, sibling)\n",
    "        G.add_edge(sibling, table_name)\n",
    "    for child in draw_db.find_table_children(table_name):\n",
    "        G.add_edge(table_name, child)\n",
    "plt.figure(figsize=(10,10))\n",
    "\n",
    "#draw with networkx built-ins\n",
    "nx.draw_networkx(G, node_shape=\"None\", width=0.2)\n",
    "\n",
    "#OR\n",
    "\n",
    "#draw using pygraphviz\n",
    "#A = nx.nx_agraph.to_agraph(G)\n",
    "#H = nx.nx_agraph.from_agraph(A)\n",
    "#nx.draw_spring(H, node_shape=\"None\", with_labels=True, width=0.2)"
   ]
  },
  {
   "cell_type": "code",
   "execution_count": null,
   "metadata": {},
   "outputs": [],
   "source": []
  }
 ],
 "metadata": {
  "kernelspec": {
   "display_name": "Python 3",
   "language": "python",
   "name": "python3"
  },
  "language_info": {
   "codemirror_mode": {
    "name": "ipython",
    "version": 3
   },
   "file_extension": ".py",
   "mimetype": "text/x-python",
   "name": "python",
   "nbconvert_exporter": "python",
   "pygments_lexer": "ipython3",
   "version": "3.6.8"
  }
 },
 "nbformat": 4,
 "nbformat_minor": 2
}
