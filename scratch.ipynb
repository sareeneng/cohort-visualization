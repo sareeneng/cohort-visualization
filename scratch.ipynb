{
 "cells": [
  {
   "cell_type": "code",
   "execution_count": 1,
   "metadata": {
    "ExecuteTime": {
     "end_time": "2020-02-06T19:07:15.002617Z",
     "start_time": "2020-02-06T19:06:51.426617Z"
    }
   },
   "outputs": [],
   "source": [
    "import pandas as pd\n",
    "import csv\n",
    "import os\n",
    "import time\n",
    "from collections import defaultdict\n",
    "import numpy as np\n",
    "import itertools\n",
    "import db_structure\n",
    "import networkx as nx\n",
    "import matplotlib.pyplot as plt\n",
    "import utilities as u\n",
    "from flask import jsonify\n",
    "import logging\n",
    "# import exceptions\n",
    "from pandas.api.types import is_string_dtype\n",
    "from pandas.api.types import is_numeric_dtype\n",
    "from web.models import *\n",
    "from web import db\n",
    "\n",
    "logging.basicConfig(format=' %(asctime)s - %(levelname)s - %(message)s')\n",
    "logger = logging.getLogger()\n",
    "logger.setLevel(logging.DEBUG)\n",
    "%load_ext autoreload\n",
    "%aimport -web\n",
    "%autoreload 2"
   ]
  },
  {
   "cell_type": "code",
   "execution_count": null,
   "metadata": {
    "ExecuteTime": {
     "end_time": "2020-02-06T18:32:53.170617Z",
     "start_time": "2020-02-06T18:32:41.663617Z"
    }
   },
   "outputs": [],
   "source": [
    "dataset_name = 'SCA_AcuteCare'\n",
    "draw_db = db_structure.DBExtractor(dataset_name)\n",
    "\n",
    "G = nx.DiGraph()\n",
    "table_names = [x.table_name for x in db.session.query(TableMetadata).filter(TableMetadata.dataset_name == dataset_name, TableMetadata.num_records >= 10000).all()]\n",
    "G.add_nodes_from(table_names)\n",
    "for table_name in table_names:\n",
    "    for sibling in draw_db.find_table_siblings(table_name):\n",
    "        if sibling in table_name:\n",
    "            G.add_edge(table_name, sibling)\n",
    "            G.add_edge(sibling, table_name)\n",
    "    for child in draw_db.find_table_children(table_name):\n",
    "        if child in table_names:\n",
    "            G.add_edge(table_name, child)\n",
    "plt.figure(figsize=(10,10))\n",
    "\n",
    "#draw with networkx built-ins\n",
    "nx.draw_networkx(G, node_shape=\"None\", width=0.2)\n",
    "\n",
    "#OR\n",
    "\n",
    "#draw using pygraphviz\n",
    "#A = nx.nx_agraph.to_agraph(G)\n",
    "#H = nx.nx_agraph.from_agraph(A)\n",
    "#nx.draw_spring(H, node_shape=\"None\", with_labels=True, width=0.2)"
   ]
  },
  {
   "cell_type": "code",
   "execution_count": 4,
   "metadata": {
    "ExecuteTime": {
     "end_time": "2020-02-06T19:07:48.730617Z",
     "start_time": "2020-02-06T19:07:30.040617Z"
    }
   },
   "outputs": [],
   "source": [
    "x = db_structure.DBMaker(dataset_name='TOPICC', directory_path='datasets\\\\TOPICC')\n",
    "x.create_db_metadata(dump_to_data_db=True)"
   ]
  },
  {
   "cell_type": "code",
   "execution_count": 3,
   "metadata": {
    "ExecuteTime": {
     "end_time": "2020-02-06T19:07:29.244617Z",
     "start_time": "2020-02-06T19:07:26.964617Z"
    }
   },
   "outputs": [],
   "source": [
    "db_structure.DBDestroyer('TOPICC').remove_db()"
   ]
  },
  {
   "cell_type": "code",
   "execution_count": null,
   "metadata": {
    "ExecuteTime": {
     "end_time": "2020-02-06T15:48:16.686617Z",
     "start_time": "2020-02-06T15:48:15.099617Z"
    }
   },
   "outputs": [],
   "source": [
    "y = db_structure.DBLinker(dataset_name='TOPICC')"
   ]
  },
  {
   "cell_type": "code",
   "execution_count": null,
   "metadata": {
    "ExecuteTime": {
     "end_time": "2020-02-06T15:48:19.753617Z",
     "start_time": "2020-02-06T15:48:16.692617Z"
    }
   },
   "outputs": [],
   "source": [
    "y.add_global_fk('PudID')"
   ]
  },
  {
   "cell_type": "code",
   "execution_count": null,
   "metadata": {
    "ExecuteTime": {
     "end_time": "2020-02-06T18:38:28.788617Z",
     "start_time": "2020-02-06T18:38:26.696617Z"
    }
   },
   "outputs": [],
   "source": [
    "z = db_structure.DBExtractor(dataset_name='TOPICC')"
   ]
  },
  {
   "cell_type": "code",
   "execution_count": null,
   "metadata": {
    "ExecuteTime": {
     "end_time": "2020-02-06T18:38:32.396617Z",
     "start_time": "2020-02-06T18:38:28.794617Z"
    }
   },
   "outputs": [],
   "source": [
    "path = ['HOSPITALADMIT', 'CAREPROCESSES', 'DEATH']\n",
    "start = time.time()\n",
    "df = z.get_df_from_path(path, table_columns_of_interest=[('HOSPITALADMIT', 'PudID'), ('HOSPITALADMIT', 'Sex'), ('CAREPROCESSES', 'MechVent'), ('DEATH', 'DeathMode')])\n",
    "end = time.time()\n",
    "print(end-start)"
   ]
  },
  {
   "cell_type": "code",
   "execution_count": null,
   "metadata": {
    "ExecuteTime": {
     "end_time": "2020-02-06T18:38:34.793617Z",
     "start_time": "2020-02-06T18:38:32.416617Z"
    }
   },
   "outputs": [],
   "source": [
    "df"
   ]
  },
  {
   "cell_type": "code",
   "execution_count": 51,
   "metadata": {
    "ExecuteTime": {
     "end_time": "2020-02-07T16:24:55.259617Z",
     "start_time": "2020-02-07T16:21:33.387617Z"
    }
   },
   "outputs": [
    {
     "name": "stderr",
     "output_type": "stream",
     "text": [
      "C:\\Users\\SShah50\\AppData\\Roaming\\Python\\Python36\\site-packages\\dateutil\\parser\\_parser.py:1218: UnknownTimezoneWarning: tzname M identified but not understood.  Pass `tzinfos` argument in order to correctly return a timezone-aware datetime.  In a future version, this will raise an exception.\n",
      "  category=UnknownTimezoneWarning)\n"
     ]
    }
   ],
   "source": [
    "x = db_structure.DBMaker(dataset_name='SCA_AcuteCare', sql_server='CYKPANADBSQL', sql_db='SCA_AcuteCare', schema_name='dbo')\n",
    "x.create_db_metadata(ignore_tables_with_substrings=['MOTempRecsGrp', 'MO_MeasureInfo', 'MO_MedicationDim_55_'])"
   ]
  },
  {
   "cell_type": "code",
   "execution_count": 75,
   "metadata": {
    "ExecuteTime": {
     "end_time": "2020-02-07T20:46:10.266617Z",
     "start_time": "2020-02-07T20:43:23.226617Z"
    }
   },
   "outputs": [
    {
     "name": "stdout",
     "output_type": "stream",
     "text": [
      "APMInsuranceCarrierDimID\n",
      "AbnormalityDimID\n",
      "AccommodationDimID\n",
      "AccountDimID\n",
      "AccountTypeDimID\n",
      "ActionCodedReasonTypeDimID\n",
      "ActionReasonDimID\n",
      "ActionTypeDimID\n",
      "AdmitDateDimID\n",
      "AdmitReasonDimID\n",
      "AdmitShiftDimID\n",
      "AdmitSourceDimID\n",
      "AdmitTypeDimID\n",
      "AgeDimID\n",
      "AgeRangeItemID\n",
      "AgeRangeSetID\n",
      "AlertEventTypeDimID\n",
      "AlertNameDimID\n",
      "AlertTypeDimID\n",
      "AllergenDimID\n",
      "AllergyCategoryTypeDimID\n",
      "AllergyTypeDimID\n",
      "AmbulStatusDimID\n",
      "AncillaryFacilityDimID\n",
      "ApplicSourceDimID\n",
      "AppointmentCategoryDimID\n",
      "ArrivalDateDimID\n",
      "AuthoredProviderDimID\n",
      "BillingAddressDimID\n",
      "BlockDefinitionDimID\n",
      "CareLevelDimID\n",
      "CatalogItemTaskGUID\n",
      "CategoryCodeDimID\n",
      "ChartGUID\n",
      "ClientDocumentGUID\n",
      "ClientGUID\n",
      "ClientUserDataGUID\n",
      "ClientVisitGUID\n",
      "ClinDecSupportDescDimID\n",
      "ClinDecSupportPriorityDimID\n",
      "CommentDeclarationTypeDimID\n",
      "ConfidenceDimID\n",
      "CostDimID\n",
      "CurrentLocationGUID\n",
      "DemographicDimID\n",
      "DestinationTypeDimID\n",
      "DiagDimID\n",
      "DiagTypeDimID\n",
      "DiagnosisGroupID\n",
      "DiagnosisID\n",
      "DictionaryID\n",
      "DischargeDateDimID\n",
      "DischargeDispositionDimID\n",
      "DischargeLocationDimID\n",
      "DischargeServiceDimID\n",
      "DischargeShiftDimID\n",
      "DischargeToLocationDimID\n",
      "DocumentAuthorTypeDimID\n",
      "DocumentDimID\n",
      "DocumentID\n",
      "DocumentNameDimID\n",
      "DosageCalculatedInfoDimID\n",
      "DosageTypeDimID\n",
      "DrugCodeDimID\n",
      "DrugConcentrationDimID\n",
      "EDLocationDimID\n",
      "EduMaterialTypeDimID\n",
      "EducationDetailDimID\n",
      "EducationID\n",
      "EducationMaterialDimID\n",
      "EducationSourceDimID\n",
      "EmployerDimID\n",
      "EmploymentStatusDimID\n",
      "EndDateDimID\n",
      "EnterDateDimID\n",
      "EnterProviderRoleDimID\n",
      "EnteredDateDimID\n",
      "EntityID\n",
      "EthnicityDimID\n",
      "FacilityDimID\n",
      "FirstLocationDimID\n",
      "FollowUpReasonDimID\n",
      "FrequencyDimID\n",
      "FunctionalMeasureDimID\n",
      "FunctionalMeasureObjectiveDimID\n",
      "FunctionalMeasureSetDimID\n",
      "GenderDimID\n",
      "GenericItemID\n",
      "GroupPracticeDimID\n",
      "GroupPracticeLocationDimID\n",
      "HealthIssueDeclarationGUID\n",
      "HighDosageDimID\n",
      "HistInfoSourceCodeDimID\n",
      "IAActivityWeightageDimID\n",
      "IASubCategoryDimID\n",
      "ICD10DiagDimID\n",
      "ICD9DiagDimID\n",
      "IDCodeDimID\n",
      "IOSubtypeDimID\n",
      "IVMedDimID\n",
      "ImmunizationID\n",
      "InsuranceCarrierDimID\n",
      "InsuranceCategoryDimID\n",
      "InsurancePlanDimID\n",
      "InsuranceTypeDimID\n",
      "LanguageDimID\n",
      "LinkedVisitID\n",
      "LocationDimID\n",
      "LocationFunctionGroupDimID\n",
      "LocationGUID\n",
      "LowDosageDimID\n",
      "MedFormDimID\n",
      "MedRouteDimID\n",
      "MedicalCodeDimID\n",
      "MedicationCategoryDimID\n",
      "MedicationChartingID\n",
      "MedicationDimID\n",
      "MedicationGroupID\n",
      "MedicationID\n",
      "ModeOfArrivalDimID\n",
      "ModifiedDateDimID\n",
      "ObjGUID\n",
      "ObsCatalogDimID\n",
      "ObsCatalogNameDimID\n",
      "ObsDictCodeDimID\n",
      "ObsValidValueDimID\n",
      "ObsValueDimID\n",
      "ObservationGUID\n",
      "OccurrenceStatusTypeDimID\n",
      "OnsetDateDimID\n",
      "OrderCatalogDimID\n",
      "OrderCatalogTagDimID\n",
      "OrderComponentNameDimID\n",
      "OrderFunctionDimID\n",
      "OrderGUID\n",
      "OrderGroupID\n",
      "OrderID\n",
      "OrderReconcileGUID\n",
      "OrderSessionTypeDimID\n",
      "OrderSetNameDimID\n",
      "OrderStatusDimID\n",
      "OrderTaskChartingID\n",
      "OrderTaskGUID\n",
      "OrderTaskID\n",
      "OrderTaskOccurrenceGUID\n",
      "OrderTaskStatusDimID\n",
      "OrderTextDimID\n",
      "OrderTypeDimID\n",
      "OrderedAsDimID\n",
      "OrganizationalUnitDimID\n",
      "OverrideReasonDimID\n",
      "ParentGUID\n",
      "ParentLocationDimID\n",
      "PatientContactDimID\n",
      "PatientDataDimID\n",
      "PatientDimID\n",
      "PatientStudyID\n",
      "PerformedDateDimID\n",
      "PerformedFromDateDimID\n",
      "PerformedLocationDimID\n",
      "PerformedToDateDimID\n",
      "PhysicalNoteDeclarationTypeDimID\n",
      "PostalCodeDimID\n",
      "PrescribedActionDimID\n",
      "PrescriptionID\n",
      "PrescriptionTypeDimID\n",
      "PresentOnAdmissionDimID\n",
      "PriorityDimID\n",
      "ProfileGenerationID\n",
      "ProfileID\n",
      "ProjectedScoreCategoryDimID\n",
      "ProjectedScoreDataFieldDimID\n",
      "ProviderDimID\n",
      "ProviderGUID\n",
      "ProviderRoleDimID\n",
      "ProviderTypeDimID\n",
      "QualityEventTimingID\n",
      "RaceDimID\n",
      "RadiologyDICOMDimID\n",
      "RadiologyRADSDimID\n",
      "ReadmitFromVisitID\n",
      "ReasonCodeDimID\n",
      "ReconcileActionTypeDimID\n",
      "ReconcileCommentDimID\n",
      "ReconcileItemTypeDimID\n",
      "ReconcileMedHistoryDimID\n",
      "ReconcileStatusDimID\n",
      "ReconcileTypeDimID\n",
      "ReferringFacilityDimID\n",
      "RelationshipDimID\n",
      "ReligionDimID\n",
      "ReportedDateDimID\n",
      "ReportingPeriodDimID\n",
      "RequestedLocationDimID\n",
      "ResolvedDateDimID\n",
      "ResourceDimID\n",
      "ResultCatalogDimID\n",
      "ResultGroupID\n",
      "ResultNameDimID\n",
      "ResultStatusDimID\n",
      "ResultTypeBridgeID\n",
      "ReviewCategoryDimID\n",
      "RxNormCodeDimID\n",
      "ScheduledEventOccurrenceID\n",
      "ScopeLevelDimID\n",
      "ScoreCalculationTypeDimID\n",
      "ServiceDimID\n",
      "SeverityDimID\n",
      "ShiftDimID\n",
      "ShiftItemID\n",
      "ShiftSetID\n",
      "SourceCodeDimID\n",
      "SpecimenID\n",
      "SpecimenTypeDimID\n",
      "StartDateDimID\n",
      "StatusDimID\n",
      "StopDateDimID\n",
      "StudyID\n",
      "SubOrderSetNameDimID\n",
      "SurgeryAcuityDimID\n",
      "SurgeryChargeCodeDimID\n",
      "SurgeryDeptItemDimID\n",
      "SurgeryHazardDimID\n",
      "SurgeryInventorySectionDimID\n",
      "SurgeryItemCategoryDimID\n",
      "SurgeryItemDimID\n",
      "SurgeryLateralityDimID\n",
      "SurgeryPreferenceCardDimID\n",
      "SurgeryProcedureDimID\n",
      "SurgeryRoleDimID\n",
      "SurgeryRolePolicyDimID\n",
      "SurgeryServiceDimID\n",
      "SurgerySiteDimID\n",
      "SurgeryStaffDimID\n",
      "SurgeryStatusDimID\n",
      "SurgeryTimePolicyDimID\n",
      "TaskUserDataGUID\n",
      "TriggeringInfoDimID\n",
      "UOMDimID\n",
      "UnitLocationDimID\n",
      "UserActionDimID\n",
      "UserOrderRoleDimID\n",
      "UserProviderDimID\n",
      "VaccineDimID\n",
      "VisitID\n",
      "VisitIDGUID\n",
      "VisitStatusDimID\n",
      "VisitTypeDimID\n",
      "Visitid\n",
      "WellnessEventDetailDimID\n",
      "WellnessEventDimID\n",
      "medicationdimid\n"
     ]
    }
   ],
   "source": [
    "y = db_structure.DBLinker(dataset_name='SCA_AcuteCare')\n",
    "for i in y.get_common_column_names():\n",
    "    if i.upper()[-2:] == 'ID' and i.upper() not in ['GUID']:\n",
    "        print(i)\n",
    "        y.add_global_fk(i)"
   ]
  },
  {
   "cell_type": "code",
   "execution_count": 50,
   "metadata": {
    "ExecuteTime": {
     "end_time": "2020-02-07T16:21:07.402617Z",
     "start_time": "2020-02-07T16:21:04.725617Z"
    }
   },
   "outputs": [],
   "source": [
    "db_structure.DBDestroyer('SCA_AcuteCare').remove_db()"
   ]
  },
  {
   "cell_type": "code",
   "execution_count": 85,
   "metadata": {
    "ExecuteTime": {
     "end_time": "2020-02-10T15:37:05.932617Z",
     "start_time": "2020-02-10T15:37:03.656617Z"
    }
   },
   "outputs": [],
   "source": [
    "z = db_structure.DBExtractor('SCA_AcuteCare')"
   ]
  },
  {
   "cell_type": "code",
   "execution_count": 86,
   "metadata": {
    "ExecuteTime": {
     "end_time": "2020-02-10T15:37:08.682617Z",
     "start_time": "2020-02-10T15:37:05.936617Z"
    }
   },
   "outputs": [],
   "source": [
    "paths = [['BF_FoleyTimes', 'SCAVisit']]\n",
    "table_columns_of_interest = [('BF_FoleyTimes', 'FoleyDays'), ('SCAVisit', 'IsCHF')]\n",
    "filters_with_name_keys = {'SCAVisit_IsCHF': {'filter': ['0', '1'], 'type': 'bool'}}\n",
    "groupby_columns = ['SCAVisit_IsCHF']\n",
    "aggregate_column = 'BF_FoleyTimes_FoleyDays'\n",
    "aggregate_fxn = 'Mean'\n",
    "df = z.get_biggest_df_from_paths(paths, table_columns_of_interest, limit_rows=10000)"
   ]
  },
  {
   "cell_type": "code",
   "execution_count": 87,
   "metadata": {
    "ExecuteTime": {
     "end_time": "2020-02-10T15:37:12.322617Z",
     "start_time": "2020-02-10T15:37:10.000617Z"
    }
   },
   "outputs": [],
   "source": [
    "agg_df = z.aggregate_df(df, groupby_columns, filters_with_name_keys, aggregate_column, aggregate_fxn)"
   ]
  },
  {
   "cell_type": "code",
   "execution_count": 88,
   "metadata": {
    "ExecuteTime": {
     "end_time": "2020-02-10T15:37:16.183617Z",
     "start_time": "2020-02-10T15:37:14.034617Z"
    }
   },
   "outputs": [
    {
     "data": {
      "text/html": [
       "<div>\n",
       "<style scoped>\n",
       "    .dataframe tbody tr th:only-of-type {\n",
       "        vertical-align: middle;\n",
       "    }\n",
       "\n",
       "    .dataframe tbody tr th {\n",
       "        vertical-align: top;\n",
       "    }\n",
       "\n",
       "    .dataframe thead th {\n",
       "        text-align: right;\n",
       "    }\n",
       "</style>\n",
       "<table border=\"1\" class=\"dataframe\">\n",
       "  <thead>\n",
       "    <tr style=\"text-align: right;\">\n",
       "      <th></th>\n",
       "      <th>BF_FoleyTimes_FoleyDays</th>\n",
       "      <th>groupby_labels</th>\n",
       "    </tr>\n",
       "  </thead>\n",
       "  <tbody>\n",
       "    <tr>\n",
       "      <td>0</td>\n",
       "      <td>3.22</td>\n",
       "      <td>0</td>\n",
       "    </tr>\n",
       "    <tr>\n",
       "      <td>1</td>\n",
       "      <td>6.49</td>\n",
       "      <td>1</td>\n",
       "    </tr>\n",
       "  </tbody>\n",
       "</table>\n",
       "</div>"
      ],
      "text/plain": [
       "   BF_FoleyTimes_FoleyDays groupby_labels\n",
       "0                     3.22              0\n",
       "1                     6.49              1"
      ]
     },
     "execution_count": 88,
     "metadata": {},
     "output_type": "execute_result"
    }
   ],
   "source": [
    "agg_df"
   ]
  },
  {
   "cell_type": "code",
   "execution_count": null,
   "metadata": {},
   "outputs": [],
   "source": []
  }
 ],
 "metadata": {
  "kernelspec": {
   "display_name": "Python 3",
   "language": "python",
   "name": "python3"
  },
  "language_info": {
   "codemirror_mode": {
    "name": "ipython",
    "version": 3
   },
   "file_extension": ".py",
   "mimetype": "text/x-python",
   "name": "python",
   "nbconvert_exporter": "python",
   "pygments_lexer": "ipython3",
   "version": "3.6.5"
  },
  "toc": {
   "base_numbering": 1,
   "nav_menu": {},
   "number_sections": true,
   "sideBar": true,
   "skip_h1_title": false,
   "title_cell": "Table of Contents",
   "title_sidebar": "Contents",
   "toc_cell": false,
   "toc_position": {},
   "toc_section_display": true,
   "toc_window_display": false
  }
 },
 "nbformat": 4,
 "nbformat_minor": 2
}
