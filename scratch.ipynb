{
 "cells": [
  {
   "cell_type": "code",
   "execution_count": 26,
   "metadata": {
    "ExecuteTime": {
     "end_time": "2020-02-10T17:58:11.093617Z",
     "start_time": "2020-02-10T17:58:09.095617Z"
    }
   },
   "outputs": [
    {
     "name": "stdout",
     "output_type": "stream",
     "text": [
      "The autoreload extension is already loaded. To reload it, use:\n",
      "  %reload_ext autoreload\n"
     ]
    }
   ],
   "source": [
    "import pandas as pd\n",
    "import csv\n",
    "import os\n",
    "import time\n",
    "from collections import defaultdict\n",
    "import numpy as np\n",
    "import itertools\n",
    "import db_structure\n",
    "import networkx as nx\n",
    "import matplotlib.pyplot as plt\n",
    "import utilities as u\n",
    "from flask import jsonify\n",
    "import logging\n",
    "# import exceptions\n",
    "from pandas.api.types import is_string_dtype\n",
    "from pandas.api.types import is_numeric_dtype\n",
    "from web.models import *\n",
    "from web import db\n",
    "import graph\n",
    "\n",
    "logging.basicConfig(format=' %(asctime)s - %(levelname)s - %(message)s')\n",
    "logger = logging.getLogger()\n",
    "logger.setLevel(logging.DEBUG)\n",
    "%load_ext autoreload\n",
    "%aimport -web\n",
    "%autoreload 2"
   ]
  },
  {
   "cell_type": "code",
   "execution_count": null,
   "metadata": {
    "ExecuteTime": {
     "end_time": "2020-02-06T18:32:53.170617Z",
     "start_time": "2020-02-06T18:32:41.663617Z"
    }
   },
   "outputs": [],
   "source": [
    "dataset_name = 'SCA_AcuteCare'\n",
    "draw_db = db_structure.DBExtractor(dataset_name)\n",
    "\n",
    "G = nx.DiGraph()\n",
    "table_names = [x.table_name for x in db.session.query(TableMetadata).filter(TableMetadata.dataset_name == dataset_name, TableMetadata.num_records >= 10000).all()]\n",
    "G.add_nodes_from(table_names)\n",
    "for table_name in table_names:\n",
    "    for sibling in draw_db.find_table_siblings(table_name):\n",
    "        if sibling in table_name:\n",
    "            G.add_edge(table_name, sibling)\n",
    "            G.add_edge(sibling, table_name)\n",
    "    for child in draw_db.find_table_children(table_name):\n",
    "        if child in table_names:\n",
    "            G.add_edge(table_name, child)\n",
    "plt.figure(figsize=(10,10))\n",
    "\n",
    "#draw with networkx built-ins\n",
    "nx.draw_networkx(G, node_shape=\"None\", width=0.2)\n",
    "\n",
    "#OR\n",
    "\n",
    "#draw using pygraphviz\n",
    "#A = nx.nx_agraph.to_agraph(G)\n",
    "#H = nx.nx_agraph.from_agraph(A)\n",
    "#nx.draw_spring(H, node_shape=\"None\", with_labels=True, width=0.2)"
   ]
  },
  {
   "cell_type": "code",
   "execution_count": null,
   "metadata": {
    "ExecuteTime": {
     "end_time": "2020-02-10T16:25:10.924617Z",
     "start_time": "2020-02-10T16:24:49.475617Z"
    }
   },
   "outputs": [],
   "source": [
    "x = db_structure.DBMaker(dataset_name='TOPICC', directory_path='datasets\\\\TOPICC')\n",
    "x.create_db_metadata(dump_to_data_db=True)"
   ]
  },
  {
   "cell_type": "code",
   "execution_count": null,
   "metadata": {
    "ExecuteTime": {
     "end_time": "2020-02-10T16:24:14.681617Z",
     "start_time": "2020-02-10T16:24:12.222617Z"
    }
   },
   "outputs": [],
   "source": [
    "db_structure.DBDestroyer('TOPICC').remove_db()"
   ]
  },
  {
   "cell_type": "code",
   "execution_count": null,
   "metadata": {
    "ExecuteTime": {
     "end_time": "2020-02-06T15:48:16.686617Z",
     "start_time": "2020-02-06T15:48:15.099617Z"
    }
   },
   "outputs": [],
   "source": [
    "y = db_structure.DBLinker(dataset_name='TOPICC')"
   ]
  },
  {
   "cell_type": "code",
   "execution_count": null,
   "metadata": {
    "ExecuteTime": {
     "end_time": "2020-02-06T15:48:19.753617Z",
     "start_time": "2020-02-06T15:48:16.692617Z"
    }
   },
   "outputs": [],
   "source": [
    "y.add_global_fk('PudID')"
   ]
  },
  {
   "cell_type": "code",
   "execution_count": null,
   "metadata": {
    "ExecuteTime": {
     "end_time": "2020-02-06T18:38:28.788617Z",
     "start_time": "2020-02-06T18:38:26.696617Z"
    }
   },
   "outputs": [],
   "source": [
    "z = db_structure.DBExtractor(dataset_name='TOPICC')"
   ]
  },
  {
   "cell_type": "code",
   "execution_count": null,
   "metadata": {
    "ExecuteTime": {
     "end_time": "2020-02-06T18:38:32.396617Z",
     "start_time": "2020-02-06T18:38:28.794617Z"
    }
   },
   "outputs": [],
   "source": [
    "path = ['HOSPITALADMIT', 'CAREPROCESSES', 'DEATH']\n",
    "start = time.time()\n",
    "df = z.get_df_from_path(path, table_columns_of_interest=[('HOSPITALADMIT', 'PudID'), ('HOSPITALADMIT', 'Sex'), ('CAREPROCESSES', 'MechVent'), ('DEATH', 'DeathMode')])\n",
    "end = time.time()\n",
    "print(end-start)"
   ]
  },
  {
   "cell_type": "code",
   "execution_count": null,
   "metadata": {
    "ExecuteTime": {
     "end_time": "2020-02-06T18:38:34.793617Z",
     "start_time": "2020-02-06T18:38:32.416617Z"
    }
   },
   "outputs": [],
   "source": [
    "df"
   ]
  },
  {
   "cell_type": "code",
   "execution_count": 22,
   "metadata": {
    "ExecuteTime": {
     "end_time": "2020-02-10T16:46:50.480617Z",
     "start_time": "2020-02-10T16:40:07.977617Z"
    }
   },
   "outputs": [
    {
     "name": "stderr",
     "output_type": "stream",
     "text": [
      "C:\\Users\\SShah50\\AppData\\Roaming\\Python\\Python36\\site-packages\\dateutil\\parser\\_parser.py:1218: UnknownTimezoneWarning: tzname M identified but not understood.  Pass `tzinfos` argument in order to correctly return a timezone-aware datetime.  In a future version, this will raise an exception.\n",
      "  category=UnknownTimezoneWarning)\n"
     ]
    }
   ],
   "source": [
    "x = db_structure.DBMaker(dataset_name='SCA_AcuteCare', sql_server='CYKPANADBSQL', sql_db='SCA_AcuteCare', schema_name='dbo')\n",
    "x.create_db_metadata(ignore_tables_with_substrings=['MOTempRecsGrp', 'MO_MeasureInfo', 'MO_MedicationDim_55_'])"
   ]
  },
  {
   "cell_type": "code",
   "execution_count": null,
   "metadata": {
    "ExecuteTime": {
     "end_time": "2020-02-07T20:46:10.266617Z",
     "start_time": "2020-02-07T20:43:23.226617Z"
    }
   },
   "outputs": [],
   "source": [
    "y = db_structure.DBLinker(dataset_name='SCA_AcuteCare')\n",
    "for i in y.get_common_column_names():\n",
    "    if i.upper()[-2:] == 'ID' and i.upper() not in ['GUID']:\n",
    "        print(i)\n",
    "        y.add_global_fk(i)"
   ]
  },
  {
   "cell_type": "code",
   "execution_count": 21,
   "metadata": {
    "ExecuteTime": {
     "end_time": "2020-02-10T16:39:45.782617Z",
     "start_time": "2020-02-10T16:39:43.779617Z"
    }
   },
   "outputs": [],
   "source": [
    "db_structure.DBDestroyer('SCA_AcuteCare').remove_db()"
   ]
  },
  {
   "cell_type": "code",
   "execution_count": null,
   "metadata": {
    "ExecuteTime": {
     "end_time": "2020-02-10T15:37:05.932617Z",
     "start_time": "2020-02-10T15:37:03.656617Z"
    }
   },
   "outputs": [],
   "source": [
    "z = db_structure.DBExtractor('SCA_AcuteCare')"
   ]
  },
  {
   "cell_type": "code",
   "execution_count": null,
   "metadata": {
    "ExecuteTime": {
     "end_time": "2020-02-10T15:37:08.682617Z",
     "start_time": "2020-02-10T15:37:05.936617Z"
    }
   },
   "outputs": [],
   "source": [
    "paths = [['BF_FoleyTimes', 'SCAVisit']]\n",
    "table_columns_of_interest = [('BF_FoleyTimes', 'FoleyDays'), ('SCAVisit', 'IsCHF')]\n",
    "filters_with_name_keys = {'SCAVisit_IsCHF': {'filter': ['0', '1'], 'type': 'bool'}}\n",
    "groupby_columns = ['SCAVisit_IsCHF']\n",
    "aggregate_column = 'BF_FoleyTimes_FoleyDays'\n",
    "aggregate_fxn = 'Mean'\n",
    "df = z.get_biggest_df_from_paths(paths, table_columns_of_interest, limit_rows=10000)"
   ]
  },
  {
   "cell_type": "code",
   "execution_count": null,
   "metadata": {
    "ExecuteTime": {
     "end_time": "2020-02-10T15:37:12.322617Z",
     "start_time": "2020-02-10T15:37:10.000617Z"
    }
   },
   "outputs": [],
   "source": [
    "agg_df = z.aggregate_df(df, groupby_columns, filters_with_name_keys, aggregate_column, aggregate_fxn)"
   ]
  },
  {
   "cell_type": "code",
   "execution_count": null,
   "metadata": {
    "ExecuteTime": {
     "end_time": "2020-02-10T15:37:16.183617Z",
     "start_time": "2020-02-10T15:37:14.034617Z"
    }
   },
   "outputs": [],
   "source": [
    "agg_df"
   ]
  },
  {
   "cell_type": "code",
   "execution_count": null,
   "metadata": {
    "ExecuteTime": {
     "end_time": "2020-02-10T16:18:17.641617Z",
     "start_time": "2020-02-10T16:18:15.355617Z"
    }
   },
   "outputs": [],
   "source": [
    "import math\n",
    "math.ceil(50/100*25)"
   ]
  },
  {
   "cell_type": "code",
   "execution_count": 18,
   "metadata": {
    "ExecuteTime": {
     "end_time": "2020-02-10T16:39:00.103617Z",
     "start_time": "2020-02-10T16:38:57.693617Z"
    }
   },
   "outputs": [],
   "source": [
    "from web import db\n",
    "db.session.rollback()"
   ]
  },
  {
   "cell_type": "code",
   "execution_count": 5,
   "metadata": {
    "ExecuteTime": {
     "end_time": "2020-02-10T16:34:59.060617Z",
     "start_time": "2020-02-10T16:34:57.261617Z"
    }
   },
   "outputs": [],
   "source": [
    "query = f\"SELECT tbl.name, MAX(CAST(p.rows AS int)) AS rows FROM sys.tables AS tbl INNER JOIN sys.indexes AS idx ON idx.object_id = tbl.object_id and idx.index_id < 2 INNER JOIN sys.partitions AS p ON p.object_id=CAST(tbl.object_id AS int) AND p.index_id=idx.index_id WHERE (SCHEMA_NAME(tbl.schema_id)='dbo') GROUP BY tbl.name\"\n",
    "num_rows_df = db_structure.execute_sql_query(query=query, sql_server='CYKPANADBSQL', sql_db='SCA_AcuteCare')"
   ]
  },
  {
   "cell_type": "code",
   "execution_count": 14,
   "metadata": {
    "ExecuteTime": {
     "end_time": "2020-02-10T16:37:07.528617Z",
     "start_time": "2020-02-10T16:37:06.018617Z"
    }
   },
   "outputs": [],
   "source": [
    "import math\n",
    "min_rows=1000\n",
    "max_rows=10000\n",
    "analyze_percentage=50\n",
    "num_rows_in_db = num_rows_df[num_rows_df['name'] == 'CV3ClientVisit_Test'].iloc[0]['rows']\n",
    "by_percentage = math.ceil(analyze_percentage / 100 * num_rows_in_db)\n",
    "if by_percentage < min_rows:\n",
    "    num_rows = min_rows\n",
    "elif by_percentage > max_rows:\n",
    "    num_rows = max_rows\n",
    "else:\n",
    "    num_rows = by_percentage"
   ]
  },
  {
   "cell_type": "code",
   "execution_count": 16,
   "metadata": {
    "ExecuteTime": {
     "end_time": "2020-02-10T16:37:21.860617Z",
     "start_time": "2020-02-10T16:37:20.379617Z"
    }
   },
   "outputs": [
    {
     "data": {
      "text/plain": [
       "4915"
      ]
     },
     "execution_count": 16,
     "metadata": {},
     "output_type": "execute_result"
    }
   ],
   "source": [
    "num_rows"
   ]
  },
  {
   "cell_type": "code",
   "execution_count": 15,
   "metadata": {
    "ExecuteTime": {
     "end_time": "2020-02-10T16:37:16.705617Z",
     "start_time": "2020-02-10T16:37:15.195617Z"
    }
   },
   "outputs": [
    {
     "data": {
      "text/plain": [
       "9829"
      ]
     },
     "execution_count": 15,
     "metadata": {},
     "output_type": "execute_result"
    }
   ],
   "source": [
    "num_rows_in_db"
   ]
  },
  {
   "cell_type": "code",
   "execution_count": 85,
   "metadata": {
    "ExecuteTime": {
     "end_time": "2020-02-10T19:20:35.981617Z",
     "start_time": "2020-02-10T19:20:34.377617Z"
    }
   },
   "outputs": [
    {
     "name": "stdout",
     "output_type": "stream",
     "text": [
      "[]\n",
      "[]\n",
      "['A']\n",
      "['C', 'D']\n",
      "['E']\n",
      "['F']\n",
      "['B']\n",
      "['A']\n",
      "['D']\n",
      "[['A', 'C', 'F'], ['A', 'D', 'C', 'F'], ['A', 'B', 'E', 'F']]\n"
     ]
    }
   ],
   "source": [
    "g = graph.Graph()\n",
    "g.add_node('A')\n",
    "g.add_node('B')\n",
    "g.add_node('C')\n",
    "g.add_node('D')\n",
    "g.add_node('E')\n",
    "g.add_node('F')\n",
    "g.add_edge('A', 'C')\n",
    "g.add_edge('A', 'D')\n",
    "g.add_edge('A', 'B')\n",
    "g.add_edge('B', 'A')\n",
    "g.add_edge('B', 'E')\n",
    "g.add_edge('C', 'D')\n",
    "g.add_edge('C', 'F')\n",
    "g.add_edge('D', 'C')\n",
    "g.add_edge('E', 'F')\n",
    "print(g.get_node_parents('A'))  # []\n",
    "print(g.get_node_parents('B'))  # []\n",
    "print(g.get_node_parents('C'))  # ['A']\n",
    "print(g.get_node_children('A')) # ['C']\n",
    "print(g.get_node_children('B')) # []\n",
    "print(g.get_node_children('C')) # []\n",
    "print(g.get_node_siblings('A')) # ['B']\n",
    "print(g.get_node_siblings('B')) # ['A']\n",
    "print(g.get_node_siblings('C')) # []\n",
    "print(g.find_paths_between_nodes('A', 'F'))"
   ]
  },
  {
   "cell_type": "code",
   "execution_count": 71,
   "metadata": {
    "ExecuteTime": {
     "end_time": "2020-02-10T18:50:35.608617Z",
     "start_time": "2020-02-10T18:50:33.596617Z"
    }
   },
   "outputs": [
    {
     "name": "stderr",
     "output_type": "stream",
     "text": [
      "[autoreload of graph failed: Traceback (most recent call last):\n",
      "  File \"C:\\ProgramData\\Anaconda3\\lib\\site-packages\\IPython\\extensions\\autoreload.py\", line 245, in check\n",
      "    superreload(m, reload, self.old_objects)\n",
      "  File \"C:\\ProgramData\\Anaconda3\\lib\\site-packages\\IPython\\extensions\\autoreload.py\", line 368, in superreload\n",
      "    module = reload(module)\n",
      "  File \"C:\\ProgramData\\Anaconda3\\lib\\imp.py\", line 315, in reload\n",
      "    return importlib.reload(module)\n",
      "  File \"C:\\ProgramData\\Anaconda3\\lib\\importlib\\__init__.py\", line 166, in reload\n",
      "    _bootstrap._exec(spec, module)\n",
      "  File \"<frozen importlib._bootstrap>\", line 618, in _exec\n",
      "  File \"<frozen importlib._bootstrap_external>\", line 674, in exec_module\n",
      "  File \"<frozen importlib._bootstrap_external>\", line 781, in get_code\n",
      "  File \"<frozen importlib._bootstrap_external>\", line 741, in source_to_code\n",
      "  File \"<frozen importlib._bootstrap>\", line 219, in _call_with_frames_removed\n",
      "  File \"C:\\Users\\SShah50\\Documents\\Programming\\cohort-visualization\\graph\\__init__.py\", line 26\n",
      "    connectable_nodes = [ for x in self.nodes[node].edges]\n",
      "                            ^\n",
      "SyntaxError: invalid syntax\n",
      "]\n"
     ]
    },
    {
     "data": {
      "text/plain": [
       "{'B': <graph.Edge at 0x1438c208>, 'C': <graph.Edge at 0x1438c630>}"
      ]
     },
     "execution_count": 71,
     "metadata": {},
     "output_type": "execute_result"
    }
   ],
   "source": [
    "g.nodes['A'].edges"
   ]
  },
  {
   "cell_type": "code",
   "execution_count": null,
   "metadata": {},
   "outputs": [],
   "source": []
  }
 ],
 "metadata": {
  "kernelspec": {
   "display_name": "Python 3",
   "language": "python",
   "name": "python3"
  },
  "language_info": {
   "codemirror_mode": {
    "name": "ipython",
    "version": 3
   },
   "file_extension": ".py",
   "mimetype": "text/x-python",
   "name": "python",
   "nbconvert_exporter": "python",
   "pygments_lexer": "ipython3",
   "version": "3.6.5"
  },
  "toc": {
   "base_numbering": 1,
   "nav_menu": {},
   "number_sections": true,
   "sideBar": true,
   "skip_h1_title": false,
   "title_cell": "Table of Contents",
   "title_sidebar": "Contents",
   "toc_cell": false,
   "toc_position": {},
   "toc_section_display": true,
   "toc_window_display": false
  }
 },
 "nbformat": 4,
 "nbformat_minor": 2
}
