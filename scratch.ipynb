{
 "cells": [
  {
   "cell_type": "code",
   "execution_count": 7,
   "metadata": {
    "ExecuteTime": {
     "end_time": "2019-12-16T19:37:37.404229Z",
     "start_time": "2019-12-16T19:37:35.821229Z"
    }
   },
   "outputs": [
    {
     "name": "stdout",
     "output_type": "stream",
     "text": [
      "The autoreload extension is already loaded. To reload it, use:\n",
      "  %reload_ext autoreload\n"
     ]
    }
   ],
   "source": [
    "import pandas as pd\n",
    "import csv\n",
    "import os\n",
    "import time\n",
    "from collections import defaultdict\n",
    "import numpy as np\n",
    "import itertools\n",
    "import db_structure\n",
    "import db_structure_v2\n",
    "import networkx as nx\n",
    "from imp import reload\n",
    "import matplotlib.pyplot as plt\n",
    "import utilities as u\n",
    "from flask import jsonify\n",
    "import logging\n",
    "# import exceptions\n",
    "from pandas.api.types import is_string_dtype\n",
    "from pandas.api.types import is_numeric_dtype\n",
    "\n",
    "logging.basicConfig(format=' %(asctime)s - %(levelname)s - %(message)s')\n",
    "logger = logging.getLogger()\n",
    "logger.setLevel(logging.DEBUG)\n",
    "%load_ext autoreload\n",
    "%aimport -web\n",
    "%autoreload 2"
   ]
  },
  {
   "cell_type": "code",
   "execution_count": null,
   "metadata": {},
   "outputs": [],
   "source": [
    "draw_db = db\n",
    "\n",
    "G = nx.DiGraph()\n",
    "G.add_nodes_from(draw_db.table_names)\n",
    "for table_name in draw_db.table_names:\n",
    "    for sibling in draw_db.find_table_siblings(table_name):\n",
    "        G.add_edge(table_name, sibling)\n",
    "        G.add_edge(sibling, table_name)\n",
    "    for child in draw_db.find_table_children(table_name):\n",
    "        G.add_edge(table_name, child)\n",
    "plt.figure(figsize=(10,10))\n",
    "\n",
    "#draw with networkx built-ins\n",
    "nx.draw_networkx(G, node_shape=\"None\", width=0.2)\n",
    "\n",
    "#OR\n",
    "\n",
    "#draw using pygraphviz\n",
    "#A = nx.nx_agraph.to_agraph(G)\n",
    "#H = nx.nx_agraph.from_agraph(A)\n",
    "#nx.draw_spring(H, node_shape=\"None\", with_labels=True, width=0.2)"
   ]
  },
  {
   "cell_type": "code",
   "execution_count": 150,
   "metadata": {
    "ExecuteTime": {
     "end_time": "2019-12-17T18:51:41.206229Z",
     "start_time": "2019-12-17T18:51:39.303229Z"
    }
   },
   "outputs": [],
   "source": [
    "x = db_structure_v2.DBMaker(directory_path='datasets\\\\TOPICC')"
   ]
  },
  {
   "cell_type": "code",
   "execution_count": 151,
   "metadata": {
    "ExecuteTime": {
     "end_time": "2019-12-17T18:52:00.861229Z",
     "start_time": "2019-12-17T18:51:41.211229Z"
    }
   },
   "outputs": [
    {
     "name": "stderr",
     "output_type": "stream",
     "text": [
      " 2019-12-17 13:51:43,159 - INFO - Writing CARDIACPROCEDURES to db\n",
      " 2019-12-17 13:51:44,634 - INFO - Writing CARDIACSURGERY to db\n",
      " 2019-12-17 13:51:45,263 - INFO - Writing CAREPROCESSES to db\n",
      " 2019-12-17 13:51:46,342 - INFO - Writing CATASTROPHICEVENTS to db\n",
      " 2019-12-17 13:51:46,656 - INFO - Writing CPR to db\n",
      " 2019-12-17 13:51:47,021 - INFO - Writing DEATH to db\n",
      " 2019-12-17 13:51:47,562 - INFO - Writing HOSPITALADMIT to db\n",
      " 2019-12-17 13:51:49,261 - INFO - Writing HOSPITALADMIT_CE to db\n",
      " 2019-12-17 13:51:49,696 - INFO - Writing HOSPITALDISCHARGE to db\n",
      " 2019-12-17 13:51:51,045 - INFO - Writing LIMITOFCARE to db\n",
      " 2019-12-17 13:51:51,511 - INFO - Writing PHYSIOSTATUS to db\n",
      " 2019-12-17 13:51:53,854 - INFO - Writing PICUADMIT to db\n",
      " 2019-12-17 13:51:55,175 - INFO - Writing PICUADMIT_ADMITSECONDDX to db\n",
      " 2019-12-17 13:51:55,802 - INFO - Writing PICUADMIT_AHD to db\n",
      " 2019-12-17 13:51:56,174 - INFO - Writing PICUADMIT_CHD to db\n",
      " 2019-12-17 13:51:56,622 - INFO - Writing PICUADMIT_CHRONICDX to db\n",
      " 2019-12-17 13:51:57,476 - INFO - Writing PICUDISCHARGE to db\n",
      " 2019-12-17 13:51:58,997 - INFO - Writing PICUDISCHARGE_DISCHRONICDX to db\n",
      " 2019-12-17 13:51:59,440 - INFO - Writing PICUDISCHARGE_DISSECONDDX to db\n",
      " 2019-12-17 13:51:59,977 - INFO - Writing SURGERY to db\n",
      " 2019-12-17 13:52:00,840 - INFO - Finished writing TOPICC.db\n",
      " 2019-12-17 13:52:00,842 - INFO - Dumping metadata to TOPICC.metadata\n"
     ]
    }
   ],
   "source": [
    "x.create_db(overwrite=True)"
   ]
  },
  {
   "cell_type": "code",
   "execution_count": 157,
   "metadata": {
    "ExecuteTime": {
     "end_time": "2019-12-17T18:53:39.916229Z",
     "start_time": "2019-12-17T18:53:38.534229Z"
    },
    "scrolled": true
   },
   "outputs": [],
   "source": [
    "y = db_structure_v2.DBLinker(directory_path='datasets\\\\TOPICC')"
   ]
  },
  {
   "cell_type": "code",
   "execution_count": 158,
   "metadata": {
    "ExecuteTime": {
     "end_time": "2019-12-17T18:53:41.573229Z",
     "start_time": "2019-12-17T18:53:39.919229Z"
    }
   },
   "outputs": [
    {
     "ename": "Exception",
     "evalue": "Linking has been finalized. Delete the .metadata file if you want to re-do it",
     "output_type": "error",
     "traceback": [
      "\u001b[1;31m---------------------------------------------------------------------------\u001b[0m",
      "\u001b[1;31mException\u001b[0m                                 Traceback (most recent call last)",
      "\u001b[1;32m<ipython-input-158-0f4dcd0d4808>\u001b[0m in \u001b[0;36m<module>\u001b[1;34m()\u001b[0m\n\u001b[1;32m----> 1\u001b[1;33m \u001b[0my\u001b[0m\u001b[1;33m.\u001b[0m\u001b[0madd_global_fk\u001b[0m\u001b[1;33m(\u001b[0m\u001b[1;34m'PudID'\u001b[0m\u001b[1;33m)\u001b[0m\u001b[1;33m\u001b[0m\u001b[0m\n\u001b[0m",
      "\u001b[1;32m~\\Documents\\Programming\\cohort-visualization\\db_structure_v2.py\u001b[0m in \u001b[0;36madd_global_fk\u001b[1;34m(self, column)\u001b[0m\n\u001b[0;32m    140\u001b[0m     \u001b[1;32mdef\u001b[0m \u001b[0madd_global_fk\u001b[0m\u001b[1;33m(\u001b[0m\u001b[0mself\u001b[0m\u001b[1;33m,\u001b[0m \u001b[0mcolumn\u001b[0m\u001b[1;33m)\u001b[0m\u001b[1;33m:\u001b[0m\u001b[1;33m\u001b[0m\u001b[0m\n\u001b[0;32m    141\u001b[0m         \u001b[1;32mif\u001b[0m \u001b[0mself\u001b[0m\u001b[1;33m.\u001b[0m\u001b[0mfinalized\u001b[0m\u001b[1;33m:\u001b[0m\u001b[1;33m\u001b[0m\u001b[0m\n\u001b[1;32m--> 142\u001b[1;33m             \u001b[1;32mraise\u001b[0m \u001b[0mException\u001b[0m\u001b[1;33m(\u001b[0m\u001b[1;34m'Linking has been finalized. Delete the .metadata file if you want to re-do it'\u001b[0m\u001b[1;33m)\u001b[0m\u001b[1;33m\u001b[0m\u001b[0m\n\u001b[0m\u001b[0;32m    143\u001b[0m         \u001b[0mtables_found\u001b[0m \u001b[1;33m=\u001b[0m \u001b[1;33m[\u001b[0m\u001b[1;33m]\u001b[0m\u001b[1;33m\u001b[0m\u001b[0m\n\u001b[0;32m    144\u001b[0m         \u001b[1;32mfor\u001b[0m \u001b[0mtable\u001b[0m \u001b[1;32min\u001b[0m \u001b[0mself\u001b[0m\u001b[1;33m.\u001b[0m\u001b[0mtable_names\u001b[0m\u001b[1;33m:\u001b[0m\u001b[1;33m\u001b[0m\u001b[0m\n",
      "\u001b[1;31mException\u001b[0m: Linking has been finalized. Delete the .metadata file if you want to re-do it"
     ]
    }
   ],
   "source": [
    "y.add_global_fk('PudID')"
   ]
  },
  {
   "cell_type": "code",
   "execution_count": null,
   "metadata": {
    "ExecuteTime": {
     "end_time": "2019-12-17T18:53:41.575229Z",
     "start_time": "2019-12-17T18:53:40.136Z"
    }
   },
   "outputs": [],
   "source": [
    "y.finalize()"
   ]
  },
  {
   "cell_type": "code",
   "execution_count": 172,
   "metadata": {
    "ExecuteTime": {
     "end_time": "2019-12-17T19:33:45.027229Z",
     "start_time": "2019-12-17T19:33:43.667229Z"
    }
   },
   "outputs": [],
   "source": [
    "z = db_structure_v2.DBExtractor(directory_path='datasets\\\\TOPICC')"
   ]
  },
  {
   "cell_type": "code",
   "execution_count": 166,
   "metadata": {
    "ExecuteTime": {
     "end_time": "2019-12-17T19:22:06.133229Z",
     "start_time": "2019-12-17T19:22:04.219229Z"
    }
   },
   "outputs": [
    {
     "data": {
      "text/plain": [
       "[]"
      ]
     },
     "execution_count": 166,
     "metadata": {},
     "output_type": "execute_result"
    }
   ],
   "source": [
    "z.find_paths_between_tables('CPR', 'CARDIACPROCEDURES')"
   ]
  },
  {
   "cell_type": "code",
   "execution_count": 171,
   "metadata": {
    "ExecuteTime": {
     "end_time": "2019-12-17T19:33:29.770229Z",
     "start_time": "2019-12-17T19:33:27.753229Z"
    }
   },
   "outputs": [
    {
     "data": {
      "text/plain": [
       "[['CPR', 'HOSPITALADMIT', 'DEATH'], ['CPR', 'DEATH', 'HOSPITALADMIT']]"
      ]
     },
     "execution_count": 171,
     "metadata": {},
     "output_type": "execute_result"
    }
   ],
   "source": [
    "z.find_paths_multi_tables(['HOSPITALADMIT', 'DEATH', 'CPR'])"
   ]
  },
  {
   "cell_type": "code",
   "execution_count": 193,
   "metadata": {
    "ExecuteTime": {
     "end_time": "2019-12-17T19:44:56.400229Z",
     "start_time": "2019-12-17T19:44:54.999229Z"
    }
   },
   "outputs": [
    {
     "name": "stderr",
     "output_type": "stream",
     "text": [
      " 2019-12-17 14:44:56,353 - INFO - SELECT CAREPROCESSES.MechVent FROM CPR JOIN HOSPITALADMIT ON CPR.PudID = HOSPITALADMIT.PudID JOIN CAREPROCESSES ON HOSPITALADMIT.PudID = CAREPROCESSES.PudID \n"
     ]
    },
    {
     "name": "stdout",
     "output_type": "stream",
     "text": [
      "0.04200005531311035\n"
     ]
    }
   ],
   "source": [
    "path = ['CPR', 'HOSPITALADMIT', 'CAREPROCESSES']\n",
    "start = time.time()\n",
    "df = z.get_df_from_path(path, table_columns_of_interest=['CAREPROCESSES.MechVent'])\n",
    "end = time.time()\n",
    "print(end-start)"
   ]
  },
  {
   "cell_type": "code",
   "execution_count": 194,
   "metadata": {
    "ExecuteTime": {
     "end_time": "2019-12-17T19:44:57.952229Z",
     "start_time": "2019-12-17T19:44:56.405229Z"
    }
   },
   "outputs": [
    {
     "data": {
      "text/html": [
       "<div>\n",
       "<style scoped>\n",
       "    .dataframe tbody tr th:only-of-type {\n",
       "        vertical-align: middle;\n",
       "    }\n",
       "\n",
       "    .dataframe tbody tr th {\n",
       "        vertical-align: top;\n",
       "    }\n",
       "\n",
       "    .dataframe thead th {\n",
       "        text-align: right;\n",
       "    }\n",
       "</style>\n",
       "<table border=\"1\" class=\"dataframe\">\n",
       "  <thead>\n",
       "    <tr style=\"text-align: right;\">\n",
       "      <th></th>\n",
       "      <th>MechVent</th>\n",
       "    </tr>\n",
       "  </thead>\n",
       "  <tbody>\n",
       "    <tr>\n",
       "      <td>0</td>\n",
       "      <td>Yes</td>\n",
       "    </tr>\n",
       "    <tr>\n",
       "      <td>1</td>\n",
       "      <td>Yes</td>\n",
       "    </tr>\n",
       "    <tr>\n",
       "      <td>2</td>\n",
       "      <td>Yes</td>\n",
       "    </tr>\n",
       "    <tr>\n",
       "      <td>3</td>\n",
       "      <td>Yes</td>\n",
       "    </tr>\n",
       "    <tr>\n",
       "      <td>4</td>\n",
       "      <td>Yes</td>\n",
       "    </tr>\n",
       "    <tr>\n",
       "      <td>...</td>\n",
       "      <td>...</td>\n",
       "    </tr>\n",
       "    <tr>\n",
       "      <td>188</td>\n",
       "      <td>Yes</td>\n",
       "    </tr>\n",
       "    <tr>\n",
       "      <td>189</td>\n",
       "      <td>Yes</td>\n",
       "    </tr>\n",
       "    <tr>\n",
       "      <td>190</td>\n",
       "      <td>Yes</td>\n",
       "    </tr>\n",
       "    <tr>\n",
       "      <td>191</td>\n",
       "      <td>Yes</td>\n",
       "    </tr>\n",
       "    <tr>\n",
       "      <td>192</td>\n",
       "      <td>Yes</td>\n",
       "    </tr>\n",
       "  </tbody>\n",
       "</table>\n",
       "<p>193 rows × 1 columns</p>\n",
       "</div>"
      ],
      "text/plain": [
       "    MechVent\n",
       "0        Yes\n",
       "1        Yes\n",
       "2        Yes\n",
       "3        Yes\n",
       "4        Yes\n",
       "..       ...\n",
       "188      Yes\n",
       "189      Yes\n",
       "190      Yes\n",
       "191      Yes\n",
       "192      Yes\n",
       "\n",
       "[193 rows x 1 columns]"
      ]
     },
     "execution_count": 194,
     "metadata": {},
     "output_type": "execute_result"
    }
   ],
   "source": [
    "df"
   ]
  },
  {
   "cell_type": "code",
   "execution_count": null,
   "metadata": {},
   "outputs": [],
   "source": []
  }
 ],
 "metadata": {
  "kernelspec": {
   "display_name": "Python 3",
   "language": "python",
   "name": "python3"
  },
  "language_info": {
   "codemirror_mode": {
    "name": "ipython",
    "version": 3
   },
   "file_extension": ".py",
   "mimetype": "text/x-python",
   "name": "python",
   "nbconvert_exporter": "python",
   "pygments_lexer": "ipython3",
   "version": "3.6.5"
  },
  "toc": {
   "base_numbering": 1,
   "nav_menu": {},
   "number_sections": true,
   "sideBar": true,
   "skip_h1_title": false,
   "title_cell": "Table of Contents",
   "title_sidebar": "Contents",
   "toc_cell": false,
   "toc_position": {},
   "toc_section_display": true,
   "toc_window_display": false
  }
 },
 "nbformat": 4,
 "nbformat_minor": 2
}
