{
 "cells": [
  {
   "cell_type": "code",
   "execution_count": 168,
   "metadata": {
    "ExecuteTime": {
     "end_time": "2019-10-11T14:48:39.856294Z",
     "start_time": "2019-10-11T14:48:38.422294Z"
    }
   },
   "outputs": [
    {
     "name": "stdout",
     "output_type": "stream",
     "text": [
      "The autoreload extension is already loaded. To reload it, use:\n",
      "  %reload_ext autoreload\n"
     ]
    }
   ],
   "source": [
    "import pandas as pd\n",
    "import csv\n",
    "import os\n",
    "import time\n",
    "from collections import defaultdict\n",
    "import numpy as np\n",
    "import itertools\n",
    "import db_structure\n",
    "import networkx as nx\n",
    "from imp import reload\n",
    "import matplotlib.pyplot as plt\n",
    "import utilities as u\n",
    "from flask import jsonify\n",
    "import logging\n",
    "# import exceptions\n",
    "from pandas.api.types import is_string_dtype\n",
    "from pandas.api.types import is_numeric_dtype\n",
    "\n",
    "logging.basicConfig(format=' %(asctime)s - %(levelname)s - %(message)s')\n",
    "logger = logging.getLogger()\n",
    "logger.setLevel(logging.DEBUG)\n",
    "%load_ext autoreload\n",
    "%aimport -web\n",
    "%autoreload 2"
   ]
  },
  {
   "cell_type": "code",
   "execution_count": 404,
   "metadata": {
    "ExecuteTime": {
     "end_time": "2019-10-11T16:21:30.782294Z",
     "start_time": "2019-10-11T16:21:29.294294Z"
    }
   },
   "outputs": [
    {
     "name": "stderr",
     "output_type": "stream",
     "text": [
      " 2019-10-11 12:21:30,761 - INFO - Loading datasets\\TOPICC\n",
      " 2019-10-11 12:21:30,767 - INFO - Loading arch file: datasets\\TOPICC\\TOPICC.arch\n"
     ]
    }
   ],
   "source": [
    "db = db_structure.DB(os.path.join('datasets', 'TOPICC'))\n",
    "dm = db_structure.DataManager(db)"
   ]
  },
  {
   "cell_type": "code",
   "execution_count": 424,
   "metadata": {
    "ExecuteTime": {
     "end_time": "2019-10-11T16:57:08.243294Z",
     "start_time": "2019-10-11T16:57:06.631294Z"
    }
   },
   "outputs": [
    {
     "name": "stderr",
     "output_type": "stream",
     "text": [
      " 2019-10-11 12:57:08,044 - DEBUG - Loading file datasets\\TOPICC\\HOSPITALADMIT.csv\n"
     ]
    }
   ],
   "source": [
    "all_chosen_idxs = ['291', '323']\n",
    "paths = db.find_paths_multi_columns(all_chosen_idxs)\n",
    "df = dm.get_biggest_joined_df_option_from_paths(paths, filter_col_idxs=all_chosen_idxs)"
   ]
  },
  {
   "cell_type": "code",
   "execution_count": 425,
   "metadata": {
    "ExecuteTime": {
     "end_time": "2019-10-11T16:57:09.854294Z",
     "start_time": "2019-10-11T16:57:08.248294Z"
    }
   },
   "outputs": [
    {
     "name": "stdout",
     "output_type": "stream",
     "text": [
      "275\n"
     ]
    },
    {
     "data": {
      "text/html": [
       "<div>\n",
       "<style scoped>\n",
       "    .dataframe tbody tr th:only-of-type {\n",
       "        vertical-align: middle;\n",
       "    }\n",
       "\n",
       "    .dataframe tbody tr th {\n",
       "        vertical-align: top;\n",
       "    }\n",
       "\n",
       "    .dataframe thead th {\n",
       "        text-align: right;\n",
       "    }\n",
       "</style>\n",
       "<table border=\"1\" class=\"dataframe\">\n",
       "  <thead>\n",
       "    <tr style=\"text-align: right;\">\n",
       "      <th></th>\n",
       "      <th>DeathTime_[DEATH]</th>\n",
       "      <th>Ethnicity_[HOSPITALADMIT]</th>\n",
       "    </tr>\n",
       "  </thead>\n",
       "  <tbody>\n",
       "    <tr>\n",
       "      <th>0</th>\n",
       "      <td>1203</td>\n",
       "      <td>Not Hispanic or Latino</td>\n",
       "    </tr>\n",
       "    <tr>\n",
       "      <th>1</th>\n",
       "      <td>1440</td>\n",
       "      <td>Not Hispanic or Latino</td>\n",
       "    </tr>\n",
       "    <tr>\n",
       "      <th>2</th>\n",
       "      <td>1903</td>\n",
       "      <td>Unknown or Not Reported</td>\n",
       "    </tr>\n",
       "    <tr>\n",
       "      <th>3</th>\n",
       "      <td>1922</td>\n",
       "      <td>Unknown or Not Reported</td>\n",
       "    </tr>\n",
       "    <tr>\n",
       "      <th>4</th>\n",
       "      <td>132</td>\n",
       "      <td>Unknown or Not Reported</td>\n",
       "    </tr>\n",
       "  </tbody>\n",
       "</table>\n",
       "</div>"
      ],
      "text/plain": [
       "   DeathTime_[DEATH] Ethnicity_[HOSPITALADMIT]\n",
       "0               1203    Not Hispanic or Latino\n",
       "1               1440    Not Hispanic or Latino\n",
       "2               1903   Unknown or Not Reported\n",
       "3               1922   Unknown or Not Reported\n",
       "4                132   Unknown or Not Reported"
      ]
     },
     "execution_count": 425,
     "metadata": {},
     "output_type": "execute_result"
    }
   ],
   "source": [
    "print(len(df))\n",
    "df.head()"
   ]
  },
  {
   "cell_type": "code",
   "execution_count": 407,
   "metadata": {
    "ExecuteTime": {
     "end_time": "2019-10-11T16:21:35.387294Z",
     "start_time": "2019-10-11T16:21:33.906294Z"
    }
   },
   "outputs": [],
   "source": [
    "filters = {'291': {'type': 'range', 'filter': {'min': 890, 'max': 1226, 'bins': '8'}}, '323': {'type': 'list', 'filter': ['Hispanic or Latino', 'Not Hispanic or Latino']}}"
   ]
  },
  {
   "cell_type": "code",
   "execution_count": 408,
   "metadata": {
    "ExecuteTime": {
     "end_time": "2019-10-11T16:21:36.989294Z",
     "start_time": "2019-10-11T16:21:35.390294Z"
    }
   },
   "outputs": [],
   "source": [
    "filters = dm.rewrite_filters(filters)"
   ]
  },
  {
   "cell_type": "code",
   "execution_count": 409,
   "metadata": {
    "ExecuteTime": {
     "end_time": "2019-10-11T16:21:38.695294Z",
     "start_time": "2019-10-11T16:21:37.006294Z"
    }
   },
   "outputs": [
    {
     "data": {
      "text/plain": [
       "{'260': {'type': 'bins',\n",
       "  'filter': [715.0,\n",
       "   871.8571428571429,\n",
       "   1028.7142857142858,\n",
       "   1185.5714285714287,\n",
       "   1342.4285714285713,\n",
       "   1499.2857142857142,\n",
       "   1656.142857142857,\n",
       "   1813.0]},\n",
       " '294': {'type': 'list',\n",
       "  'filter': ['Withdrawal of care', 'Limitation of care']}}"
      ]
     },
     "execution_count": 409,
     "metadata": {},
     "output_type": "execute_result"
    }
   ],
   "source": [
    "filters"
   ]
  },
  {
   "cell_type": "code",
   "execution_count": 410,
   "metadata": {
    "ExecuteTime": {
     "end_time": "2019-10-11T16:21:40.222294Z",
     "start_time": "2019-10-11T16:21:38.699294Z"
    }
   },
   "outputs": [],
   "source": [
    "new_df = dm.filter_df(df, filters)"
   ]
  },
  {
   "cell_type": "code",
   "execution_count": 411,
   "metadata": {
    "ExecuteTime": {
     "end_time": "2019-10-11T16:21:41.860294Z",
     "start_time": "2019-10-11T16:21:40.226294Z"
    }
   },
   "outputs": [
    {
     "name": "stdout",
     "output_type": "stream",
     "text": [
      "33\n"
     ]
    },
    {
     "data": {
      "text/html": [
       "<div>\n",
       "<style scoped>\n",
       "    .dataframe tbody tr th:only-of-type {\n",
       "        vertical-align: middle;\n",
       "    }\n",
       "\n",
       "    .dataframe tbody tr th {\n",
       "        vertical-align: top;\n",
       "    }\n",
       "\n",
       "    .dataframe thead th {\n",
       "        text-align: right;\n",
       "    }\n",
       "</style>\n",
       "<table border=\"1\" class=\"dataframe\">\n",
       "  <thead>\n",
       "    <tr style=\"text-align: right;\">\n",
       "      <th></th>\n",
       "      <th>CardiacSurgTime_[CARDIACSURGERY]</th>\n",
       "      <th>DeathMode_[DEATH]</th>\n",
       "    </tr>\n",
       "  </thead>\n",
       "  <tbody>\n",
       "    <tr>\n",
       "      <th>0</th>\n",
       "      <td>(1342.4285714285713, 1499.2857142857142)</td>\n",
       "      <td>Withdrawal of care</td>\n",
       "    </tr>\n",
       "    <tr>\n",
       "      <th>2</th>\n",
       "      <td>(715.0, 871.8571428571429)</td>\n",
       "      <td>Withdrawal of care</td>\n",
       "    </tr>\n",
       "    <tr>\n",
       "      <th>4</th>\n",
       "      <td>(871.8571428571429, 1028.7142857142858)</td>\n",
       "      <td>Withdrawal of care</td>\n",
       "    </tr>\n",
       "    <tr>\n",
       "      <th>5</th>\n",
       "      <td>(715.0, 871.8571428571429)</td>\n",
       "      <td>Withdrawal of care</td>\n",
       "    </tr>\n",
       "    <tr>\n",
       "      <th>6</th>\n",
       "      <td>(715.0, 871.8571428571429)</td>\n",
       "      <td>Withdrawal of care</td>\n",
       "    </tr>\n",
       "    <tr>\n",
       "      <th>7</th>\n",
       "      <td>(715.0, 871.8571428571429)</td>\n",
       "      <td>Limitation of care</td>\n",
       "    </tr>\n",
       "    <tr>\n",
       "      <th>10</th>\n",
       "      <td>(715.0, 871.8571428571429)</td>\n",
       "      <td>Withdrawal of care</td>\n",
       "    </tr>\n",
       "    <tr>\n",
       "      <th>11</th>\n",
       "      <td>(871.8571428571429, 1028.7142857142858)</td>\n",
       "      <td>Withdrawal of care</td>\n",
       "    </tr>\n",
       "    <tr>\n",
       "      <th>12</th>\n",
       "      <td>(715.0, 871.8571428571429)</td>\n",
       "      <td>Withdrawal of care</td>\n",
       "    </tr>\n",
       "    <tr>\n",
       "      <th>13</th>\n",
       "      <td>(715.0, 871.8571428571429)</td>\n",
       "      <td>Withdrawal of care</td>\n",
       "    </tr>\n",
       "    <tr>\n",
       "      <th>15</th>\n",
       "      <td>(1499.2857142857142, 1656.142857142857)</td>\n",
       "      <td>Withdrawal of care</td>\n",
       "    </tr>\n",
       "    <tr>\n",
       "      <th>19</th>\n",
       "      <td>(1185.5714285714287, 1342.4285714285713)</td>\n",
       "      <td>Withdrawal of care</td>\n",
       "    </tr>\n",
       "    <tr>\n",
       "      <th>20</th>\n",
       "      <td>(871.8571428571429, 1028.7142857142858)</td>\n",
       "      <td>Limitation of care</td>\n",
       "    </tr>\n",
       "    <tr>\n",
       "      <th>22</th>\n",
       "      <td>(1028.7142857142858, 1185.5714285714287)</td>\n",
       "      <td>Withdrawal of care</td>\n",
       "    </tr>\n",
       "    <tr>\n",
       "      <th>24</th>\n",
       "      <td>(1499.2857142857142, 1656.142857142857)</td>\n",
       "      <td>Withdrawal of care</td>\n",
       "    </tr>\n",
       "    <tr>\n",
       "      <th>25</th>\n",
       "      <td>(1342.4285714285713, 1499.2857142857142)</td>\n",
       "      <td>Withdrawal of care</td>\n",
       "    </tr>\n",
       "    <tr>\n",
       "      <th>27</th>\n",
       "      <td>(715.0, 871.8571428571429)</td>\n",
       "      <td>Withdrawal of care</td>\n",
       "    </tr>\n",
       "    <tr>\n",
       "      <th>28</th>\n",
       "      <td>(1185.5714285714287, 1342.4285714285713)</td>\n",
       "      <td>Withdrawal of care</td>\n",
       "    </tr>\n",
       "    <tr>\n",
       "      <th>33</th>\n",
       "      <td>(715.0, 871.8571428571429)</td>\n",
       "      <td>Withdrawal of care</td>\n",
       "    </tr>\n",
       "    <tr>\n",
       "      <th>34</th>\n",
       "      <td>(715.0, 871.8571428571429)</td>\n",
       "      <td>Withdrawal of care</td>\n",
       "    </tr>\n",
       "    <tr>\n",
       "      <th>35</th>\n",
       "      <td>(1028.7142857142858, 1185.5714285714287)</td>\n",
       "      <td>Withdrawal of care</td>\n",
       "    </tr>\n",
       "    <tr>\n",
       "      <th>36</th>\n",
       "      <td>(871.8571428571429, 1028.7142857142858)</td>\n",
       "      <td>Withdrawal of care</td>\n",
       "    </tr>\n",
       "    <tr>\n",
       "      <th>38</th>\n",
       "      <td>(715.0, 871.8571428571429)</td>\n",
       "      <td>Withdrawal of care</td>\n",
       "    </tr>\n",
       "    <tr>\n",
       "      <th>39</th>\n",
       "      <td>(1499.2857142857142, 1656.142857142857)</td>\n",
       "      <td>Withdrawal of care</td>\n",
       "    </tr>\n",
       "    <tr>\n",
       "      <th>40</th>\n",
       "      <td>(715.0, 871.8571428571429)</td>\n",
       "      <td>Withdrawal of care</td>\n",
       "    </tr>\n",
       "    <tr>\n",
       "      <th>43</th>\n",
       "      <td>(1028.7142857142858, 1185.5714285714287)</td>\n",
       "      <td>Withdrawal of care</td>\n",
       "    </tr>\n",
       "    <tr>\n",
       "      <th>50</th>\n",
       "      <td>(715.0, 871.8571428571429)</td>\n",
       "      <td>Withdrawal of care</td>\n",
       "    </tr>\n",
       "    <tr>\n",
       "      <th>51</th>\n",
       "      <td>(1185.5714285714287, 1342.4285714285713)</td>\n",
       "      <td>Withdrawal of care</td>\n",
       "    </tr>\n",
       "    <tr>\n",
       "      <th>52</th>\n",
       "      <td>(715.0, 871.8571428571429)</td>\n",
       "      <td>Withdrawal of care</td>\n",
       "    </tr>\n",
       "    <tr>\n",
       "      <th>54</th>\n",
       "      <td>(1185.5714285714287, 1342.4285714285713)</td>\n",
       "      <td>Withdrawal of care</td>\n",
       "    </tr>\n",
       "    <tr>\n",
       "      <th>55</th>\n",
       "      <td>(715.0, 871.8571428571429)</td>\n",
       "      <td>Withdrawal of care</td>\n",
       "    </tr>\n",
       "    <tr>\n",
       "      <th>56</th>\n",
       "      <td>(715.0, 871.8571428571429)</td>\n",
       "      <td>Withdrawal of care</td>\n",
       "    </tr>\n",
       "    <tr>\n",
       "      <th>57</th>\n",
       "      <td>(1185.5714285714287, 1342.4285714285713)</td>\n",
       "      <td>Withdrawal of care</td>\n",
       "    </tr>\n",
       "  </tbody>\n",
       "</table>\n",
       "</div>"
      ],
      "text/plain": [
       "            CardiacSurgTime_[CARDIACSURGERY]   DeathMode_[DEATH]\n",
       "0   (1342.4285714285713, 1499.2857142857142)  Withdrawal of care\n",
       "2                 (715.0, 871.8571428571429)  Withdrawal of care\n",
       "4    (871.8571428571429, 1028.7142857142858)  Withdrawal of care\n",
       "5                 (715.0, 871.8571428571429)  Withdrawal of care\n",
       "6                 (715.0, 871.8571428571429)  Withdrawal of care\n",
       "7                 (715.0, 871.8571428571429)  Limitation of care\n",
       "10                (715.0, 871.8571428571429)  Withdrawal of care\n",
       "11   (871.8571428571429, 1028.7142857142858)  Withdrawal of care\n",
       "12                (715.0, 871.8571428571429)  Withdrawal of care\n",
       "13                (715.0, 871.8571428571429)  Withdrawal of care\n",
       "15   (1499.2857142857142, 1656.142857142857)  Withdrawal of care\n",
       "19  (1185.5714285714287, 1342.4285714285713)  Withdrawal of care\n",
       "20   (871.8571428571429, 1028.7142857142858)  Limitation of care\n",
       "22  (1028.7142857142858, 1185.5714285714287)  Withdrawal of care\n",
       "24   (1499.2857142857142, 1656.142857142857)  Withdrawal of care\n",
       "25  (1342.4285714285713, 1499.2857142857142)  Withdrawal of care\n",
       "27                (715.0, 871.8571428571429)  Withdrawal of care\n",
       "28  (1185.5714285714287, 1342.4285714285713)  Withdrawal of care\n",
       "33                (715.0, 871.8571428571429)  Withdrawal of care\n",
       "34                (715.0, 871.8571428571429)  Withdrawal of care\n",
       "35  (1028.7142857142858, 1185.5714285714287)  Withdrawal of care\n",
       "36   (871.8571428571429, 1028.7142857142858)  Withdrawal of care\n",
       "38                (715.0, 871.8571428571429)  Withdrawal of care\n",
       "39   (1499.2857142857142, 1656.142857142857)  Withdrawal of care\n",
       "40                (715.0, 871.8571428571429)  Withdrawal of care\n",
       "43  (1028.7142857142858, 1185.5714285714287)  Withdrawal of care\n",
       "50                (715.0, 871.8571428571429)  Withdrawal of care\n",
       "51  (1185.5714285714287, 1342.4285714285713)  Withdrawal of care\n",
       "52                (715.0, 871.8571428571429)  Withdrawal of care\n",
       "54  (1185.5714285714287, 1342.4285714285713)  Withdrawal of care\n",
       "55                (715.0, 871.8571428571429)  Withdrawal of care\n",
       "56                (715.0, 871.8571428571429)  Withdrawal of care\n",
       "57  (1185.5714285714287, 1342.4285714285713)  Withdrawal of care"
      ]
     },
     "execution_count": 411,
     "metadata": {},
     "output_type": "execute_result"
    }
   ],
   "source": [
    "print(len(new_df))\n",
    "new_df"
   ]
  },
  {
   "cell_type": "code",
   "execution_count": 412,
   "metadata": {
    "ExecuteTime": {
     "end_time": "2019-10-11T16:21:43.878294Z",
     "start_time": "2019-10-11T16:21:41.864294Z"
    }
   },
   "outputs": [
    {
     "name": "stderr",
     "output_type": "stream",
     "text": [
      " 2019-10-11 12:21:43,824 - DEBUG - DF before adding in missing labels:     Count                                     groupby_labels\n",
      "0       0  (1028.7142857142858, 1185.5714285714287)_Limit...\n",
      "1       3  (1028.7142857142858, 1185.5714285714287)_Withd...\n",
      "2       0  (1185.5714285714287, 1342.4285714285713)_Limit...\n",
      "3       5  (1185.5714285714287, 1342.4285714285713)_Withd...\n",
      "4       0  (1342.4285714285713, 1499.2857142857142)_Limit...\n",
      "5       2  (1342.4285714285713, 1499.2857142857142)_Withd...\n",
      "6       0  (1499.2857142857142, 1656.142857142857)_Limita...\n",
      "7       3  (1499.2857142857142, 1656.142857142857)_Withdr...\n",
      "8       1      (715.0, 871.8571428571429)_Limitation of care\n",
      "9      15      (715.0, 871.8571428571429)_Withdrawal of care\n",
      "10      1  (871.8571428571429, 1028.7142857142858)_Limita...\n",
      "11      3  (871.8571428571429, 1028.7142857142858)_Withdr...\n",
      " 2019-10-11 12:21:43,832 - DEBUG - Missing following labels: ['(1656.142857142857, 1813.0)_Withdrawal of care', '(1656.142857142857, 1813.0)_Limitation of care']\n",
      " 2019-10-11 12:21:43,859 - DEBUG - DF after adding missing labels:     Count                                     groupby_labels\n",
      "0     0.0  (1028.7142857142858, 1185.5714285714287)_Limit...\n",
      "1     3.0  (1028.7142857142858, 1185.5714285714287)_Withd...\n",
      "2     0.0  (1185.5714285714287, 1342.4285714285713)_Limit...\n",
      "3     5.0  (1185.5714285714287, 1342.4285714285713)_Withd...\n",
      "4     0.0  (1342.4285714285713, 1499.2857142857142)_Limit...\n",
      "5     2.0  (1342.4285714285713, 1499.2857142857142)_Withd...\n",
      "6     0.0  (1499.2857142857142, 1656.142857142857)_Limita...\n",
      "7     3.0  (1499.2857142857142, 1656.142857142857)_Withdr...\n",
      "8     1.0      (715.0, 871.8571428571429)_Limitation of care\n",
      "9    15.0      (715.0, 871.8571428571429)_Withdrawal of care\n",
      "10    1.0  (871.8571428571429, 1028.7142857142858)_Limita...\n",
      "11    3.0  (871.8571428571429, 1028.7142857142858)_Withdr...\n",
      "12    0.0     (1656.142857142857, 1813.0)_Withdrawal of care\n",
      "13    0.0     (1656.142857142857, 1813.0)_Limitation of care\n"
     ]
    }
   ],
   "source": [
    "newer_df = dm.aggregate_df(df=new_df, groupby_col_idxs=groupby_col_idxs, filters=filters)"
   ]
  },
  {
   "cell_type": "code",
   "execution_count": 427,
   "metadata": {
    "ExecuteTime": {
     "end_time": "2019-10-11T17:02:42.033294Z",
     "start_time": "2019-10-11T17:02:40.892294Z"
    }
   },
   "outputs": [
    {
     "data": {
      "text/plain": [
       "Decimal('123.55')"
      ]
     },
     "execution_count": 427,
     "metadata": {},
     "output_type": "execute_result"
    }
   ],
   "source": [
    "from decimal import Decimal as D\n",
    "x = D(123.55235235423)\n",
    "pre_dec, post_dec = str(x).split('.')\n",
    "if len(post_dec) > 2:\n",
    "    x = D(pre_dec + '.' + post_dec[:2])\n",
    "x"
   ]
  },
  {
   "cell_type": "code",
   "execution_count": 428,
   "metadata": {
    "ExecuteTime": {
     "end_time": "2019-10-11T17:21:06.782294Z",
     "start_time": "2019-10-11T17:21:04.678294Z"
    }
   },
   "outputs": [
    {
     "data": {
      "text/html": [
       "<div>\n",
       "<style scoped>\n",
       "    .dataframe tbody tr th:only-of-type {\n",
       "        vertical-align: middle;\n",
       "    }\n",
       "\n",
       "    .dataframe tbody tr th {\n",
       "        vertical-align: top;\n",
       "    }\n",
       "\n",
       "    .dataframe thead th {\n",
       "        text-align: right;\n",
       "    }\n",
       "</style>\n",
       "<table border=\"1\" class=\"dataframe\">\n",
       "  <thead>\n",
       "    <tr style=\"text-align: right;\">\n",
       "      <th></th>\n",
       "      <th>a</th>\n",
       "      <th>b</th>\n",
       "    </tr>\n",
       "  </thead>\n",
       "  <tbody>\n",
       "  </tbody>\n",
       "</table>\n",
       "</div>"
      ],
      "text/plain": [
       "Empty DataFrame\n",
       "Columns: [a, b]\n",
       "Index: []"
      ]
     },
     "execution_count": 428,
     "metadata": {},
     "output_type": "execute_result"
    }
   ],
   "source": [
    "x = pd.DataFrame(columns=['a'])\n",
    "x['b'] = None\n",
    "x"
   ]
  },
  {
   "cell_type": "code",
   "execution_count": 72,
   "metadata": {},
   "outputs": [
    {
     "data": {
      "image/png": "[encoded data removed]",
      "text/plain": [
       "<matplotlib.figure.Figure at 0x7f0f7a95e7b8>"
      ]
     },
     "metadata": {},
     "output_type": "display_data"
    }
   ],
   "source": [
    "draw_db = db\n",
    "\n",
    "G = nx.DiGraph()\n",
    "G.add_nodes_from(draw_db.table_names)\n",
    "for table_name in draw_db.table_names:\n",
    "    for sibling in draw_db.find_table_siblings(table_name):\n",
    "        G.add_edge(table_name, sibling)\n",
    "        G.add_edge(sibling, table_name)\n",
    "    for child in draw_db.find_table_children(table_name):\n",
    "        G.add_edge(table_name, child)\n",
    "plt.figure(figsize=(10,10))\n",
    "\n",
    "#draw with networkx built-ins\n",
    "nx.draw_networkx(G, node_shape=\"None\", width=0.2)\n",
    "\n",
    "#OR\n",
    "\n",
    "#draw using pygraphviz\n",
    "#A = nx.nx_agraph.to_agraph(G)\n",
    "#H = nx.nx_agraph.from_agraph(A)\n",
    "#nx.draw_spring(H, node_shape=\"None\", with_labels=True, width=0.2)"
   ]
  }
 ],
 "metadata": {
  "kernelspec": {
   "display_name": "Python 3",
   "language": "python",
   "name": "python3"
  },
  "language_info": {
   "codemirror_mode": {
    "name": "ipython",
    "version": 3
   },
   "file_extension": ".py",
   "mimetype": "text/x-python",
   "name": "python",
   "nbconvert_exporter": "python",
   "pygments_lexer": "ipython3",
   "version": "3.6.5"
  },
  "toc": {
   "base_numbering": 1,
   "nav_menu": {},
   "number_sections": true,
   "sideBar": true,
   "skip_h1_title": false,
   "title_cell": "Table of Contents",
   "title_sidebar": "Contents",
   "toc_cell": false,
   "toc_position": {},
   "toc_section_display": true,
   "toc_window_display": false
  }
 },
 "nbformat": 4,
 "nbformat_minor": 2
}
