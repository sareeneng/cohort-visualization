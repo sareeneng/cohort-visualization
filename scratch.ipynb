{
 "cells": [
  {
   "cell_type": "code",
   "execution_count": 4,
   "metadata": {
    "ExecuteTime": {
     "end_time": "2020-01-13T17:48:03.067931Z",
     "start_time": "2020-01-13T17:48:01.655139Z"
    }
   },
   "outputs": [
    {
     "name": "stdout",
     "output_type": "stream",
     "text": [
      "The autoreload extension is already loaded. To reload it, use:\n",
      "  %reload_ext autoreload\n"
     ]
    }
   ],
   "source": [
    "import pandas as pd\n",
    "import csv\n",
    "import os\n",
    "import time\n",
    "from collections import defaultdict\n",
    "import numpy as np\n",
    "import itertools\n",
    "import db_structure\n",
    "import networkx as nx\n",
    "from imp import reload\n",
    "import matplotlib.pyplot as plt\n",
    "import utilities as u\n",
    "from flask import jsonify\n",
    "import logging\n",
    "# import exceptions\n",
    "from pandas.api.types import is_string_dtype\n",
    "from pandas.api.types import is_numeric_dtype\n",
    "from web.models import *\n",
    "\n",
    "logging.basicConfig(format=' %(asctime)s - %(levelname)s - %(message)s')\n",
    "logger = logging.getLogger()\n",
    "logger.setLevel(logging.DEBUG)\n",
    "%load_ext autoreload\n",
    "%aimport -web\n",
    "%autoreload 2"
   ]
  },
  {
   "cell_type": "code",
   "execution_count": null,
   "metadata": {},
   "outputs": [],
   "source": [
    "draw_db = db\n",
    "\n",
    "G = nx.DiGraph()\n",
    "G.add_nodes_from(draw_db.table_names)\n",
    "for table_name in draw_db.table_names:\n",
    "    for sibling in draw_db.find_table_siblings(table_name):\n",
    "        G.add_edge(table_name, sibling)\n",
    "        G.add_edge(sibling, table_name)\n",
    "    for child in draw_db.find_table_children(table_name):\n",
    "        G.add_edge(table_name, child)\n",
    "plt.figure(figsize=(10,10))\n",
    "\n",
    "#draw with networkx built-ins\n",
    "nx.draw_networkx(G, node_shape=\"None\", width=0.2)\n",
    "\n",
    "#OR\n",
    "\n",
    "#draw using pygraphviz\n",
    "#A = nx.nx_agraph.to_agraph(G)\n",
    "#H = nx.nx_agraph.from_agraph(A)\n",
    "#nx.draw_spring(H, node_shape=\"None\", with_labels=True, width=0.2)"
   ]
  },
  {
   "cell_type": "code",
   "execution_count": 5,
   "metadata": {
    "ExecuteTime": {
     "end_time": "2020-01-13T17:48:04.857327Z",
     "start_time": "2020-01-13T17:48:03.289931Z"
    }
   },
   "outputs": [],
   "source": [
    "x = db_structure.DBMaker(dataset_name='TOPICC', directory_path='datasets\\\\TOPICC')"
   ]
  },
  {
   "cell_type": "code",
   "execution_count": 10,
   "metadata": {
    "ExecuteTime": {
     "end_time": "2020-01-13T17:51:37.595327Z",
     "start_time": "2020-01-13T17:51:20.670208Z"
    }
   },
   "outputs": [],
   "source": [
    "x.create_db()"
   ]
  },
  {
   "cell_type": "code",
   "execution_count": 9,
   "metadata": {
    "ExecuteTime": {
     "end_time": "2020-01-13T17:50:41.799169Z",
     "start_time": "2020-01-13T17:50:37.688593Z"
    }
   },
   "outputs": [],
   "source": [
    "x.remove_db()"
   ]
  },
  {
   "cell_type": "code",
   "execution_count": null,
   "metadata": {
    "ExecuteTime": {
     "end_time": "2020-01-13T16:23:35.433805Z",
     "start_time": "2020-01-13T16:23:34.054212Z"
    }
   },
   "outputs": [],
   "source": [
    "y = db_structure.DBLinker(dataset_name='TOPICC')"
   ]
  },
  {
   "cell_type": "code",
   "execution_count": null,
   "metadata": {
    "ExecuteTime": {
     "end_time": "2020-01-09T18:53:09.228554Z",
     "start_time": "2020-01-09T18:53:06.579554Z"
    }
   },
   "outputs": [],
   "source": [
    "y.remove_all_relationships()"
   ]
  },
  {
   "cell_type": "code",
   "execution_count": null,
   "metadata": {
    "ExecuteTime": {
     "end_time": "2020-01-13T16:25:28.647118Z",
     "start_time": "2020-01-13T16:24:57.524436Z"
    }
   },
   "outputs": [],
   "source": [
    "y.add_global_fk('PudID')"
   ]
  },
  {
   "cell_type": "code",
   "execution_count": null,
   "metadata": {
    "ExecuteTime": {
     "end_time": "2020-01-06T20:06:09.796554Z",
     "start_time": "2020-01-06T20:06:08.294554Z"
    }
   },
   "outputs": [],
   "source": [
    "z = db_structure_v2.DBExtractor(dataset_name='TOPICC')"
   ]
  },
  {
   "cell_type": "code",
   "execution_count": null,
   "metadata": {
    "ExecuteTime": {
     "end_time": "2020-01-06T20:06:11.984554Z",
     "start_time": "2020-01-06T20:06:10.394554Z"
    }
   },
   "outputs": [],
   "source": [
    "z.get_joining_keys('CPR', 'asdf')"
   ]
  },
  {
   "cell_type": "code",
   "execution_count": null,
   "metadata": {
    "ExecuteTime": {
     "end_time": "2020-01-06T20:18:17.897554Z",
     "start_time": "2020-01-06T20:18:16.435554Z"
    }
   },
   "outputs": [],
   "source": [
    "z.find_multi_tables_still_accessible_tables(['HOSPITALADMIT', 'HOSPITALADMIT'])"
   ]
  },
  {
   "cell_type": "code",
   "execution_count": null,
   "metadata": {
    "ExecuteTime": {
     "end_time": "2020-01-06T20:06:17.586554Z",
     "start_time": "2020-01-06T20:06:14.491554Z"
    }
   },
   "outputs": [],
   "source": [
    "z.find_paths_multi_tables(['CAREPROCESSES', 'DEATH', 'CARDIACSURGERY', 'CPR'])"
   ]
  },
  {
   "cell_type": "code",
   "execution_count": null,
   "metadata": {
    "ExecuteTime": {
     "end_time": "2020-01-06T20:06:20.109554Z",
     "start_time": "2020-01-06T20:06:18.219554Z"
    }
   },
   "outputs": [],
   "source": [
    "path = ['HOSPITALADMIT', 'CAREPROCESSES', 'DEATH']\n",
    "start = time.time()\n",
    "df = z.get_df_from_path(path, table_columns_of_interest=[('HOSPITALADMIT', 'PudID'), ('HOSPITALADMIT', 'Sex'), ('CAREPROCESSES', 'MechVent'), ('DEATH', 'DeathMode')])\n",
    "end = time.time()\n",
    "print(end-start)"
   ]
  },
  {
   "cell_type": "code",
   "execution_count": null,
   "metadata": {
    "ExecuteTime": {
     "end_time": "2020-01-06T20:06:23.792554Z",
     "start_time": "2020-01-06T20:06:22.240554Z"
    }
   },
   "outputs": [],
   "source": [
    "df"
   ]
  },
  {
   "cell_type": "code",
   "execution_count": null,
   "metadata": {
    "ExecuteTime": {
     "end_time": "2019-12-19T15:52:17.856489Z",
     "start_time": "2019-12-19T15:52:15.943489Z"
    }
   },
   "outputs": [],
   "source": [
    "df['DeathMode'].value_counts()"
   ]
  },
  {
   "cell_type": "code",
   "execution_count": null,
   "metadata": {
    "ExecuteTime": {
     "end_time": "2020-01-06T20:25:12.499554Z",
     "start_time": "2020-01-06T20:25:10.552554Z"
    }
   },
   "outputs": [],
   "source": [
    "filters = {\n",
    "    'AdmitThroughED': {'type': 'list', 'filter': ['Yes', 'No']},\n",
    "    'Sex': {'type': 'list', 'filter': ['Male', 'Female']}\n",
    "}\n",
    "new_df = z.aggregate_df(df, groupby_columns=['AdmitThroughED', 'Sex'], filters=filters)"
   ]
  },
  {
   "cell_type": "code",
   "execution_count": null,
   "metadata": {
    "ExecuteTime": {
     "end_time": "2019-12-18T15:37:50.397229Z",
     "start_time": "2019-12-18T15:37:48.401229Z"
    }
   },
   "outputs": [],
   "source": [
    "sorted(new_df.loc[:,'groupby_labels'].unique(), key=lambda x: x.upper())"
   ]
  },
  {
   "cell_type": "code",
   "execution_count": null,
   "metadata": {
    "ExecuteTime": {
     "end_time": "2019-12-18T16:34:01.606229Z",
     "start_time": "2019-12-18T16:34:00.202229Z"
    }
   },
   "outputs": [],
   "source": [
    "x, y = pd.cut(new_df['Count'], bins=2)"
   ]
  },
  {
   "cell_type": "code",
   "execution_count": null,
   "metadata": {
    "ExecuteTime": {
     "end_time": "2019-12-18T16:37:32.283229Z",
     "start_time": "2019-12-18T16:37:30.541229Z"
    }
   },
   "outputs": [],
   "source": [
    "for i in u.pairwise([1,2]):\n",
    "    print(i)"
   ]
  },
  {
   "cell_type": "code",
   "execution_count": null,
   "metadata": {
    "ExecuteTime": {
     "end_time": "2019-12-18T16:44:27.148229Z",
     "start_time": "2019-12-18T16:44:23.982229Z"
    }
   },
   "outputs": [],
   "source": [
    "'3'.split('.')"
   ]
  },
  {
   "cell_type": "code",
   "execution_count": null,
   "metadata": {
    "ExecuteTime": {
     "end_time": "2019-12-18T18:20:32.054229Z",
     "start_time": "2019-12-18T18:20:30.007229Z"
    }
   },
   "outputs": [],
   "source": [
    "str((5, 3))"
   ]
  },
  {
   "cell_type": "code",
   "execution_count": null,
   "metadata": {
    "ExecuteTime": {
     "end_time": "2020-01-06T20:06:32.138554Z",
     "start_time": "2020-01-06T20:06:30.658554Z"
    }
   },
   "outputs": [],
   "source": [
    "path = ['HOSPITALADMIT', 'CAREPROCESSES', 'PHYSIOSTATUS']\n",
    "df = z.get_df_from_path(path, table_columns_of_interest=['HOSPITALADMIT.Sex', 'CAREPROCESSES.MechVent', 'PHYSIOSTATUS.LowpH'])"
   ]
  },
  {
   "cell_type": "code",
   "execution_count": null,
   "metadata": {
    "ExecuteTime": {
     "end_time": "2019-12-18T18:50:48.862229Z",
     "start_time": "2019-12-18T18:50:47.167229Z"
    }
   },
   "outputs": [],
   "source": [
    "filters = {\n",
    "    'MechVent': {'type': 'list', 'filter': ['Yes']},\n",
    "    'LowpH': {'type': 'range', 'filter': {'min': 6.8, 'max': 6.9, 'bins': 4}},\n",
    "    'Sex': None\n",
    "}\n",
    "\n",
    "z.aggregate_df(df, groupby_columns=['MechVent', 'LowpH'], filters=filters, aggregate_column='Sex')"
   ]
  },
  {
   "cell_type": "code",
   "execution_count": null,
   "metadata": {
    "ExecuteTime": {
     "end_time": "2019-12-18T18:24:14.434229Z",
     "start_time": "2019-12-18T18:24:12.859229Z"
    }
   },
   "outputs": [],
   "source": [
    "len(f)"
   ]
  },
  {
   "cell_type": "code",
   "execution_count": null,
   "metadata": {
    "ExecuteTime": {
     "end_time": "2019-12-18T18:24:16.114229Z",
     "start_time": "2019-12-18T18:24:14.485229Z"
    }
   },
   "outputs": [],
   "source": [
    "f.sort_values(by='LowpH')"
   ]
  },
  {
   "cell_type": "code",
   "execution_count": null,
   "metadata": {
    "ExecuteTime": {
     "end_time": "2019-12-20T18:27:03.217149Z",
     "start_time": "2019-12-20T18:27:01.710149Z"
    }
   },
   "outputs": [],
   "source": [
    "w = db_structure_v2.DBCustomizer(dataset_name='TOPICC')"
   ]
  },
  {
   "cell_type": "code",
   "execution_count": null,
   "metadata": {
    "ExecuteTime": {
     "end_time": "2019-12-20T18:30:00.039149Z",
     "start_time": "2019-12-20T18:29:58.277149Z"
    }
   },
   "outputs": [],
   "source": [
    "w.rename_column('HOSPITALADMIT', 'PudID', 'Patient ID')"
   ]
  },
  {
   "cell_type": "code",
   "execution_count": null,
   "metadata": {
    "ExecuteTime": {
     "end_time": "2019-12-19T15:50:46.330489Z",
     "start_time": "2019-12-19T15:50:43.716489Z"
    }
   },
   "outputs": [],
   "source": [
    "w.dump_customization()"
   ]
  },
  {
   "cell_type": "code",
   "execution_count": null,
   "metadata": {
    "ExecuteTime": {
     "end_time": "2019-12-19T15:42:57.101489Z",
     "start_time": "2019-12-19T15:42:55.837489Z"
    }
   },
   "outputs": [],
   "source": [
    "x = [(1, 2), (3, 4)]\n",
    "for i, j in x:\n",
    "    print(i)\n",
    "    print(j)"
   ]
  },
  {
   "cell_type": "code",
   "execution_count": null,
   "metadata": {
    "ExecuteTime": {
     "end_time": "2019-12-20T18:27:22.136149Z",
     "start_time": "2019-12-20T18:27:20.025149Z"
    }
   },
   "outputs": [],
   "source": [
    "from web import db"
   ]
  },
  {
   "cell_type": "code",
   "execution_count": null,
   "metadata": {
    "ExecuteTime": {
     "end_time": "2020-01-13T16:21:11.133238Z",
     "start_time": "2020-01-13T16:21:09.569243Z"
    }
   },
   "outputs": [],
   "source": [
    "db.session.rollback()"
   ]
  },
  {
   "cell_type": "code",
   "execution_count": 7,
   "metadata": {
    "ExecuteTime": {
     "end_time": "2020-01-13T17:50:24.322828Z",
     "start_time": "2020-01-13T17:50:22.891835Z"
    }
   },
   "outputs": [],
   "source": [
    "from web import flask_app"
   ]
  },
  {
   "cell_type": "code",
   "execution_count": 8,
   "metadata": {
    "ExecuteTime": {
     "end_time": "2020-01-13T17:50:26.065822Z",
     "start_time": "2020-01-13T17:50:24.328828Z"
    }
   },
   "outputs": [
    {
     "data": {
      "text/plain": [
       "['APPLICATION_ROOT',\n",
       " 'BOOTSTRAP_CDN_FORCE_SSL',\n",
       " 'BOOTSTRAP_LOCAL_SUBDOMAIN',\n",
       " 'BOOTSTRAP_QUERYSTRING_REVVING',\n",
       " 'BOOTSTRAP_SERVE_LOCAL',\n",
       " 'BOOTSTRAP_USE_MINIFIED',\n",
       " 'DATA_DB',\n",
       " 'DEBUG',\n",
       " 'ENV',\n",
       " 'EXPLAIN_TEMPLATE_LOADING',\n",
       " 'FLASK_APP',\n",
       " 'JSONIFY_MIMETYPE',\n",
       " 'JSONIFY_PRETTYPRINT_REGULAR',\n",
       " 'JSON_AS_ASCII',\n",
       " 'JSON_SORT_KEYS',\n",
       " 'MAX_CONTENT_LENGTH',\n",
       " 'MAX_COOKIE_SIZE',\n",
       " 'PERMANENT_SESSION_LIFETIME',\n",
       " 'PREFERRED_URL_SCHEME',\n",
       " 'PRESERVE_CONTEXT_ON_EXCEPTION',\n",
       " 'PROPAGATE_EXCEPTIONS',\n",
       " 'SECRET_KEY',\n",
       " 'SEND_FILE_MAX_AGE_DEFAULT',\n",
       " 'SERVER_NAME',\n",
       " 'SESSION_COOKIE_DOMAIN',\n",
       " 'SESSION_COOKIE_HTTPONLY',\n",
       " 'SESSION_COOKIE_NAME',\n",
       " 'SESSION_COOKIE_PATH',\n",
       " 'SESSION_COOKIE_SAMESITE',\n",
       " 'SESSION_COOKIE_SECURE',\n",
       " 'SESSION_REFRESH_EACH_REQUEST',\n",
       " 'SQLALCHEMY_BINDS',\n",
       " 'SQLALCHEMY_COMMIT_ON_TEARDOWN',\n",
       " 'SQLALCHEMY_DATABASE_URI',\n",
       " 'SQLALCHEMY_ECHO',\n",
       " 'SQLALCHEMY_ENGINE_OPTIONS',\n",
       " 'SQLALCHEMY_MAX_OVERFLOW',\n",
       " 'SQLALCHEMY_NATIVE_UNICODE',\n",
       " 'SQLALCHEMY_POOL_RECYCLE',\n",
       " 'SQLALCHEMY_POOL_SIZE',\n",
       " 'SQLALCHEMY_POOL_TIMEOUT',\n",
       " 'SQLALCHEMY_RECORD_QUERIES',\n",
       " 'SQLALCHEMY_TRACK_MODIFICATIONS',\n",
       " 'TEMPLATES_AUTO_RELOAD',\n",
       " 'TESTING',\n",
       " 'TRAP_BAD_REQUEST_ERRORS',\n",
       " 'TRAP_HTTP_EXCEPTIONS',\n",
       " 'USE_X_SENDFILE',\n",
       " 'WTF_CSRF_CHECK_DEFAULT',\n",
       " 'WTF_CSRF_ENABLED',\n",
       " 'WTF_CSRF_FIELD_NAME',\n",
       " 'WTF_CSRF_HEADERS',\n",
       " 'WTF_CSRF_METHODS',\n",
       " 'WTF_CSRF_SSL_STRICT',\n",
       " 'WTF_CSRF_TIME_LIMIT']"
      ]
     },
     "execution_count": 8,
     "metadata": {},
     "output_type": "execute_result"
    }
   ],
   "source": [
    "sorted(flask_app.config.keys())"
   ]
  },
  {
   "cell_type": "code",
   "execution_count": null,
   "metadata": {},
   "outputs": [],
   "source": []
  }
 ],
 "metadata": {
  "kernelspec": {
   "display_name": "Python 3",
   "language": "python",
   "name": "python3"
  },
  "language_info": {
   "codemirror_mode": {
    "name": "ipython",
    "version": 3
   },
   "file_extension": ".py",
   "mimetype": "text/x-python",
   "name": "python",
   "nbconvert_exporter": "python",
   "pygments_lexer": "ipython3",
   "version": "3.6.5"
  },
  "toc": {
   "base_numbering": 1,
   "nav_menu": {},
   "number_sections": true,
   "sideBar": true,
   "skip_h1_title": false,
   "title_cell": "Table of Contents",
   "title_sidebar": "Contents",
   "toc_cell": false,
   "toc_position": {},
   "toc_section_display": true,
   "toc_window_display": false
  }
 },
 "nbformat": 4,
 "nbformat_minor": 2
}
