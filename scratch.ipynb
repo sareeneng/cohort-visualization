{
 "cells": [
  {
   "cell_type": "code",
   "execution_count": 1,
   "metadata": {
    "ExecuteTime": {
     "end_time": "2020-02-06T15:44:23.987617Z",
     "start_time": "2020-02-06T15:44:05.481617Z"
    }
   },
   "outputs": [],
   "source": [
    "import pandas as pd\n",
    "import csv\n",
    "import os\n",
    "import time\n",
    "from collections import defaultdict\n",
    "import numpy as np\n",
    "import itertools\n",
    "import db_structure\n",
    "import networkx as nx\n",
    "import matplotlib.pyplot as plt\n",
    "import utilities as u\n",
    "from flask import jsonify\n",
    "import logging\n",
    "# import exceptions\n",
    "from pandas.api.types import is_string_dtype\n",
    "from pandas.api.types import is_numeric_dtype\n",
    "from web.models import *\n",
    "\n",
    "logging.basicConfig(format=' %(asctime)s - %(levelname)s - %(message)s')\n",
    "logger = logging.getLogger()\n",
    "logger.setLevel(logging.DEBUG)\n",
    "%load_ext autoreload\n",
    "%aimport -web\n",
    "%autoreload 2"
   ]
  },
  {
   "cell_type": "code",
   "execution_count": null,
   "metadata": {
    "ExecuteTime": {
     "end_time": "2020-02-04T18:57:04.663617Z",
     "start_time": "2020-02-04T18:56:58.905617Z"
    }
   },
   "outputs": [],
   "source": [
    "draw_db = db\n",
    "\n",
    "G = nx.DiGraph()\n",
    "G.add_nodes_from(draw_db.table_names)\n",
    "for table_name in draw_db.table_names:\n",
    "    for sibling in draw_db.find_table_siblings(table_name):\n",
    "        G.add_edge(table_name, sibling)\n",
    "        G.add_edge(sibling, table_name)\n",
    "    for child in draw_db.find_table_children(table_name):\n",
    "        G.add_edge(table_name, child)\n",
    "plt.figure(figsize=(10,10))\n",
    "\n",
    "#draw with networkx built-ins\n",
    "nx.draw_networkx(G, node_shape=\"None\", width=0.2)\n",
    "\n",
    "#OR\n",
    "\n",
    "#draw using pygraphviz\n",
    "#A = nx.nx_agraph.to_agraph(G)\n",
    "#H = nx.nx_agraph.from_agraph(A)\n",
    "#nx.draw_spring(H, node_shape=\"None\", with_labels=True, width=0.2)"
   ]
  },
  {
   "cell_type": "code",
   "execution_count": 8,
   "metadata": {
    "ExecuteTime": {
     "end_time": "2020-02-06T15:46:22.675617Z",
     "start_time": "2020-02-06T15:46:05.921617Z"
    }
   },
   "outputs": [],
   "source": [
    "x = db_structure.DBMaker(dataset_name='TOPICC', directory_path='datasets\\\\TOPICC')\n",
    "x.create_db_metadata(dump_to_data_db=True)"
   ]
  },
  {
   "cell_type": "code",
   "execution_count": 7,
   "metadata": {
    "ExecuteTime": {
     "end_time": "2020-02-06T15:46:03.750617Z",
     "start_time": "2020-02-06T15:46:01.366617Z"
    }
   },
   "outputs": [],
   "source": [
    "db_structure.DBDestroyer('TOPICC').remove_db()"
   ]
  },
  {
   "cell_type": "code",
   "execution_count": 9,
   "metadata": {
    "ExecuteTime": {
     "end_time": "2020-02-06T15:48:16.686617Z",
     "start_time": "2020-02-06T15:48:15.099617Z"
    }
   },
   "outputs": [],
   "source": [
    "y = db_structure.DBLinker(dataset_name='TOPICC')"
   ]
  },
  {
   "cell_type": "code",
   "execution_count": 10,
   "metadata": {
    "ExecuteTime": {
     "end_time": "2020-02-06T15:48:19.753617Z",
     "start_time": "2020-02-06T15:48:16.692617Z"
    }
   },
   "outputs": [],
   "source": [
    "y.add_global_fk('PudID')"
   ]
  },
  {
   "cell_type": "code",
   "execution_count": 11,
   "metadata": {
    "ExecuteTime": {
     "end_time": "2020-02-06T15:48:34.851617Z",
     "start_time": "2020-02-06T15:48:33.311617Z"
    }
   },
   "outputs": [],
   "source": [
    "z = db_structure.DBExtractor(dataset_name='TOPICC')"
   ]
  },
  {
   "cell_type": "code",
   "execution_count": 12,
   "metadata": {
    "ExecuteTime": {
     "end_time": "2020-02-06T15:48:36.593617Z",
     "start_time": "2020-02-06T15:48:34.855617Z"
    }
   },
   "outputs": [
    {
     "name": "stdout",
     "output_type": "stream",
     "text": [
      "0.040000200271606445\n"
     ]
    }
   ],
   "source": [
    "path = ['HOSPITALADMIT', 'CAREPROCESSES', 'DEATH']\n",
    "start = time.time()\n",
    "df = z.get_df_from_path(path, table_columns_of_interest=[('HOSPITALADMIT', 'PudID'), ('HOSPITALADMIT', 'Sex'), ('CAREPROCESSES', 'MechVent'), ('DEATH', 'DeathMode')])\n",
    "end = time.time()\n",
    "print(end-start)"
   ]
  },
  {
   "cell_type": "code",
   "execution_count": 13,
   "metadata": {
    "ExecuteTime": {
     "end_time": "2020-02-06T15:48:38.354617Z",
     "start_time": "2020-02-06T15:48:36.597617Z"
    }
   },
   "outputs": [
    {
     "data": {
      "text/html": [
       "<div>\n",
       "<style scoped>\n",
       "    .dataframe tbody tr th:only-of-type {\n",
       "        vertical-align: middle;\n",
       "    }\n",
       "\n",
       "    .dataframe tbody tr th {\n",
       "        vertical-align: top;\n",
       "    }\n",
       "\n",
       "    .dataframe thead th {\n",
       "        text-align: right;\n",
       "    }\n",
       "</style>\n",
       "<table border=\"1\" class=\"dataframe\">\n",
       "  <thead>\n",
       "    <tr style=\"text-align: right;\">\n",
       "      <th></th>\n",
       "      <th>HOSPITALADMIT_PudID</th>\n",
       "      <th>HOSPITALADMIT_Sex</th>\n",
       "      <th>CAREPROCESSES_MechVent</th>\n",
       "      <th>DEATH_DeathMode</th>\n",
       "    </tr>\n",
       "  </thead>\n",
       "  <tbody>\n",
       "    <tr>\n",
       "      <td>0</td>\n",
       "      <td>27</td>\n",
       "      <td>Female</td>\n",
       "      <td>Yes</td>\n",
       "      <td>Withdrawal of care</td>\n",
       "    </tr>\n",
       "    <tr>\n",
       "      <td>1</td>\n",
       "      <td>78</td>\n",
       "      <td>Male</td>\n",
       "      <td>Yes</td>\n",
       "      <td>Withdrawal of care</td>\n",
       "    </tr>\n",
       "    <tr>\n",
       "      <td>2</td>\n",
       "      <td>125</td>\n",
       "      <td>Female</td>\n",
       "      <td>Yes</td>\n",
       "      <td>Failed resuscitation</td>\n",
       "    </tr>\n",
       "    <tr>\n",
       "      <td>3</td>\n",
       "      <td>154</td>\n",
       "      <td>Female</td>\n",
       "      <td>Yes</td>\n",
       "      <td>Failed resuscitation</td>\n",
       "    </tr>\n",
       "    <tr>\n",
       "      <td>4</td>\n",
       "      <td>155</td>\n",
       "      <td>Male</td>\n",
       "      <td>Yes</td>\n",
       "      <td>Withdrawal of care</td>\n",
       "    </tr>\n",
       "    <tr>\n",
       "      <td>...</td>\n",
       "      <td>...</td>\n",
       "      <td>...</td>\n",
       "      <td>...</td>\n",
       "      <td>...</td>\n",
       "    </tr>\n",
       "    <tr>\n",
       "      <td>270</td>\n",
       "      <td>9925</td>\n",
       "      <td>Female</td>\n",
       "      <td>Yes</td>\n",
       "      <td>Brain death</td>\n",
       "    </tr>\n",
       "    <tr>\n",
       "      <td>271</td>\n",
       "      <td>9932</td>\n",
       "      <td>Male</td>\n",
       "      <td>No</td>\n",
       "      <td>Withdrawal of care</td>\n",
       "    </tr>\n",
       "    <tr>\n",
       "      <td>272</td>\n",
       "      <td>9964</td>\n",
       "      <td>Male</td>\n",
       "      <td>Yes</td>\n",
       "      <td>Brain death</td>\n",
       "    </tr>\n",
       "    <tr>\n",
       "      <td>273</td>\n",
       "      <td>9990</td>\n",
       "      <td>Male</td>\n",
       "      <td>No</td>\n",
       "      <td>Withdrawal of care</td>\n",
       "    </tr>\n",
       "    <tr>\n",
       "      <td>274</td>\n",
       "      <td>10039</td>\n",
       "      <td>Male</td>\n",
       "      <td>Yes</td>\n",
       "      <td>Withdrawal of care</td>\n",
       "    </tr>\n",
       "  </tbody>\n",
       "</table>\n",
       "<p>275 rows × 4 columns</p>\n",
       "</div>"
      ],
      "text/plain": [
       "     HOSPITALADMIT_PudID HOSPITALADMIT_Sex CAREPROCESSES_MechVent  \\\n",
       "0                     27            Female                    Yes   \n",
       "1                     78              Male                    Yes   \n",
       "2                    125            Female                    Yes   \n",
       "3                    154            Female                    Yes   \n",
       "4                    155              Male                    Yes   \n",
       "..                   ...               ...                    ...   \n",
       "270                 9925            Female                    Yes   \n",
       "271                 9932              Male                     No   \n",
       "272                 9964              Male                    Yes   \n",
       "273                 9990              Male                     No   \n",
       "274                10039              Male                    Yes   \n",
       "\n",
       "          DEATH_DeathMode  \n",
       "0      Withdrawal of care  \n",
       "1      Withdrawal of care  \n",
       "2    Failed resuscitation  \n",
       "3    Failed resuscitation  \n",
       "4      Withdrawal of care  \n",
       "..                    ...  \n",
       "270           Brain death  \n",
       "271    Withdrawal of care  \n",
       "272           Brain death  \n",
       "273    Withdrawal of care  \n",
       "274    Withdrawal of care  \n",
       "\n",
       "[275 rows x 4 columns]"
      ]
     },
     "execution_count": 13,
     "metadata": {},
     "output_type": "execute_result"
    }
   ],
   "source": [
    "df"
   ]
  },
  {
   "cell_type": "code",
   "execution_count": null,
   "metadata": {
    "ExecuteTime": {
     "end_time": "2019-12-19T15:52:17.856489Z",
     "start_time": "2019-12-19T15:52:15.943489Z"
    }
   },
   "outputs": [],
   "source": [
    "df['DeathMode'].value_counts()"
   ]
  },
  {
   "cell_type": "code",
   "execution_count": null,
   "metadata": {
    "ExecuteTime": {
     "end_time": "2020-01-06T20:25:12.499554Z",
     "start_time": "2020-01-06T20:25:10.552554Z"
    }
   },
   "outputs": [],
   "source": [
    "filters = {\n",
    "    'AdmitThroughED': {'type': 'list', 'filter': ['Yes', 'No']},\n",
    "    'Sex': {'type': 'list', 'filter': ['Male', 'Female']}\n",
    "}\n",
    "new_df = z.aggregate_df(df, groupby_columns=['AdmitThroughED', 'Sex'], filters=filters)"
   ]
  },
  {
   "cell_type": "code",
   "execution_count": null,
   "metadata": {
    "ExecuteTime": {
     "end_time": "2019-12-18T15:37:50.397229Z",
     "start_time": "2019-12-18T15:37:48.401229Z"
    }
   },
   "outputs": [],
   "source": [
    "sorted(new_df.loc[:,'groupby_labels'].unique(), key=lambda x: x.upper())"
   ]
  },
  {
   "cell_type": "code",
   "execution_count": null,
   "metadata": {
    "ExecuteTime": {
     "end_time": "2019-12-18T16:34:01.606229Z",
     "start_time": "2019-12-18T16:34:00.202229Z"
    }
   },
   "outputs": [],
   "source": [
    "x, y = pd.cut(new_df['Count'], bins=2)"
   ]
  },
  {
   "cell_type": "code",
   "execution_count": null,
   "metadata": {
    "ExecuteTime": {
     "end_time": "2019-12-18T16:37:32.283229Z",
     "start_time": "2019-12-18T16:37:30.541229Z"
    }
   },
   "outputs": [],
   "source": [
    "for i in u.pairwise([1,2]):\n",
    "    print(i)"
   ]
  },
  {
   "cell_type": "code",
   "execution_count": null,
   "metadata": {
    "ExecuteTime": {
     "end_time": "2019-12-18T16:44:27.148229Z",
     "start_time": "2019-12-18T16:44:23.982229Z"
    }
   },
   "outputs": [],
   "source": [
    "'3'.split('.')"
   ]
  },
  {
   "cell_type": "code",
   "execution_count": null,
   "metadata": {
    "ExecuteTime": {
     "end_time": "2019-12-18T18:20:32.054229Z",
     "start_time": "2019-12-18T18:20:30.007229Z"
    }
   },
   "outputs": [],
   "source": [
    "str((5, 3))"
   ]
  },
  {
   "cell_type": "code",
   "execution_count": null,
   "metadata": {
    "ExecuteTime": {
     "end_time": "2020-01-06T20:06:32.138554Z",
     "start_time": "2020-01-06T20:06:30.658554Z"
    }
   },
   "outputs": [],
   "source": [
    "path = ['HOSPITALADMIT', 'CAREPROCESSES', 'PHYSIOSTATUS']\n",
    "df = z.get_df_from_path(path, table_columns_of_interest=['HOSPITALADMIT.Sex', 'CAREPROCESSES.MechVent', 'PHYSIOSTATUS.LowpH'])"
   ]
  },
  {
   "cell_type": "code",
   "execution_count": null,
   "metadata": {
    "ExecuteTime": {
     "end_time": "2019-12-18T18:50:48.862229Z",
     "start_time": "2019-12-18T18:50:47.167229Z"
    }
   },
   "outputs": [],
   "source": [
    "filters = {\n",
    "    'MechVent': {'type': 'list', 'filter': ['Yes']},\n",
    "    'LowpH': {'type': 'range', 'filter': {'min': 6.8, 'max': 6.9, 'bins': 4}},\n",
    "    'Sex': None\n",
    "}\n",
    "\n",
    "z.aggregate_df(df, groupby_columns=['MechVent', 'LowpH'], filters=filters, aggregate_column='Sex')"
   ]
  },
  {
   "cell_type": "code",
   "execution_count": null,
   "metadata": {
    "ExecuteTime": {
     "end_time": "2019-12-18T18:24:14.434229Z",
     "start_time": "2019-12-18T18:24:12.859229Z"
    }
   },
   "outputs": [],
   "source": [
    "len(f)"
   ]
  },
  {
   "cell_type": "code",
   "execution_count": null,
   "metadata": {
    "ExecuteTime": {
     "end_time": "2019-12-18T18:24:16.114229Z",
     "start_time": "2019-12-18T18:24:14.485229Z"
    }
   },
   "outputs": [],
   "source": [
    "f.sort_values(by='LowpH')"
   ]
  },
  {
   "cell_type": "code",
   "execution_count": null,
   "metadata": {
    "ExecuteTime": {
     "end_time": "2019-12-20T18:27:03.217149Z",
     "start_time": "2019-12-20T18:27:01.710149Z"
    }
   },
   "outputs": [],
   "source": [
    "w = db_structure_v2.DBCustomizer(dataset_name='TOPICC')"
   ]
  },
  {
   "cell_type": "code",
   "execution_count": null,
   "metadata": {
    "ExecuteTime": {
     "end_time": "2019-12-20T18:30:00.039149Z",
     "start_time": "2019-12-20T18:29:58.277149Z"
    }
   },
   "outputs": [],
   "source": [
    "w.rename_column('HOSPITALADMIT', 'PudID', 'Patient ID')"
   ]
  },
  {
   "cell_type": "code",
   "execution_count": null,
   "metadata": {
    "ExecuteTime": {
     "end_time": "2019-12-19T15:50:46.330489Z",
     "start_time": "2019-12-19T15:50:43.716489Z"
    }
   },
   "outputs": [],
   "source": [
    "w.dump_customization()"
   ]
  },
  {
   "cell_type": "code",
   "execution_count": null,
   "metadata": {
    "ExecuteTime": {
     "end_time": "2019-12-19T15:42:57.101489Z",
     "start_time": "2019-12-19T15:42:55.837489Z"
    }
   },
   "outputs": [],
   "source": [
    "x = [(1, 2), (3, 4)]\n",
    "for i, j in x:\n",
    "    print(i)\n",
    "    print(j)"
   ]
  },
  {
   "cell_type": "code",
   "execution_count": 17,
   "metadata": {
    "ExecuteTime": {
     "end_time": "2020-02-06T16:01:00.785617Z",
     "start_time": "2020-02-06T15:57:34.724617Z"
    }
   },
   "outputs": [],
   "source": [
    "x = db_structure.DBMaker(dataset_name='SCA_AcuteCare', sql_server='CYKPANADBSQL', sql_db='SCA_AcuteCare', schema_name='dbo')\n",
    "x.create_db_metadata(ignore_tables_with_substrings=['MOTempRecsGrp', 'MO_MeasureInfo', 'MO_MedicationDim_55_'])"
   ]
  },
  {
   "cell_type": "code",
   "execution_count": 21,
   "metadata": {
    "ExecuteTime": {
     "end_time": "2020-02-06T16:04:54.893617Z",
     "start_time": "2020-02-06T16:03:22.885617Z"
    }
   },
   "outputs": [
    {
     "name": "stdout",
     "output_type": "stream",
     "text": [
      "APMInsuranceCarrierDimID\n",
      "AbnormalityDimID\n",
      "AccommodationDimID\n",
      "AccountDimID\n",
      "AccountTypeDimID\n",
      "ActionCodedReasonTypeDimID\n",
      "ActionReasonDimID\n",
      "ActionTypeDimID\n",
      "AdmitDateDimID\n",
      "AdmitReasonDimID\n",
      "AdmitShiftDimID\n",
      "AdmitSourceDimID\n",
      "AdmitTypeDimID\n",
      "AgeDimID\n",
      "AgeRangeItemID\n",
      "AgeRangeSetID\n",
      "AlertEventTypeDimID\n",
      "AlertNameDimID\n",
      "AlertTypeDimID\n",
      "AllergenDimID\n",
      "AllergyCategoryTypeDimID\n",
      "AllergyTypeDimID\n",
      "AmbulStatusDimID\n",
      "AncillaryFacilityDimID\n",
      "ApplicSourceDimID\n",
      "AppointmentCategoryDimID\n",
      "ArrivalDateDimID\n",
      "AuthoredProviderDimID\n",
      "BillingAddressDimID\n",
      "BlockDefinitionDimID\n",
      "CareLevelDimID\n",
      "CatalogItemTaskGUID\n",
      "CategoryCodeDimID\n",
      "ChartGUID\n",
      "ClientDocumentGUID\n",
      "ClientGUID\n",
      "ClientUserDataGUID\n",
      "ClientVisitGUID\n",
      "ClinDecSupportDescDimID\n",
      "ClinDecSupportPriorityDimID\n",
      "CommentDeclarationTypeDimID\n",
      "ConfidenceDimID\n",
      "CostDimID\n",
      "CurrentLocationGUID\n",
      "DemographicDimID\n",
      "DestinationTypeDimID\n",
      "DiagDimID\n",
      "DiagTypeDimID\n",
      "DiagnosisGroupID\n",
      "DiagnosisID\n",
      "DictionaryID\n",
      "DischargeDateDimID\n",
      "DischargeDispositionDimID\n",
      "DischargeLocationDimID\n",
      "DischargeServiceDimID\n",
      "DischargeShiftDimID\n",
      "DischargeToLocationDimID\n",
      "DocumentAuthorTypeDimID\n",
      "DocumentDimID\n",
      "DocumentID\n",
      "DocumentNameDimID\n",
      "DosageCalculatedInfoDimID\n",
      "DosageTypeDimID\n",
      "DrugCodeDimID\n",
      "DrugConcentrationDimID\n",
      "EDLocationDimID\n",
      "EduMaterialTypeDimID\n",
      "EducationDetailDimID\n",
      "EducationID\n",
      "EducationMaterialDimID\n",
      "EducationSourceDimID\n",
      "EmployerDimID\n",
      "EmploymentStatusDimID\n",
      "EndDateDimID\n",
      "EnterDateDimID\n",
      "EnterProviderRoleDimID\n",
      "EnteredDateDimID\n",
      "EntityID\n",
      "EthnicityDimID\n",
      "FacilityDimID\n",
      "FirstLocationDimID\n",
      "FollowUpReasonDimID\n",
      "FrequencyDimID\n",
      "FunctionalMeasureDimID\n",
      "FunctionalMeasureObjectiveDimID\n",
      "FunctionalMeasureSetDimID\n",
      "GenderDimID\n",
      "GenericItemID\n",
      "GroupPracticeDimID\n",
      "GroupPracticeLocationDimID\n",
      "HealthIssueDeclarationGUID\n",
      "HighDosageDimID\n",
      "HistInfoSourceCodeDimID\n",
      "IAActivityWeightageDimID\n",
      "IASubCategoryDimID\n",
      "ICD10DiagDimID\n",
      "ICD9DiagDimID\n",
      "IDCodeDimID\n",
      "IOSubtypeDimID\n",
      "IVMedDimID\n",
      "ImmunizationID\n",
      "InsuranceCarrierDimID\n",
      "InsuranceCategoryDimID\n",
      "InsurancePlanDimID\n",
      "InsuranceTypeDimID\n",
      "LanguageDimID\n",
      "LinkedVisitID\n",
      "LocationDimID\n",
      "LocationFunctionGroupDimID\n",
      "LocationGUID\n",
      "LowDosageDimID\n",
      "MedFormDimID\n",
      "MedRouteDimID\n",
      "MedicalCodeDimID\n",
      "MedicationCategoryDimID\n",
      "MedicationChartingID\n",
      "MedicationDimID\n",
      "MedicationGroupID\n",
      "MedicationID\n",
      "ModeOfArrivalDimID\n",
      "ModifiedDateDimID\n",
      "ObjGUID\n",
      "ObsCatalogDimID\n",
      "ObsCatalogNameDimID\n",
      "ObsDictCodeDimID\n",
      "ObsValidValueDimID\n",
      "ObsValueDimID\n",
      "ObservationGUID\n",
      "OccurrenceStatusTypeDimID\n",
      "OnsetDateDimID\n",
      "OrderCatalogDimID\n",
      "OrderCatalogTagDimID\n",
      "OrderComponentNameDimID\n",
      "OrderFunctionDimID\n",
      "OrderGUID\n",
      "OrderGroupID\n",
      "OrderID\n",
      "OrderReconcileGUID\n",
      "OrderSessionTypeDimID\n",
      "OrderSetNameDimID\n",
      "OrderStatusDimID\n",
      "OrderTaskChartingID\n",
      "OrderTaskGUID\n",
      "OrderTaskID\n",
      "OrderTaskOccurrenceGUID\n",
      "OrderTaskStatusDimID\n",
      "OrderTextDimID\n",
      "OrderTypeDimID\n",
      "OrderedAsDimID\n",
      "OrganizationalUnitDimID\n",
      "OverrideReasonDimID\n",
      "ParentGUID\n",
      "ParentLocationDimID\n",
      "PatientContactDimID\n",
      "PatientDataDimID\n",
      "PatientDimID\n",
      "PatientStudyID\n",
      "PerformedDateDimID\n",
      "PerformedFromDateDimID\n",
      "PerformedLocationDimID\n",
      "PerformedToDateDimID\n",
      "PhysicalNoteDeclarationTypeDimID\n",
      "PostalCodeDimID\n",
      "PrescribedActionDimID\n",
      "PrescriptionID\n",
      "PrescriptionTypeDimID\n",
      "PresentOnAdmissionDimID\n",
      "PriorityDimID\n",
      "ProfileGenerationID\n",
      "ProfileID\n",
      "ProjectedScoreCategoryDimID\n",
      "ProjectedScoreDataFieldDimID\n",
      "ProviderDimID\n",
      "ProviderGUID\n",
      "ProviderRoleDimID\n",
      "ProviderTypeDimID\n",
      "QualityEventTimingID\n",
      "RaceDimID\n",
      "RadiologyDICOMDimID\n",
      "RadiologyRADSDimID\n",
      "ReadmitFromVisitID\n",
      "ReasonCodeDimID\n",
      "ReconcileActionTypeDimID\n",
      "ReconcileCommentDimID\n",
      "ReconcileItemTypeDimID\n",
      "ReconcileMedHistoryDimID\n",
      "ReconcileStatusDimID\n",
      "ReconcileTypeDimID\n",
      "ReferringFacilityDimID\n",
      "RelationshipDimID\n",
      "ReligionDimID\n",
      "ReportedDateDimID\n",
      "ReportingPeriodDimID\n",
      "RequestedLocationDimID\n",
      "ResolvedDateDimID\n",
      "ResourceDimID\n",
      "ResultCatalogDimID\n",
      "ResultGroupID\n",
      "ResultNameDimID\n",
      "ResultStatusDimID\n",
      "ResultTypeBridgeID\n",
      "ReviewCategoryDimID\n",
      "RxNormCodeDimID\n",
      "ScheduledEventOccurrenceID\n",
      "ScopeLevelDimID\n",
      "ScoreCalculationTypeDimID\n",
      "ServiceDimID\n",
      "SeverityDimID\n",
      "ShiftDimID\n",
      "ShiftItemID\n",
      "ShiftSetID\n",
      "SourceCodeDimID\n",
      "SpecimenID\n",
      "SpecimenTypeDimID\n",
      "StartDateDimID\n",
      "StatusDimID\n",
      "StopDateDimID\n",
      "StudyID\n",
      "SubOrderSetNameDimID\n",
      "SurgeryAcuityDimID\n",
      "SurgeryChargeCodeDimID\n",
      "SurgeryDeptItemDimID\n",
      "SurgeryHazardDimID\n",
      "SurgeryInventorySectionDimID\n",
      "SurgeryItemCategoryDimID\n",
      "SurgeryItemDimID\n",
      "SurgeryLateralityDimID\n",
      "SurgeryPreferenceCardDimID\n",
      "SurgeryProcedureDimID\n",
      "SurgeryRoleDimID\n",
      "SurgeryRolePolicyDimID\n",
      "SurgeryServiceDimID\n",
      "SurgerySiteDimID\n",
      "SurgeryStaffDimID\n",
      "SurgeryStatusDimID\n",
      "SurgeryTimePolicyDimID\n",
      "TaskUserDataGUID\n",
      "TriggeringInfoDimID\n",
      "UOMDimID\n",
      "UnitLocationDimID\n",
      "UserActionDimID\n",
      "UserOrderRoleDimID\n",
      "UserProviderDimID\n",
      "VaccineDimID\n",
      "VisitID\n",
      "VisitIDGUID\n",
      "VisitStatusDimID\n",
      "VisitTypeDimID\n",
      "Visitid\n",
      "WellnessEventDetailDimID\n",
      "WellnessEventDimID\n",
      "medicationdimid\n"
     ]
    }
   ],
   "source": [
    "y = db_structure.DBLinker(dataset_name='SCA_AcuteCare')\n",
    "for i in y.get_common_column_names():\n",
    "    if i.upper()[-2:] == 'ID' and i.upper() not in ['GUID']:\n",
    "        print(i)\n",
    "        y.add_global_fk(i)"
   ]
  },
  {
   "cell_type": "code",
   "execution_count": 22,
   "metadata": {
    "ExecuteTime": {
     "end_time": "2020-02-06T16:05:12.451617Z",
     "start_time": "2020-02-06T16:05:10.936617Z"
    }
   },
   "outputs": [],
   "source": [
    "z = db_structure.DBExtractor('SCA_AcuteCare')"
   ]
  },
  {
   "cell_type": "code",
   "execution_count": 25,
   "metadata": {
    "ExecuteTime": {
     "end_time": "2020-02-06T16:06:13.872617Z",
     "start_time": "2020-02-06T16:05:22.261617Z"
    }
   },
   "outputs": [],
   "source": [
    "paths = z.find_paths_between_tables('SCAObservation', 'SCAPatientDim', recursion_depth=5)"
   ]
  },
  {
   "cell_type": "code",
   "execution_count": 27,
   "metadata": {
    "ExecuteTime": {
     "end_time": "2020-02-06T16:06:34.603617Z",
     "start_time": "2020-02-06T16:06:32.862617Z"
    }
   },
   "outputs": [
    {
     "data": {
      "text/plain": [
       "['SCAObservation',\n",
       " 'SCQualifiedVisit',\n",
       " 'SCAQualityMeasure',\n",
       " 'SCAPatientStudyNewborn2015',\n",
       " 'SCAPatientGuarantor',\n",
       " 'SCARacePatientDim',\n",
       " 'SCAPatientDim']"
      ]
     },
     "execution_count": 27,
     "metadata": {},
     "output_type": "execute_result"
    }
   ],
   "source": [
    "sorted(paths, key=lambda x: len(x))[-1]"
   ]
  },
  {
   "cell_type": "code",
   "execution_count": null,
   "metadata": {
    "ExecuteTime": {
     "end_time": "2020-02-06T15:21:12.066617Z",
     "start_time": "2020-02-06T15:21:04.712617Z"
    }
   },
   "outputs": [],
   "source": [
    "df = z.get_df_from_path(['SCAObservation', 'SCAVisit', 'SCAPatientDim'], table_columns_of_interest=[('SCAVisit', 'AdmitShiftDimID'), ('SCAPatientDim', 'HasHxAsthma')], limit_rows=100)"
   ]
  },
  {
   "cell_type": "code",
   "execution_count": null,
   "metadata": {
    "ExecuteTime": {
     "end_time": "2020-02-06T15:21:13.930617Z",
     "start_time": "2020-02-06T15:21:12.070617Z"
    }
   },
   "outputs": [],
   "source": [
    "df"
   ]
  },
  {
   "cell_type": "code",
   "execution_count": 15,
   "metadata": {
    "ExecuteTime": {
     "end_time": "2020-02-06T15:56:52.544617Z",
     "start_time": "2020-02-06T15:56:50.855617Z"
    }
   },
   "outputs": [],
   "source": [
    "from web import db\n",
    "db.session.rollback()"
   ]
  },
  {
   "cell_type": "code",
   "execution_count": null,
   "metadata": {},
   "outputs": [],
   "source": []
  }
 ],
 "metadata": {
  "kernelspec": {
   "display_name": "Python 3",
   "language": "python",
   "name": "python3"
  },
  "language_info": {
   "codemirror_mode": {
    "name": "ipython",
    "version": 3
   },
   "file_extension": ".py",
   "mimetype": "text/x-python",
   "name": "python",
   "nbconvert_exporter": "python",
   "pygments_lexer": "ipython3",
   "version": "3.6.5"
  },
  "toc": {
   "base_numbering": 1,
   "nav_menu": {},
   "number_sections": true,
   "sideBar": true,
   "skip_h1_title": false,
   "title_cell": "Table of Contents",
   "title_sidebar": "Contents",
   "toc_cell": false,
   "toc_position": {},
   "toc_section_display": true,
   "toc_window_display": false
  }
 },
 "nbformat": 4,
 "nbformat_minor": 2
}
