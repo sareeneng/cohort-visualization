{
 "cells": [
  {
   "cell_type": "code",
   "execution_count": 1,
   "metadata": {
    "ExecuteTime": {
     "end_time": "2019-10-11T18:08:00.495294Z",
     "start_time": "2019-10-11T18:07:40.317294Z"
    }
   },
   "outputs": [
    {
     "name": "stderr",
     "output_type": "stream",
     "text": [
      " 2019-10-11 14:08:00,457 - DEBUG - backend module://ipykernel.pylab.backend_inline version unknown\n"
     ]
    }
   ],
   "source": [
    "import pandas as pd\n",
    "import csv\n",
    "import os\n",
    "import time\n",
    "from collections import defaultdict\n",
    "import numpy as np\n",
    "import itertools\n",
    "import db_structure\n",
    "import networkx as nx\n",
    "from imp import reload\n",
    "import matplotlib.pyplot as plt\n",
    "import utilities as u\n",
    "from flask import jsonify\n",
    "import logging\n",
    "# import exceptions\n",
    "from pandas.api.types import is_string_dtype\n",
    "from pandas.api.types import is_numeric_dtype\n",
    "\n",
    "logging.basicConfig(format=' %(asctime)s - %(levelname)s - %(message)s')\n",
    "logger = logging.getLogger()\n",
    "logger.setLevel(logging.DEBUG)\n",
    "%load_ext autoreload\n",
    "%aimport -web\n",
    "%autoreload 2"
   ]
  },
  {
   "cell_type": "code",
   "execution_count": 31,
   "metadata": {
    "ExecuteTime": {
     "end_time": "2019-10-11T18:16:19.494294Z",
     "start_time": "2019-10-11T18:16:18.228294Z"
    }
   },
   "outputs": [
    {
     "name": "stderr",
     "output_type": "stream",
     "text": [
      " 2019-10-11 14:16:19,468 - INFO - Loading datasets\\TOPICC\n",
      " 2019-10-11 14:16:19,479 - INFO - Loading arch file: datasets\\TOPICC\\TOPICC.arch\n"
     ]
    }
   ],
   "source": [
    "db = db_structure.DB(os.path.join('datasets', 'TOPICC'))\n",
    "dm = db_structure.DataManager(db)"
   ]
  },
  {
   "cell_type": "code",
   "execution_count": 39,
   "metadata": {
    "ExecuteTime": {
     "end_time": "2019-10-11T18:21:46.549294Z",
     "start_time": "2019-10-11T18:21:45.211294Z"
    }
   },
   "outputs": [
    {
     "name": "stderr",
     "output_type": "stream",
     "text": [
      " 2019-10-11 14:21:46,504 - DEBUG - Loading file datasets\\TOPICC\\DEATH.csv\n"
     ]
    }
   ],
   "source": [
    "all_chosen_idxs = ['260', '294']\n",
    "paths = db.find_paths_multi_columns(all_chosen_idxs)\n",
    "df = dm.get_biggest_joined_df_option_from_paths(paths, filter_col_idxs=all_chosen_idxs)"
   ]
  },
  {
   "cell_type": "code",
   "execution_count": 40,
   "metadata": {
    "ExecuteTime": {
     "end_time": "2019-10-11T18:21:48.556294Z",
     "start_time": "2019-10-11T18:21:47.373294Z"
    }
   },
   "outputs": [
    {
     "name": "stdout",
     "output_type": "stream",
     "text": [
      "58\n"
     ]
    },
    {
     "data": {
      "text/html": [
       "<div>\n",
       "<style scoped>\n",
       "    .dataframe tbody tr th:only-of-type {\n",
       "        vertical-align: middle;\n",
       "    }\n",
       "\n",
       "    .dataframe tbody tr th {\n",
       "        vertical-align: top;\n",
       "    }\n",
       "\n",
       "    .dataframe thead th {\n",
       "        text-align: right;\n",
       "    }\n",
       "</style>\n",
       "<table border=\"1\" class=\"dataframe\">\n",
       "  <thead>\n",
       "    <tr style=\"text-align: right;\">\n",
       "      <th></th>\n",
       "      <th>CardiacSurgTime_[CARDIACSURGERY]</th>\n",
       "      <th>DeathMode_[DEATH]</th>\n",
       "    </tr>\n",
       "  </thead>\n",
       "  <tbody>\n",
       "    <tr>\n",
       "      <td>0</td>\n",
       "      <td>1413</td>\n",
       "      <td>Withdrawal of care</td>\n",
       "    </tr>\n",
       "    <tr>\n",
       "      <td>1</td>\n",
       "      <td>758</td>\n",
       "      <td>Failed resuscitation</td>\n",
       "    </tr>\n",
       "    <tr>\n",
       "      <td>2</td>\n",
       "      <td>732</td>\n",
       "      <td>Withdrawal of care</td>\n",
       "    </tr>\n",
       "    <tr>\n",
       "      <td>3</td>\n",
       "      <td>715</td>\n",
       "      <td>Failed resuscitation</td>\n",
       "    </tr>\n",
       "    <tr>\n",
       "      <td>4</td>\n",
       "      <td>919</td>\n",
       "      <td>Withdrawal of care</td>\n",
       "    </tr>\n",
       "  </tbody>\n",
       "</table>\n",
       "</div>"
      ],
      "text/plain": [
       "   CardiacSurgTime_[CARDIACSURGERY]     DeathMode_[DEATH]\n",
       "0                              1413    Withdrawal of care\n",
       "1                               758  Failed resuscitation\n",
       "2                               732    Withdrawal of care\n",
       "3                               715  Failed resuscitation\n",
       "4                               919    Withdrawal of care"
      ]
     },
     "execution_count": 40,
     "metadata": {},
     "output_type": "execute_result"
    }
   ],
   "source": [
    "print(len(df))\n",
    "df.head()"
   ]
  },
  {
   "cell_type": "code",
   "execution_count": 41,
   "metadata": {
    "ExecuteTime": {
     "end_time": "2019-10-11T18:21:51.305294Z",
     "start_time": "2019-10-11T18:21:50.163294Z"
    }
   },
   "outputs": [],
   "source": [
    "filters =  {'260': {'type': 'range', 'filter': {'min': 27, 'max': 2306, 'bins': '10'}}}"
   ]
  },
  {
   "cell_type": "code",
   "execution_count": 42,
   "metadata": {
    "ExecuteTime": {
     "end_time": "2019-10-11T18:21:53.105294Z",
     "start_time": "2019-10-11T18:21:51.908294Z"
    }
   },
   "outputs": [],
   "source": [
    "filters = dm.rewrite_filters(filters)"
   ]
  },
  {
   "cell_type": "code",
   "execution_count": 43,
   "metadata": {
    "ExecuteTime": {
     "end_time": "2019-10-11T18:21:54.473294Z",
     "start_time": "2019-10-11T18:21:53.108294Z"
    }
   },
   "outputs": [
    {
     "data": {
      "text/plain": [
       "{'260': {'type': 'bins',\n",
       "  'filter': [27.0,\n",
       "   254.9,\n",
       "   482.8,\n",
       "   710.7,\n",
       "   938.6,\n",
       "   1166.5,\n",
       "   1394.4,\n",
       "   1622.3,\n",
       "   1850.2,\n",
       "   2078.1,\n",
       "   2306.0]}}"
      ]
     },
     "execution_count": 43,
     "metadata": {},
     "output_type": "execute_result"
    }
   ],
   "source": [
    "filters"
   ]
  },
  {
   "cell_type": "code",
   "execution_count": 44,
   "metadata": {
    "ExecuteTime": {
     "end_time": "2019-10-11T18:21:56.370294Z",
     "start_time": "2019-10-11T18:21:55.173294Z"
    }
   },
   "outputs": [],
   "source": [
    "new_df = dm.filter_df(df, filters)"
   ]
  },
  {
   "cell_type": "code",
   "execution_count": 56,
   "metadata": {
    "ExecuteTime": {
     "end_time": "2019-10-11T18:24:49.346294Z",
     "start_time": "2019-10-11T18:24:48.100294Z"
    }
   },
   "outputs": [
    {
     "data": {
      "text/plain": [
       "CardiacSurgTime_[CARDIACSURGERY]  DeathMode_[DEATH]   \n",
       "(710.7, 938.6)                    Withdrawal of care      19\n",
       "                                  Failed resuscitation    14\n",
       "                                  Limitation of care       1\n",
       "(938.6, 1166.5)                   Failed resuscitation     3\n",
       "                                  Withdrawal of care       3\n",
       "                                  Limitation of care       1\n",
       "(1166.5, 1394.4)                  Withdrawal of care       6\n",
       "                                  Failed resuscitation     5\n",
       "                                  Brain death              1\n",
       "(1394.4, 1622.3)                  Withdrawal of care       4\n",
       "(1622.3, 1850.2)                  Failed resuscitation     1\n",
       "Name: DeathMode_[DEATH], dtype: int64"
      ]
     },
     "execution_count": 56,
     "metadata": {},
     "output_type": "execute_result"
    }
   ],
   "source": [
    "new_df.groupby('CardiacSurgTime_[CARDIACSURGERY]', observed=True)['DeathMode_[DEATH]'].value_counts()"
   ]
  },
  {
   "cell_type": "code",
   "execution_count": null,
   "metadata": {
    "ExecuteTime": {
     "end_time": "2019-10-11T16:21:43.878294Z",
     "start_time": "2019-10-11T16:21:41.864294Z"
    }
   },
   "outputs": [],
   "source": [
    "newer_df = dm.aggregate_df(df=new_df, groupby_col_idxs=groupby_col_idxs, filters=filters)"
   ]
  },
  {
   "cell_type": "code",
   "execution_count": null,
   "metadata": {
    "ExecuteTime": {
     "end_time": "2019-10-11T17:02:42.033294Z",
     "start_time": "2019-10-11T17:02:40.892294Z"
    }
   },
   "outputs": [],
   "source": [
    "from decimal import Decimal as D\n",
    "x = D(123.55235235423)\n",
    "pre_dec, post_dec = str(x).split('.')\n",
    "if len(post_dec) > 2:\n",
    "    x = D(pre_dec + '.' + post_dec[:2])\n",
    "x"
   ]
  },
  {
   "cell_type": "code",
   "execution_count": null,
   "metadata": {
    "ExecuteTime": {
     "end_time": "2019-10-11T17:21:06.782294Z",
     "start_time": "2019-10-11T17:21:04.678294Z"
    }
   },
   "outputs": [],
   "source": [
    "x = pd.DataFrame(columns=['a'])\n",
    "x['b'] = None\n",
    "x"
   ]
  },
  {
   "cell_type": "code",
   "execution_count": null,
   "metadata": {},
   "outputs": [],
   "source": [
    "draw_db = db\n",
    "\n",
    "G = nx.DiGraph()\n",
    "G.add_nodes_from(draw_db.table_names)\n",
    "for table_name in draw_db.table_names:\n",
    "    for sibling in draw_db.find_table_siblings(table_name):\n",
    "        G.add_edge(table_name, sibling)\n",
    "        G.add_edge(sibling, table_name)\n",
    "    for child in draw_db.find_table_children(table_name):\n",
    "        G.add_edge(table_name, child)\n",
    "plt.figure(figsize=(10,10))\n",
    "\n",
    "#draw with networkx built-ins\n",
    "nx.draw_networkx(G, node_shape=\"None\", width=0.2)\n",
    "\n",
    "#OR\n",
    "\n",
    "#draw using pygraphviz\n",
    "#A = nx.nx_agraph.to_agraph(G)\n",
    "#H = nx.nx_agraph.from_agraph(A)\n",
    "#nx.draw_spring(H, node_shape=\"None\", with_labels=True, width=0.2)"
   ]
  }
 ],
 "metadata": {
  "kernelspec": {
   "display_name": "Python 3",
   "language": "python",
   "name": "python3"
  },
  "language_info": {
   "codemirror_mode": {
    "name": "ipython",
    "version": 3
   },
   "file_extension": ".py",
   "mimetype": "text/x-python",
   "name": "python",
   "nbconvert_exporter": "python",
   "pygments_lexer": "ipython3",
   "version": "3.6.5"
  },
  "toc": {
   "base_numbering": 1,
   "nav_menu": {},
   "number_sections": true,
   "sideBar": true,
   "skip_h1_title": false,
   "title_cell": "Table of Contents",
   "title_sidebar": "Contents",
   "toc_cell": false,
   "toc_position": {},
   "toc_section_display": true,
   "toc_window_display": false
  }
 },
 "nbformat": 4,
 "nbformat_minor": 2
}
