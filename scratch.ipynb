{
 "cells": [
  {
   "cell_type": "code",
   "execution_count": 7,
   "metadata": {
    "ExecuteTime": {
     "end_time": "2019-12-16T19:37:37.404229Z",
     "start_time": "2019-12-16T19:37:35.821229Z"
    }
   },
   "outputs": [
    {
     "name": "stdout",
     "output_type": "stream",
     "text": [
      "The autoreload extension is already loaded. To reload it, use:\n",
      "  %reload_ext autoreload\n"
     ]
    }
   ],
   "source": [
    "import pandas as pd\n",
    "import csv\n",
    "import os\n",
    "import time\n",
    "from collections import defaultdict\n",
    "import numpy as np\n",
    "import itertools\n",
    "import db_structure\n",
    "import db_structure_v2\n",
    "import networkx as nx\n",
    "from imp import reload\n",
    "import matplotlib.pyplot as plt\n",
    "import utilities as u\n",
    "from flask import jsonify\n",
    "import logging\n",
    "# import exceptions\n",
    "from pandas.api.types import is_string_dtype\n",
    "from pandas.api.types import is_numeric_dtype\n",
    "\n",
    "logging.basicConfig(format=' %(asctime)s - %(levelname)s - %(message)s')\n",
    "logger = logging.getLogger()\n",
    "logger.setLevel(logging.DEBUG)\n",
    "%load_ext autoreload\n",
    "%aimport -web\n",
    "%autoreload 2"
   ]
  },
  {
   "cell_type": "code",
   "execution_count": null,
   "metadata": {},
   "outputs": [],
   "source": [
    "draw_db = db\n",
    "\n",
    "G = nx.DiGraph()\n",
    "G.add_nodes_from(draw_db.table_names)\n",
    "for table_name in draw_db.table_names:\n",
    "    for sibling in draw_db.find_table_siblings(table_name):\n",
    "        G.add_edge(table_name, sibling)\n",
    "        G.add_edge(sibling, table_name)\n",
    "    for child in draw_db.find_table_children(table_name):\n",
    "        G.add_edge(table_name, child)\n",
    "plt.figure(figsize=(10,10))\n",
    "\n",
    "#draw with networkx built-ins\n",
    "nx.draw_networkx(G, node_shape=\"None\", width=0.2)\n",
    "\n",
    "#OR\n",
    "\n",
    "#draw using pygraphviz\n",
    "#A = nx.nx_agraph.to_agraph(G)\n",
    "#H = nx.nx_agraph.from_agraph(A)\n",
    "#nx.draw_spring(H, node_shape=\"None\", with_labels=True, width=0.2)"
   ]
  },
  {
   "cell_type": "code",
   "execution_count": 79,
   "metadata": {
    "ExecuteTime": {
     "end_time": "2019-12-17T15:45:25.371229Z",
     "start_time": "2019-12-17T15:45:23.338229Z"
    }
   },
   "outputs": [],
   "source": [
    "x = db_structure_v2.DBMaker(directory_path='datasets\\\\TOPICC')"
   ]
  },
  {
   "cell_type": "code",
   "execution_count": 82,
   "metadata": {
    "ExecuteTime": {
     "end_time": "2019-12-17T15:46:33.655229Z",
     "start_time": "2019-12-17T15:46:10.041229Z"
    }
   },
   "outputs": [
    {
     "name": "stderr",
     "output_type": "stream",
     "text": [
      " 2019-12-17 10:46:11,758 - INFO - Writing CARDIACPROCEDURES to db\n",
      " 2019-12-17 10:46:12,960 - INFO - Writing CARDIACSURGERY to db\n",
      " 2019-12-17 10:46:13,493 - INFO - Writing CAREPROCESSES to db\n",
      " 2019-12-17 10:46:14,491 - INFO - Writing CATASTROPHICEVENTS to db\n",
      " 2019-12-17 10:46:14,812 - INFO - Writing CPR to db\n",
      " 2019-12-17 10:46:15,080 - INFO - Writing DEATH to db\n",
      " 2019-12-17 10:46:15,417 - INFO - Writing HOSPITALADMIT to db\n",
      " 2019-12-17 10:46:17,540 - INFO - Writing HOSPITALADMIT_CE to db\n",
      " 2019-12-17 10:46:18,304 - INFO - Writing HOSPITALDISCHARGE to db\n",
      " 2019-12-17 10:46:20,488 - INFO - Writing LIMITOFCARE to db\n",
      " 2019-12-17 10:46:21,024 - INFO - Writing PHYSIOSTATUS to db\n",
      " 2019-12-17 10:46:24,772 - INFO - Writing PICUADMIT to db\n",
      " 2019-12-17 10:46:26,916 - INFO - Writing PICUADMIT_ADMITSECONDDX to db\n",
      " 2019-12-17 10:46:27,811 - INFO - Writing PICUADMIT_AHD to db\n",
      " 2019-12-17 10:46:28,329 - INFO - Writing PICUADMIT_CHD to db\n",
      " 2019-12-17 10:46:28,763 - INFO - Writing PICUADMIT_CHRONICDX to db\n",
      " 2019-12-17 10:46:29,917 - INFO - Writing PICUDISCHARGE to db\n",
      " 2019-12-17 10:46:31,689 - INFO - Writing PICUDISCHARGE_DISCHRONICDX to db\n",
      " 2019-12-17 10:46:32,088 - INFO - Writing PICUDISCHARGE_DISSECONDDX to db\n",
      " 2019-12-17 10:46:32,598 - INFO - Writing SURGERY to db\n",
      " 2019-12-17 10:46:33,647 - INFO - Done writing to TOPICC.db\n"
     ]
    }
   ],
   "source": [
    "x.create_db()"
   ]
  },
  {
   "cell_type": "code",
   "execution_count": null,
   "metadata": {},
   "outputs": [],
   "source": []
  }
 ],
 "metadata": {
  "kernelspec": {
   "display_name": "Python 3",
   "language": "python",
   "name": "python3"
  },
  "language_info": {
   "codemirror_mode": {
    "name": "ipython",
    "version": 3
   },
   "file_extension": ".py",
   "mimetype": "text/x-python",
   "name": "python",
   "nbconvert_exporter": "python",
   "pygments_lexer": "ipython3",
   "version": "3.6.5"
  },
  "toc": {
   "base_numbering": 1,
   "nav_menu": {},
   "number_sections": true,
   "sideBar": true,
   "skip_h1_title": false,
   "title_cell": "Table of Contents",
   "title_sidebar": "Contents",
   "toc_cell": false,
   "toc_position": {},
   "toc_section_display": true,
   "toc_window_display": false
  }
 },
 "nbformat": 4,
 "nbformat_minor": 2
}
