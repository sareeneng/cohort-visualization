{
 "cells": [
  {
   "cell_type": "code",
   "execution_count": 1,
   "metadata": {},
   "outputs": [],
   "source": [
    "import pandas as pd\n",
    "import csv\n",
    "import os\n",
    "import time\n",
    "from collections import defaultdict\n",
    "import numpy as np\n",
    "import itertools\n",
    "import db_structure\n",
    "import networkx as nx\n",
    "from imp import reload\n",
    "import matplotlib.pyplot as plt\n",
    "import utilities as u\n",
    "%load_ext autoreload\n",
    "%autoreload 2"
   ]
  },
  {
   "cell_type": "code",
   "execution_count": 7,
   "metadata": {},
   "outputs": [],
   "source": [
    "DB = db_structure.DB('sample2')"
   ]
  },
  {
   "cell_type": "code",
   "execution_count": null,
   "metadata": {},
   "outputs": [],
   "source": [
    "DB.assign_fk(table_1_name='employees', table_2_name='customers', column_1='employeeNumber', column_2='salesRepEmployeeNum')\n",
    "DB.assign_fk(table_1_name='orders', table_2_name='customers', column_1='customerNum', column_2='customerNumber')\n",
    "DB.assign_fk(table_1_name='products', table_2_name='productlines', column_1='productLine', column_2='ProductLine')"
   ]
  },
  {
   "cell_type": "code",
   "execution_count": null,
   "metadata": {},
   "outputs": [],
   "source": [
    "DB.assign_fk(table_1_name='amz_book', table_2_name='book', column_1='book_id', column_2='id')\n",
    "DB.assign_fk(table_1_name='amz_listing', table_2_name='purchases', column_1='purchase_id', column_2='id')\n",
    "DB.assign_fk(table_1_name='amz_listing', table_2_name='book', column_1='book_id', column_2='id')\n",
    "DB.assign_fk(table_1_name='amz_pricing_history', table_2_name='amz_listing', column_1='amz_listing_id', column_2='id')\n",
    "DB.assign_fk(table_1_name='purchases', table_2_name='book', column_1='book_id', column_2='id')"
   ]
  },
  {
   "cell_type": "code",
   "execution_count": 8,
   "metadata": {},
   "outputs": [
    {
     "data": {
      "image/png": "[encoded data removed]",
      "text/plain": [
       "<Figure size 720x720 with 1 Axes>"
      ]
     },
     "metadata": {},
     "output_type": "display_data"
    }
   ],
   "source": [
    "G = nx.DiGraph()\n",
    "G.add_nodes_from(DB.tables.keys())\n",
    "for current_table_name, current_table in DB.tables.items():\n",
    "    for sibling in current_table.get_sibling_names():\n",
    "        G.add_edge(current_table_name, sibling)\n",
    "        G.add_edge(sibling, current_table_name)\n",
    "    for child in current_table.get_children_names():\n",
    "        G.add_edge(current_table_name, child)\n",
    "plt.figure(figsize=(10,10))\n",
    "#pos = nx.spring_layout(G)\n",
    "#nx.set_node_attributes(G, pos, 'pos')\n",
    "nx.draw_networkx(G, font_weight='bold', node_shape=\"None\", width=0.2)\n",
    "#A = nx.nx_agraph.to_agraph(G)\n",
    "#H = nx.nx_agraph.from_agraph(A)\n",
    "#nx.draw_spring(H, node_shape=\"None\", with_labels=True, width=0.2)"
   ]
  },
  {
   "cell_type": "code",
   "execution_count": 28,
   "metadata": {},
   "outputs": [
    {
     "data": {
      "text/plain": [
       "[['D', 'C', 'F'], ['C', 'D', 'C', 'F']]"
      ]
     },
     "execution_count": 28,
     "metadata": {},
     "output_type": "execute_result"
    }
   ],
   "source": [
    "DB.find_paths_multi_tables(['D', 'C', 'F'])"
   ]
  },
  {
   "cell_type": "code",
   "execution_count": 23,
   "metadata": {},
   "outputs": [
    {
     "data": {
      "text/plain": [
       "{'col2': Column col2 in tables {A, D},\n",
       " 'col6': Column col6 in tables {D, C},\n",
       " 'col1': Column col1 in tables {A, C},\n",
       " 'col5': Column col5 in tables {C, F},\n",
       " 'col4': Column col4 in tables {B, E},\n",
       " 'col7': Column col7 in tables {E, F},\n",
       " 'col3': Column col3 in tables {A, B}}"
      ]
     },
     "execution_count": 23,
     "metadata": {},
     "output_type": "execute_result"
    }
   ],
   "source": [
    "DB.common_columns"
   ]
  },
  {
   "cell_type": "code",
   "execution_count": 24,
   "metadata": {},
   "outputs": [
    {
     "data": {
      "text/plain": [
       "{'col1': Column col1 in tables {A, C},\n",
       " 'col2': Column col2 in tables {A, D},\n",
       " 'col3': Column col3 in tables {A, B}}"
      ]
     },
     "execution_count": 24,
     "metadata": {},
     "output_type": "execute_result"
    }
   ],
   "source": [
    "DB.tables['A'].columns"
   ]
  },
  {
   "cell_type": "code",
   "execution_count": 25,
   "metadata": {},
   "outputs": [
    {
     "data": {
      "text/plain": [
       "{'col2': Column col2 in tables {A, D}, 'col6': Column col6 in tables {D, C}}"
      ]
     },
     "execution_count": 25,
     "metadata": {},
     "output_type": "execute_result"
    }
   ],
   "source": [
    "DB.tables['D'].columns"
   ]
  },
  {
   "cell_type": "code",
   "execution_count": 26,
   "metadata": {},
   "outputs": [
    {
     "data": {
      "text/plain": [
       "{'col1': Column col1 in tables {A, C},\n",
       " 'col5': Column col5 in tables {C, F},\n",
       " 'col6': Column col6 in tables {D, C}}"
      ]
     },
     "execution_count": 26,
     "metadata": {},
     "output_type": "execute_result"
    }
   ],
   "source": [
    "DB.tables['C'].columns"
   ]
  },
  {
   "cell_type": "code",
   "execution_count": 27,
   "metadata": {},
   "outputs": [
    {
     "data": {
      "text/plain": [
       "{'col5': Column col5 in tables {C, F},\n",
       " 'col7': Column col7 in tables {E, F},\n",
       " 'col8': Column col8 in tables {F}}"
      ]
     },
     "execution_count": 27,
     "metadata": {},
     "output_type": "execute_result"
    }
   ],
   "source": [
    "DB.tables['F'].columns"
   ]
  },
  {
   "cell_type": "code",
   "execution_count": 33,
   "metadata": {},
   "outputs": [
    {
     "data": {
      "text/plain": [
       "[['A', 'B', 'E', 'F'],\n",
       " ['A', 'B', 'A', 'D', 'C', 'F'],\n",
       " ['A', 'B', 'A', 'C', 'F'],\n",
       " ['B', 'A', 'D', 'C', 'F'],\n",
       " ['B', 'A', 'C', 'F'],\n",
       " ['B', 'A', 'B', 'E', 'F']]"
      ]
     },
     "execution_count": 33,
     "metadata": {},
     "output_type": "execute_result"
    }
   ],
   "source": [
    "colx = DB.tables['A'].columns['col1']\n",
    "coly = DB.tables['B'].columns['col4']\n",
    "colz = DB.tables['F'].columns['col8']\n",
    "DB.find_paths_multi_columns([colx, coly, colz])"
   ]
  },
  {
   "cell_type": "code",
   "execution_count": null,
   "metadata": {},
   "outputs": [],
   "source": []
  }
 ],
 "metadata": {
  "kernelspec": {
   "display_name": "Python 3",
   "language": "python",
   "name": "python3"
  },
  "language_info": {
   "codemirror_mode": {
    "name": "ipython",
    "version": 3
   },
   "file_extension": ".py",
   "mimetype": "text/x-python",
   "name": "python",
   "nbconvert_exporter": "python",
   "pygments_lexer": "ipython3",
   "version": "3.6.5"
  }
 },
 "nbformat": 4,
 "nbformat_minor": 2
}
